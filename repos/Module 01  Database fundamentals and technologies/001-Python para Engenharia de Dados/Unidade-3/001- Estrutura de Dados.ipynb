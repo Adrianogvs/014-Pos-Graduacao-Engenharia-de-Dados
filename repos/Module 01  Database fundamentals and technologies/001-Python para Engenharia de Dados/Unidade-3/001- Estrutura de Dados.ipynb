{
 "cells": [
  {
   "attachments": {},
   "cell_type": "markdown",
   "metadata": {},
   "source": [
    "# Python para Engenharia de Dados\n",
    "----"
   ]
  },
  {
   "attachments": {},
   "cell_type": "markdown",
   "metadata": {},
   "source": [
    "### Estrutura de dados\n",
    "\n",
    "* LISTA - list\n",
    "* TUPLA  - tuple\n",
    "* DICIONÁRIO - dict\n",
    "* CONJUNTO - set"
   ]
  },
  {
   "attachments": {},
   "cell_type": "markdown",
   "metadata": {},
   "source": [
    "### Lista - list\n",
    "\n",
    "* Sequência de objetos, separados por vírgula, armazenados dentro de colchetes ( [ ] )\n",
    "* Uma lista vazia é representada por [ ]<br><p>\n",
    "Exemplo:<br>\n",
    "lista = []<br>\n",
    "lista2 = [1, 2, 'Introdução a Python', [1,3,4]]"
   ]
  },
  {
   "cell_type": "code",
   "execution_count": 33,
   "metadata": {},
   "outputs": [
    {
     "name": "stdout",
     "output_type": "stream",
     "text": [
      "<class 'list'>\n"
     ]
    }
   ],
   "source": [
    "lista = []\n",
    "lista2 = [1, 2, 'Introdução a Python', [1,3,4]]\n",
    "print(type(lista)) #<class 'list’>"
   ]
  },
  {
   "cell_type": "code",
   "execution_count": 35,
   "metadata": {},
   "outputs": [
    {
     "name": "stdout",
     "output_type": "stream",
     "text": [
      "1\n",
      "[1, 3, 4]\n",
      "3\n"
     ]
    }
   ],
   "source": [
    "# Os elementos de uma lista são acessados através de seu índice (iniciando em 0)\n",
    "print(lista2[0]) #1\n",
    "print(lista2[3]) #[1,3,4]\n",
    "print(lista2[3][1]) #??"
   ]
  },
  {
   "cell_type": "code",
   "execution_count": 36,
   "metadata": {},
   "outputs": [
    {
     "name": "stdout",
     "output_type": "stream",
     "text": [
      "Concatenação de duas listas: [1, 2, 3, 4, 5, 6]\n"
     ]
    }
   ],
   "source": [
    "lista1 = [1, 2, 3]\n",
    "lista2 = [4, 5, 6]\n",
    "lista3 = lista1 + lista2\n",
    "print('Concatenação de duas listas:', lista3)"
   ]
  },
  {
   "cell_type": "code",
   "execution_count": 37,
   "metadata": {},
   "outputs": [
    {
     "name": "stdout",
     "output_type": "stream",
     "text": [
      "Repetição de elementos de uma lista:  [1, 2, 3, 1, 2, 3, 1, 2, 3]\n"
     ]
    }
   ],
   "source": [
    "lista4 = lista1 * 3\n",
    "print('Repetição de elementos de uma lista: ', lista4)"
   ]
  },
  {
   "cell_type": "code",
   "execution_count": 38,
   "metadata": {},
   "outputs": [
    {
     "name": "stdout",
     "output_type": "stream",
     "text": [
      "Verificando elementos na lista: \n",
      "False\n",
      "False\n"
     ]
    }
   ],
   "source": [
    "ista = [1, 2, 3, 10, 25]\n",
    "print('Verificando elementos na lista: ')\n",
    "print(34 in lista)\n",
    "print(10 in lista)"
   ]
  },
  {
   "cell_type": "code",
   "execution_count": 39,
   "metadata": {},
   "outputs": [
    {
     "name": "stdout",
     "output_type": "stream",
     "text": [
      "Percorrendo a lista...\n",
      "100\n",
      "3\n",
      "Introdução a Python\n",
      "[10, 20, 30]\n"
     ]
    }
   ],
   "source": [
    "# Cria uma lista com vários tipos de dados\n",
    "lista1 = [100, 3, 'Introdução a Python', [10,20,30]]\n",
    "\n",
    "# Imprime uma mensagem de texto\n",
    "print('Percorrendo a lista...')\n",
    "\n",
    "# Loop for para percorrer cada elemento da lista\n",
    "for l in lista1:\n",
    "    # Imprime cada elemento da lista\n",
    "    print(l)\n"
   ]
  },
  {
   "cell_type": "code",
   "execution_count": 41,
   "metadata": {},
   "outputs": [
    {
     "name": "stdout",
     "output_type": "stream",
     "text": [
      "Percorrendo a lista...\n",
      "100\n",
      "3\n",
      "Introdução a Python\n",
      "10\n",
      "20\n",
      "30\n"
     ]
    }
   ],
   "source": [
    "# Cria uma lista com vários tipos de dados\n",
    "lista = [100, 3, 'Introdução a Python', [10,20,30]]\n",
    "\n",
    "# Imprime uma mensagem de texto\n",
    "print('Percorrendo a lista...')\n",
    "\n",
    "# Loop for para percorrer cada elemento da lista\n",
    "for l in lista:\n",
    "    # Verifica se o elemento atual é uma lista\n",
    "    if (isinstance(l, list)):\n",
    "        # Loop for para percorrer cada elemento da lista aninhada\n",
    "        for l2 in l:\n",
    "            # Imprime cada elemento da lista aninhada\n",
    "            print(l2)\n",
    "    else:\n",
    "        # Imprime o elemento se não for uma lista\n",
    "        print(l)\n"
   ]
  },
  {
   "attachments": {},
   "cell_type": "markdown",
   "metadata": {},
   "source": [
    "Esse código cria uma lista chamada lista com vários números inteiros. Em seguida, ele usa a técnica de \"fatiamento\" para obter uma sublista da posição 1 (segundo elemento) até a posição 4 (quinto elemento, que não é incluído) da lista original e a imprime na saída.\n",
    "\n",
    "Depois disso, o código usa novamente a técnica de \"fatiamento\" para obter uma cópia da lista original em ordem inversa, e a imprime na saída.\n",
    "\n",
    "Aqui está uma explicação linha por linha do código:"
   ]
  },
  {
   "cell_type": "code",
   "execution_count": 42,
   "metadata": {},
   "outputs": [
    {
     "name": "stdout",
     "output_type": "stream",
     "text": [
      "Fatiando a lista: [2, 3, 10]\n",
      "Imprimindo a lista em ordem inversa: [25, 10, 3, 2, 1]\n"
     ]
    }
   ],
   "source": [
    "# Cria uma lista com vários números inteiros\n",
    "lista = [1, 2, 3, 10, 25]\n",
    "\n",
    "# Imprime a mensagem de texto e a sublista da posição 1 à posição 4 da lista original\n",
    "print('Fatiando a lista: ' + str(lista[1:4]))\n",
    "\n",
    "# Imprime a mensagem de texto e uma cópia da lista original em ordem inversa\n",
    "print('Imprimindo a lista em ordem inversa: ' + str(lista[::-1]))\n"
   ]
  },
  {
   "cell_type": "code",
   "execution_count": 45,
   "metadata": {},
   "outputs": [
    {
     "name": "stdout",
     "output_type": "stream",
     "text": [
      "Maior elemento da lista:  190\n",
      "Menor elemento da lista:  3\n",
      "Soma dos elementos da lista:  366\n",
      "Quantidade de elementos da lista:  5\n",
      "Média dos elementos da lista:  73.2\n"
     ]
    }
   ],
   "source": [
    "lista = [190, 87, 3, 82, 4]\n",
    "print('Maior elemento da lista: ', max(lista))\n",
    "print('Menor elemento da lista: ', min(lista))\n",
    "print('Soma dos elementos da lista: ', sum(lista))\n",
    "print('Quantidade de elementos da lista: ', len(lista))\n",
    "print('Média dos elementos da lista: ', sum(lista)/len(lista))"
   ]
  },
  {
   "attachments": {},
   "cell_type": "markdown",
   "metadata": {},
   "source": [
    "O código abaixo utiliza a biblioteca NumPy para calcular a média da lista através da função np.mean(), que retorna a média aritmética dos elementos da lista.\n",
    "É importante ressaltar que, para utilizar a biblioteca NumPy, é necessário instalá-la previamente através do gerenciador de pacotes do Python, como o pip."
   ]
  },
  {
   "cell_type": "code",
   "execution_count": 46,
   "metadata": {},
   "outputs": [
    {
     "name": "stdout",
     "output_type": "stream",
     "text": [
      "Média dos elementos da lista utilizando a biblioteca numpy:  73.2\n"
     ]
    }
   ],
   "source": [
    "import numpy as np\n",
    "print('Média dos elementos da lista utilizando a biblioteca numpy: ', np.mean(lista))"
   ]
  },
  {
   "cell_type": "code",
   "execution_count": 47,
   "metadata": {},
   "outputs": [
    {
     "name": "stdout",
     "output_type": "stream",
     "text": [
      "Adicionando itens no final da lista...\n",
      "['Introdução a Python', 'Redes de Computadores']\n",
      "Adicionando item em uma posição específica...\n",
      "['Introdução a Python', 'Banco de Dados', 'Redes de Computadores']\n"
     ]
    }
   ],
   "source": [
    "lista = []\n",
    "print('Adicionando itens no final da lista...')\n",
    "lista.append('Introdução a Python')\n",
    "lista.append('Redes de Computadores')\n",
    "print(lista)\n",
    "print('Adicionando item em uma posição específica...')\n",
    "lista.insert(1, 'Banco de Dados')\n",
    "print(lista)"
   ]
  },
  {
   "attachments": {},
   "cell_type": "markdown",
   "metadata": {},
   "source": [
    "Esses comandos abaixo permitem gerar números aleatórios de diferentes tipos e intervalos. Aqui está uma breve explicação de cada um:\n",
    "\n",
    "random(): gera um número real aleatório entre 0 e 1.<br>\n",
    "uniform(a, b): gera um número real aleatório entre a e b (inclusive).<br>\n",
    "randint(a, b): gera um número inteiro aleatório entre a e b (inclusive).<br>\n",
    "randrange(a, b, c): gera um número inteiro aleatório entre a e b, com um passo de c. Note que o valor b não está incluído no intervalo.<br>\n",
    "Por exemplo, randrange(10, 20, 2) irá gerar um número inteiro aleatório par entre 10 e 18 (ou seja, não inclui o valor 20)."
   ]
  },
  {
   "cell_type": "code",
   "execution_count": 48,
   "metadata": {},
   "outputs": [
    {
     "name": "stdout",
     "output_type": "stream",
     "text": [
      "Gerando número real entre 0 e 1: 0.15569516997103128\n",
      "Gerando número real entre 10 e 20: 17.512690422728884\n",
      "Gerando número inteiro entre 10 e 20: 19\n",
      "Gerando número par entre 10 e 20: 10\n"
     ]
    }
   ],
   "source": [
    "from random import *\n",
    "print ('Gerando número real entre 0 e 1:', random())\n",
    "print ('Gerando número real entre 10 e 20:', uniform(10,20))\n",
    "print ('Gerando número inteiro entre 10 e 20:', randint(10,20))\n",
    "print ('Gerando número par entre 10 e 20:', randrange(10,20,2))"
   ]
  },
  {
   "attachments": {},
   "cell_type": "markdown",
   "metadata": {},
   "source": [
    "Uma ótima maneira de gerar uma lista com números aleatórios! O método sample da biblioteca random é usado para escolher uma amostra aleatória única de tamanho k de uma sequência. No exemplo, estamos gerando uma lista com 10 números aleatórios únicos entre 1 e 100. "
   ]
  },
  {
   "cell_type": "code",
   "execution_count": 49,
   "metadata": {},
   "outputs": [
    {
     "name": "stdout",
     "output_type": "stream",
     "text": [
      "Lista com números aleatórios de 1 a 100:[57, 16, 31, 52, 63, 8, 61, 6, 88, 53]\n"
     ]
    }
   ],
   "source": [
    "from random import sample\n",
    "lista = sample(range(1, 101), 10)\n",
    "print('Lista com números aleatórios de 1 a 100:' + str(lista))"
   ]
  },
  {
   "attachments": {},
   "cell_type": "markdown",
   "metadata": {},
   "source": [
    "O código abaixo une duas listas, lista1 e lista2, utilizando o método extend().\n",
    "\n",
    "A primeira lista é estendida com os elementos da segunda lista, ou seja, a lista2 é acrescentada no final da lista1, resultando em uma lista única contendo todos os elementos de ambas as listas.\n",
    "\n",
    "No exemplo acima, a saída impressa será:"
   ]
  },
  {
   "cell_type": "code",
   "execution_count": 50,
   "metadata": {},
   "outputs": [
    {
     "name": "stdout",
     "output_type": "stream",
     "text": [
      "Juntando duas listas: [1, 2, 5, 7, 3, 6]\n"
     ]
    }
   ],
   "source": [
    "lista1 = [1, 2, 5, 7]\n",
    "lista2 = [3, 6]\n",
    "lista1.extend(lista2)\n",
    "print('Juntando duas listas:', lista1)"
   ]
  },
  {
   "attachments": {},
   "cell_type": "markdown",
   "metadata": {},
   "source": [
    "Esse código abaixo utiliza os métodos count() e index() para operar na lista lista. O método count() conta quantas vezes o número 8 aparece na lista, enquanto o método index() retorna a posição da primeira ocorrência do número 8 na lista. A segunda chamada de index() utiliza um segundo argumento para buscar a primeira ocorrência de 8 a partir da posição 1 da lista."
   ]
  },
  {
   "cell_type": "code",
   "execution_count": 54,
   "metadata": {},
   "outputs": [
    {
     "name": "stdout",
     "output_type": "stream",
     "text": [
      "Removendo o último elemento: 1\n",
      "Removendo o elemento de posição 2: 78\n",
      "Removendo a primeira ocorrência do número 1...\n",
      "[2, 64, 3, 1]\n"
     ]
    }
   ],
   "source": [
    "lista = [1, 2, 78, 64, 3, 1, 1]\n",
    "print('Removendo o último elemento:', lista.pop())\n",
    "print('Removendo o elemento de posição 2:' ,lista.pop(2))\n",
    "print('Removendo a primeira ocorrência do número 1...')\n",
    "lista.remove(1)\n",
    "print(lista)"
   ]
  },
  {
   "attachments": {},
   "cell_type": "markdown",
   "metadata": {},
   "source": [
    "O código abaixo cria uma lista com os elementos [1, 2, 3, 5, 9, 12], em seguida utiliza o método sort() para ordenar os elementos em ordem crescente. Então, utiliza o método reverse() para inverter a ordem dos elementos da lista, resultando na lista [12, 9, 5, 3, 2, 1]."
   ]
  },
  {
   "cell_type": "code",
   "execution_count": 55,
   "metadata": {},
   "outputs": [
    {
     "name": "stdout",
     "output_type": "stream",
     "text": [
      "Lista ordenada: [1, 2, 3, 5, 9, 12]\n",
      "Após inverter a lista: [12, 9, 5, 3, 2, 1]\n"
     ]
    }
   ],
   "source": [
    "lista = [1, 2, 3, 5, 9, 12]\n",
    "lista.sort()\n",
    "print('Lista ordenada:', lista)\n",
    "lista.reverse()\n",
    "print('Após inverter a lista:', lista)"
   ]
  },
  {
   "attachments": {},
   "cell_type": "markdown",
   "metadata": {},
   "source": [
    "O código abaixo cria uma lista chamada lista com os elementos [2, 4, 6, 7, 9, 13, 14]. Em seguida, importa-se o método shuffle do módulo random e aplica esse método à lista lista, o que resulta em uma lista com a ordem aleatória dos elementos. O resultado é impresso na tela através da função print."
   ]
  },
  {
   "cell_type": "code",
   "execution_count": 56,
   "metadata": {},
   "outputs": [
    {
     "name": "stdout",
     "output_type": "stream",
     "text": [
      "Embaralhando a lista:  [4, 6, 13, 2, 14, 9, 7]\n"
     ]
    }
   ],
   "source": [
    "lista = [2, 4, 6, 7, 9, 13, 14]\n",
    "from random import shuffle\n",
    "shuffle(lista)\n",
    "print('Embaralhando a lista: ', lista)"
   ]
  },
  {
   "attachments": {},
   "cell_type": "markdown",
   "metadata": {},
   "source": [
    "O código abaixo define uma lista de strings com três elementos e utiliza o método join() para concatenar os elementos da lista separando-os por um ponto e vírgula (;). O resultado é uma única string contendo todos os elementos da lista separados pelo caractere especificado. No caso do código, a saída será: \"Introdução a Python; Banco de Dados; Redes de Computadores\"."
   ]
  },
  {
   "cell_type": "code",
   "execution_count": 58,
   "metadata": {},
   "outputs": [
    {
     "name": "stdout",
     "output_type": "stream",
     "text": [
      "Utilizando o join com listas:  Introdução a Python;Banco de Dados;Redes de Computadores\n"
     ]
    }
   ],
   "source": [
    "lista = ['Introdução a Python', 'Banco de Dados', 'Redes de Computadores']\n",
    "print('Utilizando o join com listas: ', ';'.join(lista))"
   ]
  },
  {
   "attachments": {},
   "cell_type": "markdown",
   "metadata": {},
   "source": [
    "O código abaixo recebe uma string 'Exemplo do uso de split em Python' e utiliza o método split() para separar as palavras da frase em uma lista, utilizando o espaço como separador padrão. O resultado é uma lista ['Exemplo', 'do', 'uso', 'de', 'split', 'em', 'Python'] que é impressa junto com o tipo de dado da lista (que deve ser 'list')."
   ]
  },
  {
   "cell_type": "code",
   "execution_count": 59,
   "metadata": {},
   "outputs": [
    {
     "name": "stdout",
     "output_type": "stream",
     "text": [
      "<class 'list'>\n",
      "['Exemplo', 'do', 'uso', 'de', 'split', 'em', 'Python']\n"
     ]
    }
   ],
   "source": [
    "frase = 'Exemplo do uso de split em Python'\n",
    "lista = frase.split()\n",
    "print(type(lista))\n",
    "print(lista)"
   ]
  },
  {
   "attachments": {},
   "cell_type": "markdown",
   "metadata": {},
   "source": [
    "---\n",
    "### Tupla - tuple\n",
    "\n",
    "Uma tupla em Python é uma estrutura de dados semelhante a uma lista, mas é imutável, o que significa que não pode ser modificada após a sua criação. Uma tupla é definida entre parênteses e seus elementos são separados por vírgulas.\n",
    "\n",
    "Por exemplo:"
   ]
  },
  {
   "cell_type": "code",
   "execution_count": 63,
   "metadata": {},
   "outputs": [],
   "source": [
    "tupla = (1, 2, 3, 4, 5)"
   ]
  },
  {
   "attachments": {},
   "cell_type": "markdown",
   "metadata": {},
   "source": [
    "Uma tupla pode conter elementos de diferentes tipos, incluindo outras tuplas. Também é possível criar uma tupla vazia usando apenas parênteses, como:"
   ]
  },
  {
   "cell_type": "code",
   "execution_count": 65,
   "metadata": {},
   "outputs": [],
   "source": [
    "tupla_vazia = ()"
   ]
  },
  {
   "attachments": {},
   "cell_type": "markdown",
   "metadata": {},
   "source": [
    "Tuplas podem ser acessadas e iteradas de maneira semelhante a listas, usando índices e loops for. Além disso, tuplas podem ser usadas em operações de atribuição múltipla, onde cada elemento da tupla é atribuído a uma variável separada por vírgulas, como:"
   ]
  },
  {
   "cell_type": "code",
   "execution_count": 67,
   "metadata": {},
   "outputs": [],
   "source": [
    "# Neste exemplo, as variáveis a, b e c recebem, respectivamente, os valores 1, 2 e 3 da tupla tupla.\n",
    "tupla = (1, 2, 3)\n",
    "a, b, c = tupla"
   ]
  },
  {
   "attachments": {},
   "cell_type": "markdown",
   "metadata": {},
   "source": [
    "O código abaixo tenta atribuir o valor 90 ao segundo elemento da tupla. No entanto, como as tuplas são imutáveis em Python, essa operação não é permitida e resultará em um erro de tipo \"TypeError: 'tuple' object does not support item assignment\". Isso significa que a tentativa de modificar um elemento de uma tupla resultará em um erro, pois as tuplas são projetadas para serem imutáveis e os elementos de uma tupla não podem ser modificados depois de criados. Para modificar uma tupla, é necessário criar uma nova tupla com os valores desejados."
   ]
  },
  {
   "cell_type": "code",
   "execution_count": 68,
   "metadata": {},
   "outputs": [
    {
     "ename": "TypeError",
     "evalue": "'tuple' object does not support item assignment",
     "output_type": "error",
     "traceback": [
      "\u001b[1;31m---------------------------------------------------------------------------\u001b[0m",
      "\u001b[1;31mTypeError\u001b[0m                                 Traceback (most recent call last)",
      "\u001b[1;32m~\\AppData\\Local\\Temp\\ipykernel_19236\\1924058373.py\u001b[0m in \u001b[0;36m<module>\u001b[1;34m\u001b[0m\n\u001b[0;32m      1\u001b[0m \u001b[0mtupla\u001b[0m \u001b[1;33m=\u001b[0m \u001b[1;33m(\u001b[0m\u001b[1;36m1\u001b[0m\u001b[1;33m,\u001b[0m \u001b[1;36m2\u001b[0m\u001b[1;33m,\u001b[0m \u001b[1;36m78\u001b[0m\u001b[1;33m,\u001b[0m \u001b[1;36m64\u001b[0m\u001b[1;33m,\u001b[0m \u001b[1;36m3\u001b[0m\u001b[1;33m)\u001b[0m\u001b[1;33m\u001b[0m\u001b[1;33m\u001b[0m\u001b[0m\n\u001b[1;32m----> 2\u001b[1;33m \u001b[0mtupla\u001b[0m\u001b[1;33m[\u001b[0m\u001b[1;36m1\u001b[0m\u001b[1;33m]\u001b[0m \u001b[1;33m=\u001b[0m \u001b[1;36m90\u001b[0m\u001b[1;33m\u001b[0m\u001b[1;33m\u001b[0m\u001b[0m\n\u001b[0m",
      "\u001b[1;31mTypeError\u001b[0m: 'tuple' object does not support item assignment"
     ]
    }
   ],
   "source": [
    "tupla = (1, 2, 78, 64, 3)\n",
    "tupla[1] = 90"
   ]
  },
  {
   "attachments": {},
   "cell_type": "markdown",
   "metadata": {},
   "source": [
    "O código abaixo define uma tupla tupla com os elementos (1, 2, 78, 64, 3, 98, 736).\n",
    "A linha print(tupla[0]) imprime o primeiro elemento da tupla, que é 1.\n",
    "A linha print(tupla[1:4]) imprime um slice da tupla que começa no índice 1 (segundo elemento) e termina no índice 4 (quarto elemento), mas não inclui o elemento no índice 4. Portanto, o resultado é uma nova tupla com os elementos (2, 78, 64)."
   ]
  },
  {
   "cell_type": "code",
   "execution_count": 70,
   "metadata": {},
   "outputs": [
    {
     "name": "stdout",
     "output_type": "stream",
     "text": [
      "1\n",
      "(2, 78, 64)\n"
     ]
    }
   ],
   "source": [
    "tupla = (1, 2, 78, 64, 3, 98, 736)\n",
    "print(tupla[0])\n",
    "print(tupla[1:4])"
   ]
  },
  {
   "attachments": {},
   "cell_type": "markdown",
   "metadata": {},
   "source": [
    "O código abaixo primeiro cria uma nova tupla que é formada pelos elementos da tupla original a partir do índice 2 (78, 64, 3), seguidos pelo elemento 50. A tupla original não é modificada, mas sim criada uma nova tupla com os elementos desejados.\n",
    "\n",
    "O segundo código cria uma nova tupla que é formada pela repetição dos elementos da tupla original entre os índices 1 e 3, três vezes. Portanto, a nova tupla será (2, 78, 64, 2, 78, 64, 2, 78, 64). Assim como no primeiro código, a tupla original não é modificada, mas sim criada uma nova tupla com os elementos desejados."
   ]
  },
  {
   "cell_type": "code",
   "execution_count": 71,
   "metadata": {},
   "outputs": [
    {
     "name": "stdout",
     "output_type": "stream",
     "text": [
      "(78, 64, 3, 50)\n",
      "(2, 78, 2, 78, 2, 78)\n"
     ]
    }
   ],
   "source": [
    "tupla = (1, 2, 78, 64, 3)\n",
    "tupla = tupla[2:] + (50,) #uma nova tupla é criada\n",
    "print(tupla)\n",
    "tupla = (1, 2, 78, 64, 3)\n",
    "tupla = tupla[1:3] * 3 #uma nova tupla é criada\n",
    "print(tupla)"
   ]
  },
  {
   "attachments": {},
   "cell_type": "markdown",
   "metadata": {},
   "source": [
    "O código abaixo apresenta algumas aplicações práticas da tupla em Python.\n",
    "\n",
    "Na primeira aplicação, é mostrado como é possível realizar uma atribuição simultânea de valores a partir de uma tupla. Nesse caso, é trocado o valor de duas variáveis utilizando a sintaxe a, b = b, a.\n",
    "\n",
    "Na segunda aplicação, é apresentada uma função que retorna uma tupla com o maior e o menor valor entre dois números. Em seguida, é mostrado como é possível armazenar essa tupla em uma variável e também como é possível atribuir cada valor da tupla a uma variável separada."
   ]
  },
  {
   "cell_type": "code",
   "execution_count": 72,
   "metadata": {},
   "outputs": [],
   "source": [
    "# Atribuição de tupla:\n",
    "a, b = b, a"
   ]
  },
  {
   "cell_type": "code",
   "execution_count": 73,
   "metadata": {},
   "outputs": [],
   "source": [
    "# Valores de retorno em funçõers:\n",
    "\n",
    "def maiorMenor(a, b):\n",
    "    if (a > b):\n",
    "        return (a, b)\n",
    "    else:\n",
    "        return (b, a)"
   ]
  },
  {
   "cell_type": "code",
   "execution_count": 74,
   "metadata": {},
   "outputs": [
    {
     "name": "stdout",
     "output_type": "stream",
     "text": [
      "<class 'tuple'>\n",
      "Tupla:  (8, 5)\n",
      "Maior: 8 Menor: 5\n"
     ]
    }
   ],
   "source": [
    "tupla = maiorMenor(5, 8)\n",
    "print(type(tupla))\n",
    "maior, menor = maiorMenor(5, 8)\n",
    "print('Tupla: ', tupla)\n",
    "print('Maior:',maior, 'Menor:', menor)"
   ]
  },
  {
   "attachments": {},
   "cell_type": "markdown",
   "metadata": {},
   "source": [
    "---\n",
    "## Dicionário - dict\n",
    "\n",
    "Um dicionário em Python é uma coleção de objetos que consiste em pares chave-valor. A chave é uma string, um número ou outro objeto imutável que é usado como identificador exclusivo para cada valor no dicionário. Já o valor pode ser qualquer objeto, incluindo uma lista, tupla, conjunto, dicionário ou até mesmo uma função.\n",
    "\n",
    "Na definição do dicionário, cada par chave-valor é separado por vírgula e cada par é separado por dois pontos. Os pares são então colocados entre chaves para formar o dicionário completo.\n",
    "\n",
    "No exemplo apresentado, o dicionário é definido com as chaves sendo números inteiros e os valores sendo strings representando os nomes de alunos. A função type() é usada para verificar o tipo do objeto (no caso, um dicionário) e a função len() é usada para verificar o número de pares chave-valor no dicionário."
   ]
  },
  {
   "attachments": {},
   "cell_type": "markdown",
   "metadata": {},
   "source": [
    "Criando um dicionário vazio e adicionando valores a ele:"
   ]
  },
  {
   "cell_type": "code",
   "execution_count": 75,
   "metadata": {},
   "outputs": [
    {
     "name": "stdout",
     "output_type": "stream",
     "text": [
      "{'chave1': 'valor1', 'chave2': 'valor2', 'chave3': 'valor3'}\n"
     ]
    }
   ],
   "source": [
    "# Criando um dicionário vazio\n",
    "dicionario = {}\n",
    "\n",
    "# Adicionando valores ao dicionário\n",
    "dicionario['chave1'] = 'valor1'\n",
    "dicionario['chave2'] = 'valor2'\n",
    "dicionario['chave3'] = 'valor3'\n",
    "\n",
    "print(dicionario)\n",
    "# Saída: {'chave1': 'valor1', 'chave2': 'valor2', 'chave3': 'valor3'}"
   ]
  },
  {
   "attachments": {},
   "cell_type": "markdown",
   "metadata": {},
   "source": [
    "Criando um dicionário com valores iniciais:"
   ]
  },
  {
   "cell_type": "code",
   "execution_count": 76,
   "metadata": {},
   "outputs": [
    {
     "name": "stdout",
     "output_type": "stream",
     "text": [
      "{'chave1': 'valor1', 'chave2': 'valor2', 'chave3': 'valor3'}\n"
     ]
    }
   ],
   "source": [
    "# Criando um dicionário com valores iniciais\n",
    "dicionario = {'chave1': 'valor1', 'chave2': 'valor2', 'chave3': 'valor3'}\n",
    "\n",
    "print(dicionario)\n",
    "# Saída: {'chave1': 'valor1', 'chave2': 'valor2', 'chave3': 'valor3'}"
   ]
  },
  {
   "attachments": {},
   "cell_type": "markdown",
   "metadata": {},
   "source": [
    "Acessando valores do dicionário:"
   ]
  },
  {
   "cell_type": "code",
   "execution_count": 78,
   "metadata": {},
   "outputs": [
    {
     "name": "stdout",
     "output_type": "stream",
     "text": [
      "valor2\n"
     ]
    }
   ],
   "source": [
    "# Acessando valores do dicionário\n",
    "dicionario = {'chave1': 'valor1', 'chave2': 'valor2', 'chave3': 'valor3'}\n",
    "\n",
    "print(dicionario['chave2'])\n",
    "# Saída: 'valor2'"
   ]
  },
  {
   "attachments": {},
   "cell_type": "markdown",
   "metadata": {},
   "source": [
    "Modificando valores do dicionário:"
   ]
  },
  {
   "cell_type": "code",
   "execution_count": 79,
   "metadata": {},
   "outputs": [
    {
     "name": "stdout",
     "output_type": "stream",
     "text": [
      "{'chave1': 'valor1', 'chave2': 'novo_valor', 'chave3': 'valor3'}\n"
     ]
    }
   ],
   "source": [
    "# Modificando valores do dicionário\n",
    "dicionario = {'chave1': 'valor1', 'chave2': 'valor2', 'chave3': 'valor3'}\n",
    "\n",
    "dicionario['chave2'] = 'novo_valor'\n",
    "\n",
    "print(dicionario)\n",
    "# Saída: {'chave1': 'valor1', 'chave2': 'novo_valor', 'chave3': 'valor3'}"
   ]
  },
  {
   "attachments": {},
   "cell_type": "markdown",
   "metadata": {},
   "source": [
    "Removendo um par chave-valor do dicionário:"
   ]
  },
  {
   "cell_type": "code",
   "execution_count": 81,
   "metadata": {},
   "outputs": [
    {
     "name": "stdout",
     "output_type": "stream",
     "text": [
      "{'chave1': 'valor1', 'chave3': 'valor3'}\n"
     ]
    }
   ],
   "source": [
    "# Removendo um par chave-valor do dicionário\n",
    "dicionario = {'chave1': 'valor1', 'chave2': 'valor2', 'chave3': 'valor3'}\n",
    "\n",
    "del dicionario['chave2']\n",
    "\n",
    "print(dicionario)\n",
    "# Saída: {'chave1': 'valor1', 'chave3': 'valor3'}"
   ]
  },
  {
   "attachments": {},
   "cell_type": "markdown",
   "metadata": {},
   "source": [
    "Percorrendo um dicionário:"
   ]
  },
  {
   "cell_type": "code",
   "execution_count": 82,
   "metadata": {},
   "outputs": [
    {
     "name": "stdout",
     "output_type": "stream",
     "text": [
      "chave1 valor1\n",
      "chave2 valor2\n",
      "chave3 valor3\n"
     ]
    }
   ],
   "source": [
    "# Percorrendo um dicionário\n",
    "dicionario = {'chave1': 'valor1', 'chave2': 'valor2', 'chave3': 'valor3'}\n",
    "\n",
    "for chave, valor in dicionario.items():\n",
    "    print(chave, valor)\n",
    "\n",
    "# Saída:\n",
    "# chave1 valor1\n",
    "# chave2 valor2\n",
    "# chave3 valor3"
   ]
  },
  {
   "attachments": {},
   "cell_type": "markdown",
   "metadata": {},
   "source": [
    "Nesse código abaixo, é criado um dicionário chamado \"alunos\" com quatro pares de chave-valor, onde cada chave é um número de matrícula e cada valor é o nome de um aluno.\n",
    "\n",
    "Em seguida, são apresentadas algumas operações com o dicionário. A função \"keys()\" é utilizada para obter uma lista com as chaves do dicionário, e a função \"values()\" é utilizada para obter uma lista com os valores do dicionário. Ambas as listas são impressas na tela com as funções \"print()\".\n",
    "\n",
    "Por fim, é mostrado um exemplo de como percorrer todos os pares de chave-valor do dicionário utilizando um loop \"for\". A variável \"chave\" assume o valor de cada chave do dicionário em cada iteração, e o valor correspondente é acessado utilizando a sintaxe \"alunos[chave]\". Os valores são impressos na tela utilizando a função \"print()\"."
   ]
  },
  {
   "cell_type": "code",
   "execution_count": 83,
   "metadata": {},
   "outputs": [
    {
     "name": "stdout",
     "output_type": "stream",
     "text": [
      "Chaves do dicionário:  dict_keys([3035, 8965, 7674, 6758])\n",
      "Valores do dicionário:  dict_values(['Alexandre', 'Maria', 'Carlos', 'José'])\n",
      "Percorrendo o dicionário...\n",
      "Chave:  3035 Valor:  Alexandre\n",
      "Chave:  8965 Valor:  Maria\n",
      "Chave:  7674 Valor:  Carlos\n",
      "Chave:  6758 Valor:  José\n"
     ]
    }
   ],
   "source": [
    "alunos = {3035: 'Alexandre', 8965: 'Maria', 7674: 'Carlos', 6758: 'José'}\n",
    "print('Chaves do dicionário: ', alunos.keys())\n",
    "print('Valores do dicionário: ', alunos.values())\n",
    "print('Percorrendo o dicionário...')\n",
    "\n",
    "for chave in alunos:\n",
    "    print('Chave: ', chave, 'Valor: ', alunos[chave])"
   ]
  },
  {
   "attachments": {},
   "cell_type": "markdown",
   "metadata": {},
   "source": [
    "O código apresenta algumas aplicações práticas do dicionário em Python.\n",
    "\n",
    "Na primeira aplicação, é criado um dicionário chamado contatos contendo nomes de pessoas como chaves e seus respectivos números de telefone como valores. Em seguida, é mostrado como acessar um valor específico no dicionário, usando a chave correspondente, através da sintaxe contatos['Maria'].\n",
    "\n",
    "Na segunda aplicação, é utilizado um loop for para percorrer todas as chaves do dicionário e imprimir seus respectivos valores. Isso é feito usando a sintaxe for chave in contatos: e acessando o valor correspondente a cada chave usando a sintaxe contatos[chave].\n",
    "\n",
    "Por fim, é utilizado o método get() do dicionário para acessar um valor específico. Caso a chave não exista no dicionário, o método retorna o valor padrão especificado, que é \"Contato não encontrado\" nesse caso. Essa abordagem evita que um erro seja produzido quando a chave não existe no dicionário."
   ]
  },
  {
   "cell_type": "code",
   "execution_count": 85,
   "metadata": {},
   "outputs": [
    {
     "name": "stdout",
     "output_type": "stream",
     "text": [
      "{'Alexandre': '998549398', 'Maria': '975748315', 'Carlos': '975634251', 'José': '996453261'}\n",
      "975748315\n",
      "Nome: Alexandre Telefone: 998549398\n",
      "Contato não encontrado\n",
      "Nome: Maria Telefone: 975748315\n",
      "Contato não encontrado\n",
      "Nome: Carlos Telefone: 975634251\n",
      "Contato não encontrado\n",
      "Nome: José Telefone: 996453261\n",
      "Contato não encontrado\n"
     ]
    }
   ],
   "source": [
    "contatos = {'Alexandre': '998549398', 'Maria': '975748315', 'Carlos': '975634251',\n",
    "'José': '996453261'}\n",
    "print(contatos)\n",
    "print(contatos['Maria'])\n",
    "for chave in contatos:\n",
    "    print('Nome:', chave, 'Telefone:', contatos[chave])\n",
    "    print(contatos.get('Sílvia', 'Contato não encontrado')) #para não produzir erro"
   ]
  },
  {
   "attachments": {},
   "cell_type": "markdown",
   "metadata": {},
   "source": [
    "Este código apresenta algumas aplicações práticas do dicionário em Python.\n",
    "\n",
    "Primeiramente, é criado um dicionário chamado \"alunos\" com quatro elementos, cada um consistindo de uma chave (o RA do aluno) e um valor (o nome do aluno).\n",
    "\n",
    "Em seguida, é realizado um loop usando o método \".items()\" do dicionário para percorrer todas as chaves e valores do dicionário. Dentro do loop, é impresso o RA e o nome de cada aluno.\n",
    "\n",
    "Depois, é definida uma variável chamada \"search\" com o valor 'alexandre'. Em seguida, é realizado um segundo loop usando o método \".items()\" do dicionário para percorrer todas as chaves e valores do dicionário novamente. Dentro deste loop, é realizada uma verificação para ver se o nome do aluno em questão corresponde à busca realizada na variável \"search\" (ignorando maiúsculas e minúsculas). Se a busca for encontrada, é impresso o RA e o nome correspondente.\n",
    "\n",
    "Em resumo, o código mostra como percorrer um dicionário usando loops, como acessar as chaves e valores do dicionário e como realizar buscas dentro do dicionário."
   ]
  },
  {
   "cell_type": "code",
   "execution_count": 86,
   "metadata": {},
   "outputs": [
    {
     "name": "stdout",
     "output_type": "stream",
     "text": [
      "RA: 3035 nome: Alexandre\n",
      "RA: 8965 nome: Maria\n",
      "RA: 7674 nome: Carlos\n",
      "RA: 6758 nome: Lucas\n",
      "Procurando Alexandre...\n",
      "RA: 3035 nome: Alexandre\n"
     ]
    }
   ],
   "source": [
    "alunos = {3035: 'Alexandre', 8965: 'Maria', 7674: 'Carlos', 6758: 'Lucas'}\n",
    "for RA, nome in alunos.items():\n",
    "    print('RA:', RA, 'nome:', nome)\n",
    "    search = 'alexandre'\n",
    "print('Procurando Alexandre...')\n",
    "for RA, nome in alunos.items():\n",
    "    if (search.lower() == nome.lower()):\n",
    "        print('RA:', RA, 'nome:', nome)"
   ]
  },
  {
   "attachments": {},
   "cell_type": "markdown",
   "metadata": {},
   "source": [
    "O código define um dicionário chamado contatos que contém informações de contato de algumas pessoas.\n",
    "\n",
    "A chave do dicionário é o nome da pessoa e o valor é outro dicionário contendo informações como telefone e endereço. No caso específico de Maria, seu valor é um dicionário com as chaves 'TEL' e 'END'.\n",
    "\n",
    "O primeiro print exibe o valor da chave 'Maria', que é um dicionário contendo as informações de telefone e endereço. O segundo print exibe apenas o valor da chave 'TEL' dentro do dicionário de Maria, que é o número de telefone '975748315'."
   ]
  },
  {
   "cell_type": "code",
   "execution_count": 87,
   "metadata": {},
   "outputs": [
    {
     "name": "stdout",
     "output_type": "stream",
     "text": [
      "{'TEL': '975748315', 'END': 'Rua x, 100'}\n",
      "975748315\n"
     ]
    }
   ],
   "source": [
    "contatos = {\n",
    "'Alexandre': '998549398',\n",
    "'Maria': {'TEL': '975748315', 'END': 'Rua x, 100'},\n",
    "'Carlos': '975634251',\n",
    "'José': '996453261'\n",
    "}\n",
    "print(contatos['Maria'])\n",
    "print(contatos['Maria']['TEL'])"
   ]
  },
  {
   "attachments": {},
   "cell_type": "markdown",
   "metadata": {},
   "source": [
    "Nesse exemplo abaixo, é criada uma lista chamada lista_contatos, que contém quatro tuplas com informações de contatos. Em seguida, essa lista é transformada em um dicionário utilizando a função dict().\n",
    "\n",
    "A função dict() é utilizada para criar um dicionário a partir de uma sequência de pares chave-valor. No caso desse exemplo, cada tupla da lista contém um nome e um número de telefone, e a função dict() é utilizada para transformar esses pares em um dicionário, onde o nome é a chave e o número de telefone é o valor correspondente.\n",
    "\n",
    "Ao imprimir o dicionário resultante, é possível ver que a lista foi transformada com sucesso em um dicionário."
   ]
  },
  {
   "cell_type": "code",
   "execution_count": 88,
   "metadata": {},
   "outputs": [
    {
     "name": "stdout",
     "output_type": "stream",
     "text": [
      "Transformando uma lista em dicionário:  {'Alexandre': '9065868', 'Pedro': '998679999', 'Maria': '987654321', 'Carla': '988777788'}\n"
     ]
    }
   ],
   "source": [
    "lista_contatos = [('Alexandre', '9065868'), ('Pedro', '998679999'),\n",
    "('Maria', '987654321'), ('Carla', '988777788')]\n",
    "contatos = dict(lista_contatos)\n",
    "print('Transformando uma lista em dicionário: ', contatos)"
   ]
  },
  {
   "attachments": {},
   "cell_type": "markdown",
   "metadata": {},
   "source": [
    "Esse código abaixo apresenta algumas operações de atualização e inserção de itens em um dicionário em Python.\n",
    "\n",
    "Na primeira parte do código, o dicionário alunos é criado com quatro itens, sendo a chave o RA do aluno e o valor o nome do aluno. Em seguida, é feita uma atualização no valor correspondente à chave 3035, alterando o nome do aluno de \"Alexandre\" para \"Alexandre Siqueira\".\n",
    "\n",
    "Na segunda parte do código, são feitas operações de inserção de novos alunos no dicionário. Primeiramente, é inserido um novo aluno com a chave 9856 e o valor 'Sílvia'. Em seguida, são inseridos dois novos alunos utilizando o método update, que recebe um dicionário como argumento, contendo as novas chaves e valores a serem inseridos no dicionário. Ao final das inserções, é impresso o dicionário atualizado com todos os alunos."
   ]
  },
  {
   "cell_type": "code",
   "execution_count": 89,
   "metadata": {},
   "outputs": [
    {
     "name": "stdout",
     "output_type": "stream",
     "text": [
      "Atualizando um aluno...\n",
      "{3035: 'Alexandre Siqueira', 8965: 'Maria', 7674: 'Carlos', 6758: 'José'}\n",
      "Inserindo alunos...\n",
      "{3035: 'Alexandre Siqueira', 8965: 'Maria', 7674: 'Carlos', 6758: 'José', 9856: 'Sílvia', 6895: 'Pedro', 8676: 'Julia'}\n"
     ]
    }
   ],
   "source": [
    "alunos = {3035: 'Alexandre', 8965: 'Maria', 7674: 'Carlos', 6758: 'José'}\n",
    "print('Atualizando um aluno...')\n",
    "alunos[3035] = 'Alexandre Siqueira'\n",
    "print(alunos)\n",
    "print('Inserindo alunos...')\n",
    "alunos[9856] = 'Sílvia'\n",
    "alunos.update({6895: 'Pedro', 8676: 'Julia'})\n",
    "print(alunos)"
   ]
  },
  {
   "attachments": {},
   "cell_type": "markdown",
   "metadata": {},
   "source": [
    "O código abaixo cria um dicionário chamado alunos com quatro pares de chave-valor, onde as chaves são números inteiros que representam o RA (registro acadêmico) dos alunos e os valores são os nomes dos alunos.\n",
    "\n",
    "Em seguida, o código remove o aluno com RA igual a 3035 usando o comando del alunos[3035]. Depois, o código tenta remover o aluno com RA igual a 1000 usando o comando alunos.pop(1000,'Aluno não encontrado!'), que tenta remover o elemento do dicionário com chave igual a 1000. Se esse elemento não existir, a mensagem 'Aluno não encontrado!' é retornada. No entanto, como não há nenhum elemento com chave igual a 1000 no dicionário, a mensagem é impressa na tela. Note que a variável alunos não é modificada pela chamada a pop() neste caso."
   ]
  },
  {
   "cell_type": "code",
   "execution_count": 90,
   "metadata": {},
   "outputs": [
    {
     "name": "stdout",
     "output_type": "stream",
     "text": [
      "Removendo o aluno 3035...\n",
      "Tentando remover o aluno 1000...\n",
      "Aluno não encontrado!\n"
     ]
    }
   ],
   "source": [
    "alunos = {3035: 'Alexandre', 8965: 'Maria', 7674: 'Carlos', 6758: 'Lucas'}\n",
    "print('Removendo o aluno 3035...')\n",
    "del alunos[3035]\n",
    "alunos\n",
    "print('Tentando remover o aluno 1000...')\n",
    "print(alunos.pop(1000,'Aluno não encontrado!'))"
   ]
  },
  {
   "attachments": {},
   "cell_type": "markdown",
   "metadata": {},
   "source": [
    "O código abaixo apresenta um exemplo de aplicação da biblioteca json em conjunto com a biblioteca requests. A função requests.get() é utilizada para realizar uma requisição HTTP na URL especificada e obter os dados no formato JSON contidos na resposta da requisição. A função json.loads() é utilizada para converter o conteúdo JSON em um objeto Python.\n",
    "\n",
    "No exemplo apresentado, a URL utilizada contém dados sobre filmes em formato JSON. A variável filmes recebe o conteúdo JSON convertido para um objeto Python. Em seguida, é feito um loop pela lista de filmes e cada filme é impresso na tela. Depois, o primeiro filme é armazenado na variável filme, que é do tipo dict. A função type() é utilizada para mostrar o tipo do objeto filme."
   ]
  },
  {
   "cell_type": "code",
   "execution_count": null,
   "metadata": {},
   "outputs": [],
   "source": [
    "import json\n",
    "import requests\n",
    "response = requests.get(\"https://raw.githubusercontent.com/prust/wikipedia-movie-data/master/movies.json\")\n",
    "filmes = json.loads(response.text)\n",
    "for filme in filmes:\n",
    "    print(filme)\n",
    "    filme = filmes[0]\n",
    "print(filme)\n",
    "print(type(filme))"
   ]
  },
  {
   "attachments": {},
   "cell_type": "markdown",
   "metadata": {},
   "source": [
    "---\n",
    "### Conjunto - set\n"
   ]
  },
  {
   "attachments": {},
   "cell_type": "markdown",
   "metadata": {},
   "source": [
    "Um conjunto (set) é uma coleção de itens desordenada que não pode conter elementos duplicados. É parcialmente imutável, o que significa que você pode adicionar ou remover elementos, mas não pode alterar um item específico.\n",
    "\n",
    "Conjuntos são geralmente usados com operações matemáticas de união, interseção e diferença simétrica. Por exemplo, você pode usar conjuntos para remover duplicatas de uma lista ou verificar quais elementos duas listas têm em comum.\n",
    "\n",
    "Na sintaxe Python, um conjunto pode ser definido usando chaves {} ou usando a função set(). No exemplo apresentado, conjunto_1 e conjunto_2 são conjuntos equivalentes, mas definidos de maneiras diferentes. A função type() é usada para verificar o tipo de dados do conjunto, que é \"set\" neste caso.\n",
    "\n",
    "Exemplo:"
   ]
  },
  {
   "cell_type": "code",
   "execution_count": 93,
   "metadata": {},
   "outputs": [
    {
     "name": "stdout",
     "output_type": "stream",
     "text": [
      "{40, 10, 20, 30}\n",
      "{40, 10, 20, 30}\n"
     ]
    }
   ],
   "source": [
    "conjunto_1 = {10, 20, 30, 40, 40}\n",
    "conjunto_2 = set([10,20,30,40,40])\n",
    "print(conjunto_1)  # {40, 10, 20, 30}\n",
    "print(conjunto_2)  # {40, 10, 20, 30}"
   ]
  },
  {
   "attachments": {},
   "cell_type": "markdown",
   "metadata": {},
   "source": [
    "Nesse exemplo, dois conjuntos são criados. Note que mesmo o número 40 aparecendo duas vezes, ele só é adicionado uma vez em cada conjunto. Isso ocorre porque conjuntos não permitem elementos duplicados."
   ]
  },
  {
   "cell_type": "code",
   "execution_count": 95,
   "metadata": {},
   "outputs": [
    {
     "name": "stdout",
     "output_type": "stream",
     "text": [
      "{1, 2, 3, 4, 5, 6}\n",
      "{3, 4}\n",
      "{1, 2, 5, 6}\n"
     ]
    }
   ],
   "source": [
    "# Nesse exemplo, dois conjuntos são criados e é realizada a união, interseção e diferença simétrica entre eles. Note que os resultados das operações são conjuntos que contêm elementos únicos e desordenados.\n",
    "conjunto_a = {1, 2, 3, 4}\n",
    "conjunto_b = {3, 4, 5, 6}\n",
    "print(conjunto_a.union(conjunto_b))  # {1, 2, 3, 4, 5, 6}\n",
    "print(conjunto_a.intersection(conjunto_b))  # {3, 4}\n",
    "print(conjunto_a.symmetric_difference(conjunto_b))  # {1, 2, 5, 6}"
   ]
  },
  {
   "attachments": {},
   "cell_type": "markdown",
   "metadata": {},
   "source": [
    "Criação de um conjunto:\n",
    "\n",
    "O conjunto é criado utilizando chaves {} ou a função set(). Os elementos do conjunto são separados por vírgulas. O conjunto não pode conter elementos duplicados.\n",
    "\n",
    "Exemplo:"
   ]
  },
  {
   "cell_type": "code",
   "execution_count": 96,
   "metadata": {},
   "outputs": [],
   "source": [
    "conjunto = {10, 20, 30, 10, 20, 20, 10, 40}"
   ]
  },
  {
   "attachments": {},
   "cell_type": "markdown",
   "metadata": {},
   "source": [
    "Adicionando um elemento ao conjunto\n",
    "\n",
    "O método add() é utilizado para adicionar um único elemento ao conjunto. Se o elemento já estiver presente no conjunto, o método não adicionará novamente.\n",
    "\n",
    "Exemplo:"
   ]
  },
  {
   "cell_type": "code",
   "execution_count": 97,
   "metadata": {},
   "outputs": [
    {
     "name": "stdout",
     "output_type": "stream",
     "text": [
      "Adicionando um elemento... {2, 40, 10, 20, 30}\n"
     ]
    }
   ],
   "source": [
    "conjunto.add(2)\n",
    "print(\"Adicionando um elemento...\", conjunto)"
   ]
  },
  {
   "attachments": {},
   "cell_type": "markdown",
   "metadata": {},
   "source": [
    "--"
   ]
  },
  {
   "attachments": {},
   "cell_type": "markdown",
   "metadata": {},
   "source": [
    "Adicionando vários elementos ao conjunto\n",
    "\n",
    "O método update() é utilizado para adicionar vários elementos ao conjunto. Os elementos são passados como uma lista ou outro conjunto. O método remove os elementos duplicados.\n",
    "\n",
    "Exemplo:"
   ]
  },
  {
   "cell_type": "code",
   "execution_count": 98,
   "metadata": {},
   "outputs": [
    {
     "name": "stdout",
     "output_type": "stream",
     "text": [
      "Adicionando vários elementos... {2, 40, 10, 50, 20, 60, 30}\n"
     ]
    }
   ],
   "source": [
    "conjunto.update([40, 50, 60])\n",
    "print(\"Adicionando vários elementos...\", conjunto)"
   ]
  },
  {
   "attachments": {},
   "cell_type": "markdown",
   "metadata": {},
   "source": [
    "Removendo um elemento do conjunto\n",
    "\n",
    "O método discard() é utilizado para remover um elemento específico do conjunto. Se o elemento não estiver presente, o método não fará nada.\n",
    "\n",
    "Exemplo:"
   ]
  },
  {
   "cell_type": "code",
   "execution_count": 99,
   "metadata": {},
   "outputs": [
    {
     "name": "stdout",
     "output_type": "stream",
     "text": [
      "Removendo um elemento... {40, 10, 50, 20, 60, 30}\n"
     ]
    }
   ],
   "source": [
    "conjunto.discard(2)\n",
    "print(\"Removendo um elemento...\", conjunto)"
   ]
  },
  {
   "attachments": {},
   "cell_type": "markdown",
   "metadata": {},
   "source": [
    "Esse código mostra exemplos de operações com conjuntos em Python.\n",
    "\n",
    "Criação de conjuntos:"
   ]
  },
  {
   "cell_type": "code",
   "execution_count": 100,
   "metadata": {},
   "outputs": [],
   "source": [
    "conjunto_1 = {10, 15, 20, 30}\n",
    "conjunto_2 = set([5, 10, 15, 30, 40])"
   ]
  },
  {
   "attachments": {},
   "cell_type": "markdown",
   "metadata": {},
   "source": [
    "O primeiro conjunto é criado utilizando a sintaxe de chaves com os elementos separados por vírgula, enquanto o segundo é criado utilizando a função set() e uma lista de elementos como argumento.\n",
    "\n",
    "União de conjuntos:"
   ]
  },
  {
   "cell_type": "code",
   "execution_count": 101,
   "metadata": {},
   "outputs": [
    {
     "name": "stdout",
     "output_type": "stream",
     "text": [
      "União...\n",
      "{5, 40, 10, 15, 20, 30}\n",
      "{5, 40, 10, 15, 20, 30}\n"
     ]
    }
   ],
   "source": [
    "print(\"União...\")\n",
    "print(conjunto_1 | conjunto_2) # {5, 40, 10, 15, 20, 30}\n",
    "print(conjunto_1.union(conjunto_2)) # {5, 40, 10, 15, 20, 30}"
   ]
  },
  {
   "attachments": {},
   "cell_type": "markdown",
   "metadata": {},
   "source": [
    "A união de conjuntos é realizada utilizando o operador | ou o método union(). O resultado é um conjunto contendo todos os elementos dos dois conjuntos, sem repeti-los.\n",
    "\n",
    "Interseção de conjuntos:"
   ]
  },
  {
   "cell_type": "code",
   "execution_count": 103,
   "metadata": {},
   "outputs": [
    {
     "name": "stdout",
     "output_type": "stream",
     "text": [
      "Interseção...\n",
      "{10, 30, 15}\n",
      "{10, 30, 15}\n"
     ]
    }
   ],
   "source": [
    "# A interseção de conjuntos é realizada utilizando o operador & ou o método intersection(). \n",
    "# O resultado é um conjunto contendo apenas os elementos que estão presentes em ambos os conjuntos.\n",
    "print(\"Interseção...\")\n",
    "print(conjunto_1 & conjunto_2) # {10, 30, 15}\n",
    "print(conjunto_1.intersection(conjunto_2)) # {10, 30, 15}"
   ]
  },
  {
   "attachments": {},
   "cell_type": "markdown",
   "metadata": {},
   "source": [
    "--"
   ]
  },
  {
   "attachments": {},
   "cell_type": "markdown",
   "metadata": {},
   "source": [
    "Podemos explicar o código abaixo da seguinte maneira:\n",
    "\n",
    "Criando conjuntos:"
   ]
  },
  {
   "cell_type": "code",
   "execution_count": 104,
   "metadata": {},
   "outputs": [],
   "source": [
    "conjunto_1 = {10, 15, 20, 30}\n",
    "conjunto_2 = set([5, 10, 15, 30, 40])"
   ]
  },
  {
   "attachments": {},
   "cell_type": "markdown",
   "metadata": {},
   "source": [
    "Neste trecho de código, dois conjuntos são criados: conjunto_1 com os elementos {10, 15, 20, 30} e conjunto_2 com os elementos {5, 10, 15, 30, 40}.\n",
    "\n",
    "Diferença:"
   ]
  },
  {
   "cell_type": "code",
   "execution_count": 105,
   "metadata": {},
   "outputs": [
    {
     "name": "stdout",
     "output_type": "stream",
     "text": [
      "Diferença\n",
      "{20}\n",
      "{20}\n"
     ]
    }
   ],
   "source": [
    "print(\"Diferença\")\n",
    "print(conjunto_1 - conjunto_2) # {20}\n",
    "print(conjunto_1.difference(conjunto_2)) # {20}"
   ]
  },
  {
   "cell_type": "markdown",
   "metadata": {},
   "source": [
    "Neste trecho de código, a diferença entre os conjuntos é calculada e os resultados são impressos na tela. A diferença entre conjunto_1 e conjunto_2 são os elementos que pertencem apenas a conjunto_1 e não a conjunto_2. Portanto, o resultado é o conjunto {20}.\n",
    "\n",
    "Diferença Simétrica:"
   ]
  },
  {
   "cell_type": "code",
   "execution_count": 107,
   "metadata": {},
   "outputs": [
    {
     "name": "stdout",
     "output_type": "stream",
     "text": [
      "Diferença Simétrica\n",
      "{20, 5, 40}\n",
      "{20, 5, 40}\n"
     ]
    }
   ],
   "source": [
    "# Neste trecho de código, a diferença simétrica entre os conjuntos é calculada e os resultados são impressos na tela. \n",
    "# A diferença simétrica entre conjunto_1 e conjunto_2 são os elementos que pertencem a apenas um dos conjuntos. \n",
    "# Portanto, o resultado é o conjunto {20, 5, 40}.\n",
    "print(\"Diferença Simétrica\")\n",
    "print(conjunto_1 ^ conjunto_2) # {20, 5, 40}\n",
    "print(conjunto_1.symmetric_difference(conjunto_2)) # {20, 5, 40}"
   ]
  },
  {
   "cell_type": "code",
   "execution_count": null,
   "metadata": {},
   "outputs": [],
   "source": []
  }
 ],
 "metadata": {
  "kernelspec": {
   "display_name": "base",
   "language": "python",
   "name": "python3"
  },
  "language_info": {
   "codemirror_mode": {
    "name": "ipython",
    "version": 3
   },
   "file_extension": ".py",
   "mimetype": "text/x-python",
   "name": "python",
   "nbconvert_exporter": "python",
   "pygments_lexer": "ipython3",
   "version": "3.9.13 (main, Aug 25 2022, 23:51:50) [MSC v.1916 64 bit (AMD64)]"
  },
  "orig_nbformat": 4,
  "vscode": {
   "interpreter": {
    "hash": "57bc2b6ce032b5f0e93daa91901b7ea38a856826ef43aa9e95b6d3999f5310df"
   }
  }
 },
 "nbformat": 4,
 "nbformat_minor": 2
}
