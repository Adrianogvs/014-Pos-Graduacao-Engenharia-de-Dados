{
 "cells": [
  {
   "cell_type": "markdown",
   "metadata": {},
   "source": [
    "## Exercicios - Python para Engnharia de Dados"
   ]
  },
  {
   "attachments": {},
   "cell_type": "markdown",
   "metadata": {},
   "source": [
    "____\n",
    "\n",
    "### Estruturas de Dados - Listas\n",
    "..."
   ]
  },
  {
   "attachments": {},
   "cell_type": "markdown",
   "metadata": {},
   "source": [
    "#### 1. Crie uma lista contendo 10 valores inteiros aleatórios, entre 1 e 20. Imprima:\n",
    "a. O maior valor, o menor valor, a soma e a média dos valores na lista;<br>\n",
    "b. Ordene a lista, e em seguida, a imprima em ordem crescente;<br>\n",
    "c. Imprima a lista em ordem decrescente;<br>\n",
    "d. Solicite ao usuário que informe um valor e imprima a quantidade de ocorrências do valor na lista. Imprima uma mensagem, caso o valor não se encontre na lista.<br>"
   ]
  },
  {
   "cell_type": "code",
   "execution_count": 10,
   "metadata": {},
   "outputs": [
    {
     "name": "stdout",
     "output_type": "stream",
     "text": [
      "[4, 13, 13, 6, 2, 6, 10, 19, 18, 8]\n"
     ]
    }
   ],
   "source": [
    "# Crie uma lista contendo 10 valores inteiros aleatórios, entre 1 e 20. Imprima:\n",
    "import random\n",
    "\n",
    "valores = [random.randint(1, 20) for i in range(10)]\n",
    "lista = valores\n",
    "print(lista)\n"
   ]
  },
  {
   "cell_type": "code",
   "execution_count": 11,
   "metadata": {},
   "outputs": [
    {
     "name": "stdout",
     "output_type": "stream",
     "text": [
      "O maior valor é: 19.\n",
      "O menor valor é: 2.\n",
      "A soma dos valores é: 99.\n",
      "A media dos valores é: 9.9.\n"
     ]
    }
   ],
   "source": [
    "# O maior valor, o menor valor, a soma e a média dos valores na lista\n",
    "\n",
    "print(f'O maior valor é: {max(lista)}.')\n",
    "print(f'O menor valor é: {min(lista)}.')\n",
    "print(f'A soma dos valores é: {sum(lista)}.')\n",
    "print(f'A media dos valores é: {(sum(lista)/len(lista))}.')"
   ]
  },
  {
   "cell_type": "code",
   "execution_count": 14,
   "metadata": {},
   "outputs": [
    {
     "data": {
      "text/plain": [
       "[2, 4, 6, 6, 8, 10, 13, 13, 18, 19]"
      ]
     },
     "execution_count": 14,
     "metadata": {},
     "output_type": "execute_result"
    }
   ],
   "source": [
    "# Ordene a lista, e em seguida, a imprima em ordem crescente\n",
    "lista.sort()\n",
    "lista"
   ]
  },
  {
   "cell_type": "code",
   "execution_count": 15,
   "metadata": {},
   "outputs": [
    {
     "data": {
      "text/plain": [
       "[19, 18, 13, 13, 10, 8, 6, 6, 4, 2]"
      ]
     },
     "execution_count": 15,
     "metadata": {},
     "output_type": "execute_result"
    }
   ],
   "source": [
    "# Imprima a lista em ordem decrescente\n",
    "lista.reverse()\n",
    "lista"
   ]
  },
  {
   "attachments": {},
   "cell_type": "markdown",
   "metadata": {},
   "source": [
    "#### 2) Crie duas listas com 10 valores inteiros aleatórios (escolha uma faixa qualquer). Crie outras duas listas: uma que contenha a soma dos elementos de mesma posição das duas listas originais, e outra que contenha a multiplicação dos valores de mesma posição. Imprima em seguida as 3 listas.\n"
   ]
  },
  {
   "cell_type": "code",
   "execution_count": 2,
   "metadata": {},
   "outputs": [
    {
     "name": "stdout",
     "output_type": "stream",
     "text": [
      "Primeira Lista: [0, 4, 7, 8, 9, 11, 14, 16, 17, 19]\n",
      "Segunda Lista: [2, 3, 4, 7, 8, 10, 11, 21, 23, 29]\n",
      "Soma dos elementos da mesma posição: [2, 7, 11, 15, 17, 21, 25, 37, 40, 48]\n",
      "Primeira Lista: [0, 4, 7, 8, 9, 11, 14, 16, 17, 19]\n",
      "Segunda Lista: [2, 3, 4, 7, 8, 10, 11, 21, 23, 29]\n",
      "Multiplicação dos elementos da mesma posição: [0, 12, 28, 56, 72, 110, 154, 336, 391, 551]\n"
     ]
    }
   ],
   "source": [
    "import random\n",
    "import numpy as np\n",
    "\n",
    "# Crie duas listas com 10 valores inteiros aleatórios\n",
    "lista1 = random.sample(range(0, 20), 10)\n",
    "lista2 = random.sample(range(0, 30), 10)\n",
    "\n",
    "# Ordenando as listas\n",
    "lista1.sort()\n",
    "lista2.sort()\n",
    "\n",
    "# Utilizando a função sum e zip para somar os elementos das listas na mesma posição\n",
    "soma_elementos = [sum(values) for values in zip(lista1, lista2)]\n",
    "soma_elementos.sort()\n",
    "\n",
    "# Imprimindo a primeira lista, segunda lista e a soma dos elementos na mesma posição\n",
    "print('Primeira Lista:', lista1)\n",
    "print('Segunda Lista:', lista2)\n",
    "print('Soma dos elementos da mesma posição:', soma_elementos)\n",
    "\n",
    "# Utilizando a função prod do numpy e zip para multiplicar os elementos das listas na mesma posição\n",
    "multiplicacao_elementos = [np.prod(values) for values in zip(lista1, lista2)]\n",
    "\n",
    "# Imprimindo a primeira lista, segunda lista e a multiplicação dos elementos na mesma posição\n",
    "print('Primeira Lista:', lista1)\n",
    "print('Segunda Lista:', lista2)\n",
    "print('Multiplicação dos elementos da mesma posição:', multiplicacao_elementos)\n"
   ]
  },
  {
   "attachments": {},
   "cell_type": "markdown",
   "metadata": {},
   "source": [
    "#### 2) Solicite ao usuário que informe um valor e imprima a quantidade de ocorrências do valor na lista. Imprima uma mensagem, caso o valor não se encontre na lista."
   ]
  },
  {
   "cell_type": "code",
   "execution_count": null,
   "metadata": {},
   "outputs": [],
   "source": [
    "# Cria uma lista com alguns valores\n",
    "lista = [1, 2, 3, 4, 5, 2, 3, 1, 4, 5, 6, 7, 8, 9]\n",
    "\n",
    "# Solicita ao usuário que informe um valor\n",
    "try:\n",
    "    valor = int(input(\"Digite um valor: \"))\n",
    "except ValueError:\n",
    "    print('Digite um numero inteiro!')\n",
    "\n",
    "# Usa o método count para contar as ocorrências do valor na lista\n",
    "ocorrencias = lista.count(valor)\n",
    "\n",
    "# Verifica se o valor foi encontrado e imprime a mensagem apropriada\n",
    "if ocorrencias == 0:\n",
    "    print(\"O valor não se encontra na lista.\")\n",
    "else:\n",
    "    print(f\"O valor {valor} ocorre {ocorrencias} vez(es) na lista.\")\n"
   ]
  },
  {
   "attachments": {},
   "cell_type": "markdown",
   "metadata": {},
   "source": [
    "#### 3) Considere a seguinte lista: [10, 20, 30, 30, 30, 40, 10, 20] Faça um programa que exclua todas as ocorrências do número 30 da lista."
   ]
  },
  {
   "cell_type": "code",
   "execution_count": 17,
   "metadata": {},
   "outputs": [
    {
     "name": "stdout",
     "output_type": "stream",
     "text": [
      "[10, 20, 40, 10, 20]\n"
     ]
    }
   ],
   "source": [
    "# Define a lista\n",
    "lista = [10, 20, 30, 30, 30, 40, 10, 20]\n",
    "\n",
    "# Loop para remover todas as ocorrências do número 30\n",
    "while 30 in lista:\n",
    "    lista.remove(30)\n",
    "\n",
    "# Imprime a lista resultante\n",
    "print(lista)\n"
   ]
  },
  {
   "attachments": {},
   "cell_type": "markdown",
   "metadata": {},
   "source": [
    "#### 4) Crie uma lista contendo 10 valores inteiros aleatórios (escolha uma faixa qualquer). Crie outras duas listas: uma para armazenar os valores pares da primeira lista, e outra para armazenar os valores ímpares. Imprima em seguida as 3 listas."
   ]
  },
  {
   "cell_type": "code",
   "execution_count": 29,
   "metadata": {},
   "outputs": [
    {
     "name": "stdout",
     "output_type": "stream",
     "text": [
      "Lista original: [99, 19, 38, 43, 84, 41, 10, 77, 60, 60]\n",
      "Valores pares: [38, 84, 10, 60, 60]\n",
      "Valores ímpares: [99, 19, 43, 41, 77]\n"
     ]
    }
   ],
   "source": [
    "import random\n",
    "\n",
    "# Cria uma lista com 10 valores inteiros aleatórios entre 1 e 100\n",
    "lista = [random.randint(1, 100) for i in range(10)]\n",
    "\n",
    "# Cria listas para armazenar os valores pares e ímpares\n",
    "pares = []\n",
    "impares = []\n",
    "\n",
    "# Loop para separar os valores pares e ímpares na lista original\n",
    "for valor in lista:\n",
    "    if valor % 2 == 0:\n",
    "        pares.append(valor)\n",
    "    else:\n",
    "        impares.append(valor)\n",
    "\n",
    "# Imprime as três listas\n",
    "print(\"Lista original:\", lista)\n",
    "print(\"Valores pares:\", pares)\n",
    "print(\"Valores ímpares:\", impares)\n"
   ]
  },
  {
   "attachments": {},
   "cell_type": "markdown",
   "metadata": {},
   "source": [
    "#### 5) Solicite ao usuário que digite uma data no formato DD/MM/AAAA e imprima a data por extenso. Por exemplo:\n",
    "1/11/2022 – 08 de novembro de 2022<br>\n",
    "(dica: crie uma lista contendo o nome de cada mês do ano)"
   ]
  },
  {
   "cell_type": "code",
   "execution_count": 26,
   "metadata": {},
   "outputs": [
    {
     "name": "stdout",
     "output_type": "stream",
     "text": [
      "Data informada é invalida, digite novamente!\n"
     ]
    }
   ],
   "source": [
    "# Solicita que o usuário digite a data no formato DD/MM/AAAA\n",
    "data = input(\"Digite a data no formato DD/MM/AAAA: \")\n",
    "\n",
    "# Separa os valores do dia, mês e ano em uma lista\n",
    "try:\n",
    "    dia, mes, ano = data.split(\"/\")\n",
    "    if len(dia) != 2 or len(mes) != 2 or len(ano) != 4:\n",
    "        raise ValueError\n",
    "except ValueError:\n",
    "    print('Data informada é invalida, digite novamente!')\n",
    "else:\n",
    "    # Cria uma lista com o nome de cada mês\n",
    "    meses = [\"\", \"janeiro\", \"fevereiro\", \"março\", \"abril\", \"maio\", \"junho\", \n",
    "         \"julho\", \"agosto\", \"setembro\", \"outubro\", \"novembro\", \"dezembro\"]\n",
    "    # Imprime a data por extenso no formato desejado\n",
    "    print(f\"{dia} de {meses[int(mes)]} de {ano}\")\n"
   ]
  },
  {
   "attachments": {},
   "cell_type": "markdown",
   "metadata": {},
   "source": [
    "#### 6) Faça um programa que gere uma lista contendo 6 números aleatórios, de 1 a 60, que serão jogados na Mega-Sena. Em seguida, solicite ao usuário os 6 números sorteados. Imprima a lista contendo os números jogados, e a quantidade de números acertados no sorteio."
   ]
  },
  {
   "cell_type": "code",
   "execution_count": 35,
   "metadata": {},
   "outputs": [
    {
     "name": "stdout",
     "output_type": "stream",
     "text": [
      "Números jogados: [25, 38, 11, 36, 42, 3]\n",
      "Você acertou 1 números!\n",
      "Os números ordenados são: [3, 11, 25, 36, 38, 42].\n"
     ]
    }
   ],
   "source": [
    "import random\n",
    "\n",
    "# Gera uma lista com 6 números aleatórios de 1 a 60\n",
    "numeros_jogados = random.sample(range(1, 61), 6)\n",
    "\n",
    "# Solicita ao usuário os 6 números sorteados\n",
    "numeros_sorteio = []\n",
    "for i in range(6):\n",
    "    while True:\n",
    "        numero = int(input(f\"Digite o {i+1}º número sorteado (entre 1 e 60): \"))\n",
    "        if numero >= 1 and numero <= 60:\n",
    "            numeros_sorteio.append(numero)\n",
    "            break\n",
    "        else:\n",
    "            print('Número invalido, digite novamente!')\n",
    "\n",
    "# Imprime a lista com os números jogados\n",
    "print(f\"Números jogados: {numeros_jogados}\")\n",
    "numeros_jogados.sort()\n",
    "\n",
    "\n",
    "# Conta quantos números foram acertados\n",
    "acertos = 0\n",
    "for numero in numeros_sorteio:\n",
    "    if numero in numeros_jogados:\n",
    "        acertos += 1\n",
    "\n",
    "# Imprime a quantidade de números acertados\n",
    "print(f\"Você acertou {acertos} números!\")\n",
    "print(f'Os números ordenados são: {numeros_jogados}.')"
   ]
  },
  {
   "attachments": {},
   "cell_type": "markdown",
   "metadata": {},
   "source": [
    "____\n",
    "##  Estruturas de Dados - Tupla - Dicionário\n",
    "..."
   ]
  },
  {
   "attachments": {},
   "cell_type": "markdown",
   "metadata": {},
   "source": [
    "#### 1) Crie uma tupla contendo 10 valores determinados por você. Solicite em seguida que o usuário informe um valor. Informe quantas vezes o valor se encontra na tupla. Caso não se encontre, emita uma mensagem informando."
   ]
  },
  {
   "cell_type": "code",
   "execution_count": 43,
   "metadata": {},
   "outputs": [
    {
     "name": "stdout",
     "output_type": "stream",
     "text": [
      "O valor 10 aparece 1 vez(es) na tupla.\n"
     ]
    },
    {
     "data": {
      "text/plain": [
       "(9, 3, 5, 8, 7, 6, 1, 4, 2, 10)"
      ]
     },
     "execution_count": 43,
     "metadata": {},
     "output_type": "execute_result"
    }
   ],
   "source": [
    "import random\n",
    "min = 1\n",
    "max = 10\n",
    "\n",
    "tupla = tuple(random.sample(range(min, max + 1), 10))\n",
    "try:\n",
    "    valor = int(input('Digite um valor: '))\n",
    "    ocorrencias = tupla.count(valor)\n",
    "except ValueError:\n",
    "    print('Valor informado não é um inteiro, digite novamente!')\n",
    "else:\n",
    "    if ocorrencias > 0:\n",
    "        print(f'O valor {valor} aparece {ocorrencias} vez(es) na tupla.')\n",
    "    else:\n",
    "        print(f'O valor {valor} não se encontra na tupla.')\n",
    "tupla"
   ]
  },
  {
   "attachments": {},
   "cell_type": "markdown",
   "metadata": {},
   "source": [
    "#### 2) Leia a matrícula e a nota de 5 alunos da disciplina Python para Engenharia de Dados. Armazene-os em um dicionário. Imprima:\n",
    "a. A média das notas <br>\n",
    "b. O(s) aluno(s) que obtiveram a maior nota <br>\n",
    "c. O(s) aluno(s) que obtiveram a menor nota <br>"
   ]
  },
  {
   "cell_type": "code",
   "execution_count": 48,
   "metadata": {},
   "outputs": [
    {
     "name": "stdout",
     "output_type": "stream",
     "text": [
      "Média das notas: 8.6\n",
      "Aluno(s) com maior nota: ['A11', 'B12']\n",
      "Aluno(s) com menor nota: ['F15']\n"
     ]
    }
   ],
   "source": [
    "alunos = []\n",
    "\n",
    "try:\n",
    "    for i in range(5):\n",
    "        matricula = input(\"Digite a matrícula do aluno: \")\n",
    "        nota = float(input(\"Digite a nota do aluno: \"))\n",
    "        alunos.append((matricula, nota))\n",
    "        \n",
    "except ValueError:\n",
    "    print('Somente valores numéricos são permitidos. Por favor, tente novamente.')\n",
    "else:\n",
    "    soma_notas = 0\n",
    "    for _, nota in alunos:\n",
    "        soma_notas += nota\n",
    "    media = soma_notas / len(alunos)\n",
    "\n",
    "    maior_nota = alunos[0][1]\n",
    "    alunos_maior_nota = []\n",
    "    for matricula, nota in alunos:\n",
    "        if nota > maior_nota:\n",
    "            maior_nota = nota\n",
    "            alunos_maior_nota = [matricula]\n",
    "        elif nota == maior_nota:\n",
    "            alunos_maior_nota.append(matricula)\n",
    "\n",
    "    menor_nota = alunos[0][1]\n",
    "    alunos_menor_nota = []\n",
    "    for matricula, nota in alunos:\n",
    "        if nota < menor_nota:\n",
    "            menor_nota = nota\n",
    "            alunos_menor_nota = [matricula]\n",
    "        elif nota == menor_nota:\n",
    "            alunos_menor_nota.append(matricula)\n",
    "\n",
    "    print(\"Média das notas:\", media)\n",
    "    print(\"Aluno(s) com maior nota:\", alunos_maior_nota)\n",
    "    print(\"Aluno(s) com menor nota:\", alunos_menor_nota)\n"
   ]
  },
  {
   "attachments": {},
   "cell_type": "markdown",
   "metadata": {},
   "source": [
    "#### 3) Crie um dicionário e armazene o nome e e-mail de 5 pessoas informados por você. Em seguida, solicite ao usuário que informe um nome. Imprima o e-mail da pessoa informada, caso exista no dicionário. Caso não exista, emita uma mensagem. Utilize a mesma estratégia para um e-mail informado pelo usuário"
   ]
  },
  {
   "cell_type": "code",
   "execution_count": 49,
   "metadata": {},
   "outputs": [
    {
     "name": "stdout",
     "output_type": "stream",
     "text": [
      "E-mail encontrado: lucas@example.com\n",
      "O nome não foi encontrado na agenda.\n"
     ]
    }
   ],
   "source": [
    "# Criando lista de tuplas com nome e e-mail das pessoas\n",
    "agenda = [\n",
    "    ('João', 'joao@example.com'),\n",
    "    ('Maria', 'maria@example.com'),\n",
    "    ('Pedro', 'pedro@example.com'),\n",
    "    ('Ana', 'ana@example.com'),\n",
    "    ('Lucas', 'lucas@example.com')\n",
    "]\n",
    "\n",
    "# Solicitando ao usuário um nome para buscar o e-mail\n",
    "nome = input(\"Digite um nome para buscar o e-mail: \")\n",
    "\n",
    "# Verificando se o nome está presente na agenda\n",
    "encontrado = False\n",
    "for contato in agenda:\n",
    "    if contato[0] == nome:\n",
    "        print(\"E-mail encontrado:\", contato[1])\n",
    "        encontrado = True\n",
    "        break\n",
    "\n",
    "if not encontrado:\n",
    "    print(\"O e-mail não foi encontrado na agenda.\")\n",
    "email = input(\"Digite um e-mail para buscar o nome: \")\n",
    "encontrado = False\n",
    "\n",
    "for contato in agenda:\n",
    "    if contato[1] == email:\n",
    "        print(\"Nome encontrado:\", contato[0])\n",
    "        encontrado = True\n",
    "        break\n",
    "if not encontrado:\n",
    "    print(\"O nome não foi encontrado na agenda.\")\n"
   ]
  },
  {
   "attachments": {},
   "cell_type": "markdown",
   "metadata": {},
   "source": [
    "#### 4) Crie uma lista contendo 4 objetos:\n",
    "a. Primeiro objeto: Lista contendo os nomes dos dias da semana<br>\n",
    "b. Segundo objeto: Uma tupla contendo 3 valores definidos por você<br>\n",
    "c. Terceiro objeto: Um dicionário contendo 3 pares chave-valor definidos por você<br>\n",
    "d. Quarto objeto: Um número inteiro<br>\n",
    "#### Imprima a lista na tela. Através da variável da lista, imprima o dia Domingo contido na lista. Imprima também o segundo par CHAVE-VALOR do dicionário armazenado na lista"
   ]
  },
  {
   "cell_type": "code",
   "execution_count": 51,
   "metadata": {},
   "outputs": [
    {
     "name": "stdout",
     "output_type": "stream",
     "text": [
      "[['Segunda-feira', 'Terça-feira', 'Quarta-feira', 'Quinta-feira', 'Sexta-feira', 'Sábado', 'Domingo'], ('Maçã', 10, True), {'chave1': 'valor1', 'chave2': 'valor2', 'chave3': 'valor3'}, 42]\n",
      "Domingo\n",
      "('chave2', 'valor2')\n"
     ]
    }
   ],
   "source": [
    "# Primeiro objeto: Lista contendo os nomes dos dias da semana\n",
    "dias_da_semana = ['Segunda-feira', 'Terça-feira', 'Quarta-feira', 'Quinta-feira', 'Sexta-feira', 'Sábado', 'Domingo']\n",
    "\n",
    "# Segundo objeto: Uma tupla contendo 3 valores definidos por você\n",
    "tupla_valores = ('Maçã', 10, True)\n",
    "\n",
    "# Terceiro objeto: Um dicionário contendo 3 pares chave-valor definidos por você\n",
    "dicionario_valores = {'chave1': 'valor1', 'chave2': 'valor2', 'chave3': 'valor3'}\n",
    "\n",
    "# Quarto objeto: Um número inteiro\n",
    "numero_inteiro = 42\n",
    "\n",
    "# Criando a lista com os objetos\n",
    "Lista = [dias_da_semana, tupla_valores, dicionario_valores, numero_inteiro]\n",
    "\n",
    "# Imprimindo a lista na tela\n",
    "print(Lista)\n",
    "\n",
    "# Imprimindo o dia \"Domingo\" contido na lista\n",
    "print(Lista[0][-1])\n",
    "\n",
    "# Convertendo o dict_items em uma lista e imprimindo o segundo par CHAVE-VALOR do dicionário\n",
    "dict_items_list = list(Lista[2].items())\n",
    "print(dict_items_list[1])\n"
   ]
  },
  {
   "attachments": {},
   "cell_type": "markdown",
   "metadata": {},
   "source": [
    "#### 5) Acesse o conteúdo JSON disponível em https://jsonplaceholder.typicode.com/posts e o armazene em uma lista Python. Baseado nesses dados, imprima na tela os títulos e os posts somente do usuário de userId = 10.\n"
   ]
  },
  {
   "cell_type": "code",
   "execution_count": 52,
   "metadata": {},
   "outputs": [
    {
     "name": "stdout",
     "output_type": "stream",
     "text": [
      "Título: aut amet sed\n",
      "Post: libero voluptate eveniet aperiam sed\n",
      "sunt placeat suscipit molestias\n",
      "similique fugit nam natus\n",
      "expedita consequatur consequatur dolores quia eos et placeat\n",
      "---\n",
      "Título: ratione ex tenetur perferendis\n",
      "Post: aut et excepturi dicta laudantium sint rerum nihil\n",
      "laudantium et at\n",
      "a neque minima officia et similique libero et\n",
      "commodi voluptate qui\n",
      "---\n",
      "Título: beatae soluta recusandae\n",
      "Post: dolorem quibusdam ducimus consequuntur dicta aut quo laboriosam\n",
      "voluptatem quis enim recusandae ut sed sunt\n",
      "nostrum est odit totam\n",
      "sit error sed sunt eveniet provident qui nulla\n",
      "---\n",
      "Título: qui qui voluptates illo iste minima\n",
      "Post: aspernatur expedita soluta quo ab ut similique\n",
      "expedita dolores amet\n",
      "sed temporibus distinctio magnam saepe deleniti\n",
      "omnis facilis nam ipsum natus sint similique omnis\n",
      "---\n",
      "Título: id minus libero illum nam ad officiis\n",
      "Post: earum voluptatem facere provident blanditiis velit laboriosam\n",
      "pariatur accusamus odio saepe\n",
      "cumque dolor qui a dicta ab doloribus consequatur omnis\n",
      "corporis cupiditate eaque assumenda ad nesciunt\n",
      "---\n",
      "Título: quaerat velit veniam amet cupiditate aut numquam ut sequi\n",
      "Post: in non odio excepturi sint eum\n",
      "labore voluptates vitae quia qui et\n",
      "inventore itaque rerum\n",
      "veniam non exercitationem delectus aut\n",
      "---\n",
      "Título: quas fugiat ut perspiciatis vero provident\n",
      "Post: eum non blanditiis soluta porro quibusdam voluptas\n",
      "vel voluptatem qui placeat dolores qui velit aut\n",
      "vel inventore aut cumque culpa explicabo aliquid at\n",
      "perspiciatis est et voluptatem dignissimos dolor itaque sit nam\n",
      "---\n",
      "Título: laboriosam dolor voluptates\n",
      "Post: doloremque ex facilis sit sint culpa\n",
      "soluta assumenda eligendi non ut eius\n",
      "sequi ducimus vel quasi\n",
      "veritatis est dolores\n",
      "---\n",
      "Título: temporibus sit alias delectus eligendi possimus magni\n",
      "Post: quo deleniti praesentium dicta non quod\n",
      "aut est molestias\n",
      "molestias et officia quis nihil\n",
      "itaque dolorem quia\n",
      "---\n",
      "Título: at nam consequatur ea labore ea harum\n",
      "Post: cupiditate quo est a modi nesciunt soluta\n",
      "ipsa voluptas error itaque dicta in\n",
      "autem qui minus magnam et distinctio eum\n",
      "accusamus ratione error aut\n",
      "---\n"
     ]
    }
   ],
   "source": [
    "import requests\n",
    "import json\n",
    "\n",
    "# Faz a requisição HTTP para obter o conteúdo JSON\n",
    "response = requests.get('https://jsonplaceholder.typicode.com/posts')\n",
    "data = response.json()\n",
    "\n",
    "# Filtra os posts com userId = 10\n",
    "filtered_posts = [post for post in data if post['userId'] == 10]\n",
    "\n",
    "# Imprime os títulos e os posts\n",
    "for post in filtered_posts:\n",
    "    print('Título:', post['title'])\n",
    "    print('Post:', post['body'])\n",
    "    print('---')\n"
   ]
  },
  {
   "cell_type": "code",
   "execution_count": null,
   "metadata": {},
   "outputs": [],
   "source": []
  }
 ],
 "metadata": {
  "kernelspec": {
   "display_name": "base",
   "language": "python",
   "name": "python3"
  },
  "language_info": {
   "codemirror_mode": {
    "name": "ipython",
    "version": 3
   },
   "file_extension": ".py",
   "mimetype": "text/x-python",
   "name": "python",
   "nbconvert_exporter": "python",
   "pygments_lexer": "ipython3",
   "version": "3.9.13 (main, Aug 25 2022, 23:51:50) [MSC v.1916 64 bit (AMD64)]"
  },
  "orig_nbformat": 4,
  "vscode": {
   "interpreter": {
    "hash": "57bc2b6ce032b5f0e93daa91901b7ea38a856826ef43aa9e95b6d3999f5310df"
   }
  }
 },
 "nbformat": 4,
 "nbformat_minor": 2
}
