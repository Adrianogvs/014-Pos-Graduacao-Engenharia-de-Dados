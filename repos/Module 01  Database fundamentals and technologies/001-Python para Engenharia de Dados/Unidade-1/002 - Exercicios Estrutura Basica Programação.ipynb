{
 "cells": [
  {
   "attachments": {},
   "cell_type": "markdown",
   "metadata": {},
   "source": [
    "## Exercicios - Python para Engnharia de Dados"
   ]
  },
  {
   "attachments": {},
   "cell_type": "markdown",
   "metadata": {},
   "source": [
    "____\n",
    "## Estrutura Condicional\n",
    "..."
   ]
  },
  {
   "attachments": {},
   "cell_type": "markdown",
   "metadata": {},
   "source": [
    "##### 01) Faça um programa que receba dois números e mostre o maior e o menor. Emita uma mensagem, caso os dois sejam iguais"
   ]
  },
  {
   "cell_type": "code",
   "execution_count": 10,
   "metadata": {},
   "outputs": [
    {
     "name": "stdout",
     "output_type": "stream",
     "text": [
      "valor digitados foram: (1, 2).\n",
      "O segundo número é maior que o primeiro número.\n"
     ]
    }
   ],
   "source": [
    "# Atribuição de valor nulo ou vazio para as variaveia n1 e n2\n",
    "n1 = None\n",
    "n2 = None\n",
    "\n",
    "# Tratativas de exceções, em que se digitar valor diferente de interiro, retorna a mensagem \"Você precisa digitar um número inteiro.\"\n",
    "try:\n",
    "    n1 = int(input('Digite o primeiro número: '))\n",
    "    n2 = int(input('Digite o segundo número: '))\n",
    "except ValueError:\n",
    "    print('Você precisa digitar um número inteiro.')\n",
    "else:\n",
    "    # Condicional, em que verifica se o valor de n1 e n2 são diferentes de valor nulos ou vazios\n",
    "    if n1 is not None and n2 is not None:\n",
    "        print(f'valor digitados foram: {n1, n2}.')\n",
    "        \n",
    "        if n1 > n2:\n",
    "            print(f'O primeiro número é maior que o segundo número.')\n",
    "        elif n1 < n2:\n",
    "            print(f'O segundo número é maior que o primeiro número.')\n",
    "        else:\n",
    "            print(f'Os dois números são iguais.')\n",
    "    else:\n",
    "        print('Não foi possível obter os dois números.')"
   ]
  },
  {
   "attachments": {},
   "cell_type": "markdown",
   "metadata": {},
   "source": [
    "##### 02) Faça um programa que receba as duas notas de um aluno, calcule sua média, e que imprima a sua situação."
   ]
  },
  {
   "cell_type": "code",
   "execution_count": 11,
   "metadata": {},
   "outputs": [
    {
     "name": "stdout",
     "output_type": "stream",
     "text": [
      "Notas digitadas: 7.0 e 7.0\n",
      "A soma das notas é: 14.00.\n",
      "A media das notas é: 7.00.\n",
      "Aprovado! :-D\n"
     ]
    }
   ],
   "source": [
    "'''\n",
    "Situação:\n",
    ">= 7 -> Aprovado\n",
    "<  7 -> Reprovado\n",
    "'''\n",
    "\n",
    "nota1 = None\n",
    "nota2 = None\n",
    "\n",
    "\n",
    "try:\n",
    "    nota1 = float(input('Digite a primeira nota: '))\n",
    "    nota2 = float(input('Digite a Segunda nota: '))\n",
    "except ValueError:\n",
    "    print('Você precisa digitar um numero inteiro ou decimal.')\n",
    "else:\n",
    "    if nota1 and nota2 is not None:\n",
    "        print(f'Notas digitadas: {nota1} e {nota2}')\n",
    "        media = (nota1 + nota2) / 2\n",
    "\n",
    "        print(f'A soma das notas é: {nota1 + nota2:.2f}.')\n",
    "        print(f'A media das notas é: {media:.2f}.')\n",
    "\n",
    "        if media >= 7:\n",
    "            print('Aprovado! :-D')\n",
    "        else:\n",
    "            print('Reprovado! ;-(')\n",
    "        \n",
    "    else:\n",
    "        print('Não foi possível obter os dois números.')"
   ]
  },
  {
   "attachments": {},
   "cell_type": "markdown",
   "metadata": {},
   "source": [
    "##### 03) Faça um programa que receba 3 notas de um aluno, calcule e mostre uma mensagem de acordo com sua média apresentada na tabela abaixo:\n",
    "\n",
    "| Média | Mensagem |\n",
    "|---|---|\n",
    "| >= 0 e < 3 | Reprovado|\n",
    "| >= 3 e < 7 | Exame|\n",
    "| >= 7 e <= 10 | Aprovado|"
   ]
  },
  {
   "cell_type": "code",
   "execution_count": 12,
   "metadata": {},
   "outputs": [
    {
     "name": "stdout",
     "output_type": "stream",
     "text": [
      "As notas digitadas foram: (7.0, 5.0, 9.0).\n",
      "A soma destas tres notas são: 21.0.\n",
      "A media desta três notas são: 7.00.\n",
      "Aprovado! :-D\n"
     ]
    }
   ],
   "source": [
    "n1 = n2 = n3 = None\n",
    "\n",
    "try:\n",
    "    n1 = float(input('Digite a primeira nota: '))\n",
    "    n2 = float(input('Digite a segunda nota: '))\n",
    "    n3 = float(input('Digite a terceira nota: '))\n",
    "except ValueError:\n",
    "    print('Você precisa digitar um numero inteiro ou decimal.')\n",
    "else:\n",
    "    if n1 and n2 and n3 is not None:\n",
    "        print(f'As notas digitadas foram: {n1, n2, n3}.')\n",
    "        print(f'A soma destas tres notas são: {n1 + n2 + n3}.')\n",
    "        print(f'A media desta três notas são: {(n1 + n2 + n3)/3:.2f}.')\n",
    "\n",
    "        if (n1 + n2 + n3)/3 >= 0 and (n1 + n2 + n3)/3 < 3:\n",
    "            print('Reprovado! ;-(')\n",
    "        elif (n1 + n2 + n3)/3 >= 3 and (n1 + n2 + n3)/3 < 7:\n",
    "            print('Exame! :-|')\n",
    "        else:\n",
    "            print('Aprovado! :-D')\n",
    "    else:\n",
    "        print('Não foi possível obter os tres números.')"
   ]
  },
  {
   "attachments": {},
   "cell_type": "markdown",
   "metadata": {},
   "source": [
    "##### 04) Dados três valor X,Y,Z, verificar se eles podem ser os comprimentos dos lados de um triângulo. Se eles não formarem um triângulo escrever uma mensagem. Considerar que o comprimento de cada lado de um triângulo é menor que a soma dos outros dois lados."
   ]
  },
  {
   "cell_type": "code",
   "execution_count": 13,
   "metadata": {},
   "outputs": [
    {
     "name": "stdout",
     "output_type": "stream",
     "text": [
      "É possível formar um triangulo.\n"
     ]
    }
   ],
   "source": [
    "x = y = z = None\n",
    "\n",
    "try:\n",
    "    x = float(input('Digite a primeira nota: '))\n",
    "    y = float(input('Digite a segunda nota: '))\n",
    "    z = float(input('Digite a terceira nota: '))\n",
    "except ValueError:\n",
    "    print('Você precisa digitar um numero inteiro ou decimal.')\n",
    "else:\n",
    "    if x < (y + z) and y < (x + z) and z < (x + y):\n",
    "        print('É possível formar um triangulo.')\n",
    "    else:\n",
    "        print('Não é possível formar um triangulo.')"
   ]
  },
  {
   "attachments": {},
   "cell_type": "markdown",
   "metadata": {},
   "source": [
    "#### 5) Faça um programa que leia o sexo e a altura (H - em metros) de uma pessoa, calcule e apresente seu peso ideal utilizando as seguintes fórmulas:\n",
    "Peso ideal (homens) = (72,7 * H) – 58.<br>\n",
    "Peso ideal (mulheres) = (62,1 * H) – 44,7<br>\n",
    "\n",
    "Sugestão: para identificar o sexo da pessoa, solicite ao usuário que informe\n",
    "1 para homens, e 2 para mulheres\n"
   ]
  },
  {
   "cell_type": "code",
   "execution_count": 14,
   "metadata": {},
   "outputs": [
    {
     "name": "stdout",
     "output_type": "stream",
     "text": [
      "O peso ideal é: 76.50\n"
     ]
    }
   ],
   "source": [
    "sexo = altura = peso = None\n",
    "\n",
    "try:\n",
    "    sexo = int(input('Informe o número 1 para sexo Masculino e 2 para sexo Feminino: '))\n",
    "    altura = float(input('Informe a sua altura: '))\n",
    "    peso = float(input('Informe o seu peso: '))\n",
    "except ValueError:\n",
    "     print('Você precisa digitar numero interio para sexo e numeros decimais para altura e peso.')\n",
    "else:      \n",
    "    if sexo == 1:\n",
    "        print(f'O peso ideal é: {(72.7 * altura) - 58:.2f}')\n",
    "    else:\n",
    "        print(f'O peso ideal é: {(62.1 * altura) - 44.7:.2f}')"
   ]
  },
  {
   "attachments": {},
   "cell_type": "markdown",
   "metadata": {},
   "source": [
    "#### 6) Construa um programa para determinar se o indivíduo está com um peso favorável. \n",
    "Essa situação é determinada através do IMC (Índice de Massa Corpórea), que é definida como sendo a relação entre o peso (PESO – em kg) e o quadrado da Altura (ALTURA – em m) do indivíduo. Ou seja, IMC= PESO/ALTURA2 e, a situação do peso é determinada pela tabela abaixo:\n",
    "\n",
    "| Condição | Situação |\n",
    "|---|---|\n",
    "|MC abaixo de 20| Abaixo do peso|\n",
    "|IMC de 20 até 25| Peso Normal|\n",
    "|IMC de 25 até 30| Sobre Peso|\n",
    "|IMC de 30 até 40| Obeso|\n",
    "|IMC de 40 e acima| Obeso Mórbido|"
   ]
  },
  {
   "cell_type": "code",
   "execution_count": 15,
   "metadata": {},
   "outputs": [
    {
     "name": "stdout",
     "output_type": "stream",
     "text": [
      "Seu IMC é 31.26, você está na condição de: Obeso.\n"
     ]
    }
   ],
   "source": [
    "peso = altura = None\n",
    "\n",
    "try:\n",
    "    altura = float(input('Informe a sua altura: '))\n",
    "    peso = float(input('Informe o seu peso: '))\n",
    "except ValueError:\n",
    "     print('Você precisa digitar numeros decimais para peso e altura.')\n",
    "else:  \n",
    "    imc = peso/(altura**2)    \n",
    "    if imc < 20:\n",
    "        print(f'Seu IMC é {imc:.2f}, você está na condição de: Abaixo do peso.')\n",
    "    elif imc >= 20 and imc < 25:\n",
    "        print(f'Seu IMC é {imc:.2f}, você está na condição de: Peso Normal.')\n",
    "    elif imc >= 25 and imc < 30:\n",
    "        print(f'Seu IMC é {imc:.2f}, você está na condição de: Sobre Peso.')\n",
    "    elif imc >= 30 and imc < 40:\n",
    "        print(f'Seu IMC é {imc:.2f}, você está na condição de: Obeso.')\n",
    "    else:\n",
    "        print(f'Seu IMC é {imc:.2f}, você está na condição de: Obeso Morbido.')"
   ]
  },
  {
   "attachments": {},
   "cell_type": "markdown",
   "metadata": {},
   "source": [
    "#### 7) Uma empresa decide dar aumento de 30% aos funcionários com salários inferiores a R$1000,00. \n",
    "Faça um programa que receba o salário do funcionário e mostre o valor do salário reajustado ou uma mensagem, caso o funcionário não tenha direito ao aumento."
   ]
  },
  {
   "cell_type": "code",
   "execution_count": 16,
   "metadata": {},
   "outputs": [
    {
     "name": "stdout",
     "output_type": "stream",
     "text": [
      "O salario foi reajustado de R$107.00 para R$139.10, ou seja, você tem um aumento de 30%.\n"
     ]
    }
   ],
   "source": [
    "salario_minimo = 1000.00\n",
    "salario_recebido = None\n",
    "\n",
    "try:\n",
    "    salario_recebido = float(input('Informe o seu peso: '))\n",
    "except ValueError:\n",
    "     print('Você precisa digitar número decimal.')\n",
    "else:\n",
    "     reajuste = salario_recebido + (salario_recebido *0.30)\n",
    "\n",
    "     if salario_recebido < salario_minimo:\n",
    "          print(f'O salario foi reajustado de R${salario_recebido:.2f} para R${reajuste:.2f}, ou seja, você tem um aumento de 30%.')\n",
    "     else:\n",
    "          print('Seu salario é igual ou maior que R$1.000,00, ou seja, não tem direito ao reajuste salarial.')"
   ]
  },
  {
   "attachments": {},
   "cell_type": "markdown",
   "metadata": {},
   "source": [
    "#### 8) Faça um programa que receba a idade de um nadador e mostre a sua categoria:\n",
    "\n",
    "| Idade | Categoria |\n",
    "|---|---|\n",
    "|até 7 anos |INFANTIL|\n",
    "|8 a 10 anos |JUVENIL|\n",
    "|11 a 15 anos |ADOLESCENTE|\n",
    "|16 a 30 anos |ADULTO|\n",
    "|acima de 30 anos |SENIOR|\n"
   ]
  },
  {
   "cell_type": "code",
   "execution_count": 17,
   "metadata": {},
   "outputs": [
    {
     "name": "stdout",
     "output_type": "stream",
     "text": [
      "SENIOR\n"
     ]
    }
   ],
   "source": [
    "idade = None\n",
    "\n",
    "try:\n",
    "    idade = int(input('Informe a sua idade: '))\n",
    "except ValueError:\n",
    "    print('Você precisa digitar número decimal.')\n",
    "else:\n",
    "    if idade <= 7:\n",
    "        print('INFANTIL')\n",
    "    elif idade <= 10:\n",
    "        print('JUVENIL')\n",
    "    elif idade <= 15:\n",
    "        print('ADOLESCENTE')\n",
    "    elif idade <= 30:\n",
    "        print('ADULTO')\n",
    "    else:\n",
    "        print('SENIOR')"
   ]
  },
  {
   "attachments": {},
   "cell_type": "markdown",
   "metadata": {},
   "source": [
    "#### 9) Faça um programa que leia a idade de uma pessoa e informe a sua classe eleitoral:\n",
    "- não eleitor (abaixo de 16 anos);\n",
    "- eleitor obrigatório (entre a faixa de 18 e menor de 65 anos);\n",
    "- eleitor facultativo (de 16 até 18 anos e maior de 65 anos, inclusive)"
   ]
  },
  {
   "cell_type": "code",
   "execution_count": 18,
   "metadata": {},
   "outputs": [
    {
     "name": "stdout",
     "output_type": "stream",
     "text": [
      "Eleitor obrigatório!\n"
     ]
    }
   ],
   "source": [
    "idade = None\n",
    "\n",
    "try:\n",
    "    idade = int(input('Digite sua idade: '))\n",
    "except ValueError:\n",
    "    print('Você precisa digitar número decimal!')\n",
    "else:\n",
    "    if idade < 16:\n",
    "        print('Não eleitor.')\n",
    "    elif idade >= 18 and idade < 65:\n",
    "        print('Eleitor obrigatório!')\n",
    "    else:\n",
    "        print('Eleitor facultativo!')"
   ]
  },
  {
   "attachments": {},
   "cell_type": "markdown",
   "metadata": {},
   "source": [
    "#### 10) Faça um programa que leia o um número inteiro entre 1 e 7 e escreva o dia da semana correspondente. \n",
    "Caso o usuário digite um número fora desse intervalo, deverá aparecer uma mensagem informando que não existe dia da semana com esse número."
   ]
  },
  {
   "cell_type": "code",
   "execution_count": 19,
   "metadata": {},
   "outputs": [
    {
     "name": "stdout",
     "output_type": "stream",
     "text": [
      "Domingo\n"
     ]
    }
   ],
   "source": [
    "dia_semana = None\n",
    "try:\n",
    "    dia_semana = int(input('Digite entre 1 e 7 para informar o dia da semana'))\n",
    "except ValueError:\n",
    "    print('Você precisa digitar um número inteiro.')\n",
    "else:\n",
    "    if dia_semana == 1:\n",
    "        print('Domingo')\n",
    "    elif dia_semana == 2:\n",
    "         print('Segunda-feira')\n",
    "    elif dia_semana == 3:\n",
    "         print('Terça-feira')\n",
    "    elif dia_semana == 4:\n",
    "         print('Quarta-feira')\n",
    "    elif dia_semana == 5:\n",
    "         print('Quinta-feira')\n",
    "    elif dia_semana == 6:\n",
    "         print('Sexta-feira')\n",
    "    elif dia_semana == 7:\n",
    "         print('Sábado')\n",
    "    else:\n",
    "         print('Não existe dia da semana com esse número')         "
   ]
  },
  {
   "attachments": {},
   "cell_type": "markdown",
   "metadata": {},
   "source": [
    "#### 11) Faça um programa que leia um número inteiro entre 1 e 12 e escrever o mês correspondente. \n",
    "Caso o usuário digite um número fora desse intervalo, deverá aparecer uma mensagem informando que não existe mês com este número."
   ]
  },
  {
   "cell_type": "code",
   "execution_count": 20,
   "metadata": {},
   "outputs": [
    {
     "name": "stdout",
     "output_type": "stream",
     "text": [
      "Março\n"
     ]
    }
   ],
   "source": [
    "mes_atual = None\n",
    "\n",
    "try:\n",
    "    mes_atual = int(input('Informe o numero de 1 a 12: '))\n",
    "    if mes_atual < 1 or mes_atual > 12:\n",
    "        raise ValueError()\n",
    "except ValueError:\n",
    "    print('Você deve digita um número inteiro entre 1 e 12.')\n",
    "else:\n",
    "    if mes_atual == 1:\n",
    "        print('Janeiro')\n",
    "    elif mes_atual == 2:\n",
    "        print('Fevereiro')\n",
    "    elif mes_atual == 3:\n",
    "        print('Março')\n",
    "    elif mes_atual == 4:\n",
    "        print('Abril')\n",
    "    elif mes_atual == 5:\n",
    "        print('Maio')\n",
    "    elif mes_atual == 6:\n",
    "        print('Junho')\n",
    "    elif mes_atual == 7:\n",
    "        print('Julho')\n",
    "    elif mes_atual == 8:\n",
    "        print('Agosto')\n",
    "    elif mes_atual == 9:\n",
    "        print('Setembro')\n",
    "    elif mes_atual == 10:\n",
    "        print('Outubro')\n",
    "    elif mes_atual == 11:\n",
    "        print('Novembro')\n",
    "    else:\n",
    "        print('Dezembro')"
   ]
  },
  {
   "attachments": {},
   "cell_type": "markdown",
   "metadata": {},
   "source": [
    "#### 12) Faça um programa que solicite ao usuário que informe dois números e que exiba o seguinte menu:\n",
    "| Opção | Operação |\n",
    "|---|---|\n",
    "|1 | Somar|\n",
    "|2 | Subtrair|\n",
    "|3 | Multiplicar|\n",
    "|4 | Dividir|\n",
    "|5 | Sair|\n",
    "\n",
    "#### Em seguida, leia a opção escolhida e exiba o resultado de acordo com a opção.\n"
   ]
  },
  {
   "cell_type": "code",
   "execution_count": 21,
   "metadata": {},
   "outputs": [
    {
     "name": "stdout",
     "output_type": "stream",
     "text": [
      "A divisão de 5 por 78 é: 0.0641025641025641.\n"
     ]
    }
   ],
   "source": [
    "n1 = n2 = opcao = None\n",
    "\n",
    "try:\n",
    "    opcao = int(input('Escolha uma opção de 1 a 5: '))\n",
    "    if opcao < 1 or opcao > 5:\n",
    "        raise ValueError()\n",
    "except ValueError:\n",
    "    print('Você deve digita um número inteiro entre 1 e 5.')\n",
    "else:\n",
    "    try:\n",
    "        n1 = int(input('informe um numero inteiro qualquer: '))\n",
    "        n2 = int(input('Informe outro número inteiro qualquer:'))\n",
    "    except ValueError:\n",
    "        print('Você deve digitar um número inteiro valido!')\n",
    "    else:\n",
    "        if opcao == 1:\n",
    "            soma = n1 + n2\n",
    "            print(f'A soma de {n1} por {n2} é: {soma}.')\n",
    "        elif opcao == 2:\n",
    "            subtracao = n1 - n2\n",
    "            print(f'A substração de {n1} por {n2} é: {subtracao}.')\n",
    "        elif opcao == 3:\n",
    "            multiplicar = n1 * n2\n",
    "            print(f'A multiplicação de {n1} por {n2} é: {multiplicar}.')\n",
    "        elif opcao == 4:\n",
    "            try:\n",
    "                dividir = n1 / n2\n",
    "            except ZeroDivisionError:\n",
    "                print('Não existe divisão por zero.')\n",
    "            else:\n",
    "                print(f'A divisão de {n1} por {n2} é: {dividir}.')\n",
    "        else:\n",
    "            print('Opção inválida.')"
   ]
  },
  {
   "attachments": {},
   "cell_type": "markdown",
   "metadata": {},
   "source": [
    "#### 13) Faça um programa para resolver equações de segundo grau (ax² + bx + c = 0)\n",
    "▲ = b² - 4 * a * c\n",
    "1. ▲ < 0 Não existe raiz real\n",
    "2. ▲ = 0 Existe somente uma raiz real\n",
    "3. ▲ > 0 Existem duas raízes reais<br>\n",
    "        x¹ = (-b + sqrt(▲) / (2 * a))<br>\n",
    "        x² = (-b - sqrt(▲) / (2 * a))"
   ]
  },
  {
   "cell_type": "code",
   "execution_count": 22,
   "metadata": {},
   "outputs": [
    {
     "name": "stdout",
     "output_type": "stream",
     "text": [
      "Não existe raiz real.\n"
     ]
    }
   ],
   "source": [
    "from math import sqrt\n",
    "\n",
    "a = None\n",
    "b = None\n",
    "c = None\n",
    "\n",
    "try:\n",
    "    a = float(input(\"Digite o valor de a: \"))\n",
    "    b = float(input(\"Digite o valor de b: \"))\n",
    "    c = float(input(\"Digite o valor de c: \"))\n",
    "except ValueError:\n",
    "    print('Digite um valor válido, sendo inteiro ou decimal.')\n",
    "else:\n",
    "    delta = b ** 2 - 4 * a * c\n",
    "\n",
    "    if delta < 0:\n",
    "        print(\"Não existe raiz real.\")\n",
    "    elif delta == 0:\n",
    "        x = -b / (2 * a)\n",
    "        print(f\"Só existe uma raiz real: {x:.2f}\")\n",
    "    else:\n",
    "        x1 = (-b + sqrt(delta)) / (2 * a)\n",
    "        x2 = (-b - sqrt(delta)) / (2 * a)\n",
    "        print(f\"Existem duas raízes reais: x1={x1:.2f} e x2={x2:.2f}\")"
   ]
  },
  {
   "attachments": {},
   "cell_type": "markdown",
   "metadata": {},
   "source": [
    "____\n",
    "## Estrutura Sequencial\n",
    "..."
   ]
  },
  {
   "attachments": {},
   "cell_type": "markdown",
   "metadata": {},
   "source": [
    "#### 01) Leia três números inteiros e imprima a média aritmética entre esses números."
   ]
  },
  {
   "cell_type": "code",
   "execution_count": 23,
   "metadata": {},
   "outputs": [
    {
     "name": "stdout",
     "output_type": "stream",
     "text": [
      "A media aritimética entre esses os números (5, 6, 4) é de: 5.666666666666667\n"
     ]
    }
   ],
   "source": [
    "n1 = n2 = n3 = None\n",
    "\n",
    "try:\n",
    "    n1 = int(input('Informe o primeiro número: '))\n",
    "    n2 = int(input('Informe o Segundo número: '))\n",
    "    n3 = int(input('Informe o Terceiro número: '))\n",
    "except ValueError:\n",
    "    print('Digite números inteiros:')\n",
    "else:\n",
    "    soma = (n1 + n2 + n2)\n",
    "    print(f'A media aritimética entre esses os números {n1, n2, n3} é de: {soma/3}')"
   ]
  },
  {
   "attachments": {},
   "cell_type": "markdown",
   "metadata": {},
   "source": [
    "#### 02) Faça um programa que receba o ano de nascimento de uma pessoa, o ano atual e imprima:\n",
    "a. A idade da pessoa no ano atual <br>\n",
    "b. A idade que a pessoa terá em 2050"
   ]
  },
  {
   "cell_type": "code",
   "execution_count": 24,
   "metadata": {},
   "outputs": [
    {
     "name": "stdout",
     "output_type": "stream",
     "text": [
      "A sua idade no ano 2023 é: 39.\n",
      "A sua idade em 2050 vai ser de 66\n"
     ]
    }
   ],
   "source": [
    "ano_nascimento = None\n",
    "ano_atual = None\n",
    "\n",
    "try: \n",
    "    ano_nascimento = int(input('Digite o ano de seu nascimento: '))\n",
    "    ano_atual = int(input('Digite o ano atual: '))\n",
    "except ValueError:\n",
    "    print('Digite valor válidos.')\n",
    "else:\n",
    "    print(f'A sua idade no ano {ano_atual} é: {ano_atual-ano_nascimento}.')\n",
    "    print(f'A sua idade em 2050 vai ser de {2050-ano_nascimento}')"
   ]
  },
  {
   "attachments": {},
   "cell_type": "markdown",
   "metadata": {},
   "source": [
    "#### 03) Faça um programa que solicite ao usuário que informe os coeficientes a,b e c de uma equação de segundo grau, e que imprima as raízes desta equação (considere que os valor informados sempre retornarão raízes reais para a equação)\n",
    "\n",
    "ax² + bx + c = 0<br>\n",
    "\n",
    "x1 = -b + sqrt(b² - 4 * a * c) / 2 * a<br>\n",
    "x2 = -b - sqrt(b² - 4 * a * c) / 2 * a"
   ]
  },
  {
   "cell_type": "code",
   "execution_count": 25,
   "metadata": {},
   "outputs": [
    {
     "name": "stdout",
     "output_type": "stream",
     "text": [
      "Erro: o valor dentro da raiz quadrada é negativo.\n"
     ]
    }
   ],
   "source": [
    "from math import sqrt\n",
    "\n",
    "a = None\n",
    "b = None\n",
    "c = None\n",
    "\n",
    "try:\n",
    "    a = int(input('Informe um número para a letra \"a\": '))\n",
    "    b = int(input('Informe um número para a letra \"b\": '))\n",
    "    c = int(input('Informe um número para a letra \"c\": '))\n",
    "except ValueError:\n",
    "        print(\"Valor inválido. Por favor, insira um número inteiro para 'a'.\")\n",
    "else:\n",
    "    delta = b**2 - 4 * a * c\n",
    "\n",
    "    if delta < 0:\n",
    "        print(\"Erro: o valor dentro da raiz quadrada é negativo.\")\n",
    "    else:\n",
    "        x1 = (-b + sqrt(delta)) / (2 * a)\n",
    "        x2 = (-b - sqrt(delta)) / (2 * a)\n",
    "        print(f'x1 = {x1:.2f}')\n",
    "        print(f'x2 = {x2:.2f}')"
   ]
  },
  {
   "attachments": {},
   "cell_type": "markdown",
   "metadata": {},
   "source": [
    "#### 04) Leia um número e imprima a tabuada de multiplicar deste número. Por exemplo, para o número 5:\n",
    "\n",
    "\n",
    "| 1º Fator | Operador | 2º Fator | Igual | Produto |\n",
    "|---|---|---|---|---|\n",
    "| 5 | x | 01 | = | 05 |\n",
    "| 5 | x | 02 | = | 10 |\n",
    "| 5 | x | 03 | = | 15 |\n",
    "| 5 | x | 04 | = | 20 |\n",
    "| 5 | x | 05 | = | 25 |\n",
    "| 5 | x | 06 | = | 30 |\n",
    "| 5 | x | 07 | = | 35 |\n",
    "| 5 | x | 08 | = | 40 |\n",
    "| 5 | x | 09 | = | 45 |\n",
    "| 5 | x | 10 | = | 50 |\n",
    "\n"
   ]
  },
  {
   "cell_type": "code",
   "execution_count": 26,
   "metadata": {},
   "outputs": [
    {
     "name": "stdout",
     "output_type": "stream",
     "text": [
      "5 X  1 = 5\n",
      "5 X  2 = 10\n",
      "5 X  3 = 15\n",
      "5 X  4 = 20\n",
      "5 X  5 = 25\n",
      "5 X  6 = 30\n",
      "5 X  7 = 35\n",
      "5 X  8 = 40\n",
      "5 X  9 = 45\n",
      "5 X 10 = 50\n"
     ]
    }
   ],
   "source": [
    "numero = None\n",
    "\n",
    "try:\n",
    "    numero = int(input('Informe um número: '))\n",
    "except ValueError:\n",
    "    print('Valro informado não é valido!')\n",
    "else:\n",
    "    print(f'{numero} X  1 = {numero *  1}')\n",
    "    print(f'{numero} X  2 = {numero *  2}')\n",
    "    print(f'{numero} X  3 = {numero *  3}')\n",
    "    print(f'{numero} X  4 = {numero *  4}')\n",
    "    print(f'{numero} X  5 = {numero *  5}')\n",
    "    print(f'{numero} X  6 = {numero *  6}')\n",
    "    print(f'{numero} X  7 = {numero *  7}')\n",
    "    print(f'{numero} X  8 = {numero *  8}')\n",
    "    print(f'{numero} X  9 = {numero *  9}')\n",
    "    print(f'{numero} X 10 = {numero * 10}')"
   ]
  },
  {
   "attachments": {},
   "cell_type": "markdown",
   "metadata": {},
   "source": [
    "#### 05) Receba um número positivo, calcule e mostre:\n",
    "a. O número digitado ao quadrado<br>\n",
    "b. O número digitado ao cubo<br>\n",
    "c. A raiz quadrada do número digitado<br>\n",
    "d. A raiz cúbica do número digitado.<br>"
   ]
  },
  {
   "cell_type": "code",
   "execution_count": 27,
   "metadata": {},
   "outputs": [
    {
     "name": "stdout",
     "output_type": "stream",
     "text": [
      "O número digitado ao quadrado é 25.\n",
      "O número digitado ao cubo é 125.\n",
      "A raiz quadrada do número digitado é 2.23606797749979.\n",
      "A raiz cúbica do número digitado é 1.71.\n"
     ]
    }
   ],
   "source": [
    "from math import sqrt\n",
    "\n",
    "numero = None\n",
    "\n",
    "try:\n",
    "    numero = int(input('Digite o número digitado ao quadrado: '))\n",
    "except ValueError:\n",
    "    print('Digite um valor valido!')\n",
    "else:\n",
    "    print(f'O número digitado ao quadrado é {numero ** 2}.')\n",
    "    print(f'O número digitado ao cubo é {numero ** 3}.')\n",
    "    print(f'A raiz quadrada do número digitado é {sqrt(numero)}.')\n",
    "    print(f'A raiz cúbica do número digitado é {numero ** (1/3):.2f}.')"
   ]
  },
  {
   "attachments": {},
   "cell_type": "markdown",
   "metadata": {},
   "source": [
    "#### 6) Todo restaurante, embora por lei não possa obrigar o cliente a pagar, cobra 10% para o garçom. Faça um programa que leia o valor gasto pelo cliente e informe o valor a ser pago de gorjeta."
   ]
  },
  {
   "cell_type": "code",
   "execution_count": 28,
   "metadata": {},
   "outputs": [
    {
     "name": "stdout",
     "output_type": "stream",
     "text": [
      "O valor pago com a taxa de 10% é de: R$38.5.\n"
     ]
    }
   ],
   "source": [
    "valor = None\n",
    "\n",
    "try:\n",
    "    valor = float(input('Informe o valor pago: '))\n",
    "except ValueError:\n",
    "    print('Valor informado não é um número válido.')\n",
    "else:\n",
    "    valor += + (valor * 0.10)\n",
    "    print(f'O valor pago com a taxa de 10% é de: R${valor}.')"
   ]
  },
  {
   "attachments": {},
   "cell_type": "markdown",
   "metadata": {},
   "source": [
    "#### 7) Faça um programa que receba um número inteiro e que imprima o antecessor, o sucessor, o dobro e a metade do número informado."
   ]
  },
  {
   "cell_type": "code",
   "execution_count": 29,
   "metadata": {},
   "outputs": [
    {
     "name": "stdout",
     "output_type": "stream",
     "text": [
      "O sucessor do número informado é 8.\n",
      "O antecessor do número informado é 6.\n",
      "O dobro do número informado é 14.\n",
      "A metade do número informado é 3.5.\n"
     ]
    }
   ],
   "source": [
    "numero = None\n",
    "\n",
    "try:\n",
    "    numero = int(input('Informe um número: '))\n",
    "except ValueError:\n",
    "    print('O valor informado não é válido!')\n",
    "else:\n",
    "    print(f'O sucessor do número informado é {numero + 1}.')\n",
    "    print(f'O antecessor do número informado é {numero - 1}.')\n",
    "    print(f'O dobro do número informado é {numero * 2}.')\n",
    "    print(f'A metade do número informado é {numero / 2}.')"
   ]
  },
  {
   "attachments": {},
   "cell_type": "markdown",
   "metadata": {},
   "source": [
    "#### 8) Faça um programa que, tendo como dados de entrada a altura (H - em metros) de um homem, calcule e apresente seu peso ideal utilizando a seguinte fórmula:\n",
    "Peso ideal (P) = (72,7 * H) – 58"
   ]
  },
  {
   "cell_type": "code",
   "execution_count": 30,
   "metadata": {},
   "outputs": [
    {
     "name": "stdout",
     "output_type": "stream",
     "text": [
      "O seu peso ideal é 76.50.\n"
     ]
    }
   ],
   "source": [
    "altura = None\n",
    "\n",
    "try:\n",
    "    altura = float(input('Informe a sua altara: '))\n",
    "except ValueError:\n",
    "    print('Informe um valor válido!')\n",
    "else:\n",
    "    print(f'O seu peso ideal é {(72.7 * altura)-58:.2f}.')"
   ]
  },
  {
   "attachments": {},
   "cell_type": "markdown",
   "metadata": {},
   "source": [
    "#### 9) Faça o mesmo programa do item anterior, utilizando a fórmula para o cálculo do peso ideal para mulheres:\n",
    "Peso ideal (P) = (62,1 * H) – 44,7"
   ]
  },
  {
   "cell_type": "code",
   "execution_count": 31,
   "metadata": {},
   "outputs": [
    {
     "name": "stdout",
     "output_type": "stream",
     "text": [
      "O seu peso ideal é 60.87.\n"
     ]
    }
   ],
   "source": [
    "altura = None\n",
    "\n",
    "try:\n",
    "    altura = float(input('Informe a sua altara: '))\n",
    "except ValueError:\n",
    "    print('Informe um valor válido!')\n",
    "else:\n",
    "    print(f'O seu peso ideal é {(62.1 * altura)-44.7:.2f}.')"
   ]
  },
  {
   "attachments": {},
   "cell_type": "markdown",
   "metadata": {},
   "source": [
    "#### 10) Faça um programa que leia duas variáveis e troque o conteúdo dessas duas variáveis. Em seguida, imprima o valor dessas variáveis invertido.\n",
    "Exemplo: A = 7, B = 9. Saída: A = 9, B = 7."
   ]
  },
  {
   "cell_type": "code",
   "execution_count": 32,
   "metadata": {},
   "outputs": [
    {
     "name": "stdout",
     "output_type": "stream",
     "text": [
      "Os valor digitados foram: (8, 5).\n",
      "Estes valor trocados ficam assim: (5, 8)\n"
     ]
    }
   ],
   "source": [
    "var1 = None\n",
    "var2 = None\n",
    "\n",
    "try:\n",
    "    var1 = int(input('Informe o número da primeira variavel: '))\n",
    "    var2 = int(input('Informe o número da segunda variavel: '))\n",
    "except ValueError:\n",
    "    print('Os valor informados não são válidos.')\n",
    "else:\n",
    "    print(f'Os valor digitados foram: {var1, var2}.')\n",
    "    var1, var2 = var2, var1\n",
    "    print(f'Estes valor trocados ficam assim: {var1, var2}')"
   ]
  },
  {
   "attachments": {},
   "cell_type": "markdown",
   "metadata": {},
   "source": [
    "#### 11) Considerando uma eleição de apenas dois candidatos, faça um programa que leia o número total de eleitores, o número de votos do primeiro candidato e o número de votos do segundo candidato. Em seguida, o programa deverá apresentar o percentual de votos de cada um dos candidatos e o percentual de votos nulos."
   ]
  },
  {
   "cell_type": "code",
   "execution_count": 33,
   "metadata": {},
   "outputs": [
    {
     "name": "stdout",
     "output_type": "stream",
     "text": [
      "O candidato 1 recebeu 58.00% dos votos, enquanto o candidato 2 recebeu 42.00% dos votos.\n"
     ]
    }
   ],
   "source": [
    "eleitores = None\n",
    "votos1 = None\n",
    "votos2 = None\n",
    "\n",
    "try:\n",
    "    eleitores = int(input('Informe o número total de eleitores: '))\n",
    "    votos1 = int(input('Informe o número de votos do primeiro candidato: '))\n",
    "    votos2 = int(input('Informe o número de votos do segundo candidato: '))\n",
    "    votos_validos = votos1 + votos2\n",
    "    if votos_validos > eleitores:\n",
    "        print('A soma dos votos dos candidatos é maior que o número total de votos válidos.')\n",
    "    else:\n",
    "        # Cálculo e exibição do resultado da eleição\n",
    "        total_votos = eleitores\n",
    "        total_votos1 = votos1 / total_votos * 100\n",
    "        total_votos2 = votos2 / total_votos * 100\n",
    "        print(f'O candidato 1 recebeu {total_votos1:.2f}% dos votos, enquanto o candidato 2 recebeu {total_votos2:.2f}% dos votos.')\n",
    "except ValueError:\n",
    "    print('As informações informadas são inválidas!')"
   ]
  },
  {
   "attachments": {},
   "cell_type": "markdown",
   "metadata": {},
   "source": [
    "____\n",
    "## Estruturas de Repetição - FOR\n",
    "..."
   ]
  },
  {
   "attachments": {},
   "cell_type": "markdown",
   "metadata": {},
   "source": [
    "#### 1) Faça um programa que faça a leitura de 5 valor, e para cada valor, mostre o seu dobro na tela."
   ]
  },
  {
   "cell_type": "code",
   "execution_count": 34,
   "metadata": {},
   "outputs": [
    {
     "name": "stdout",
     "output_type": "stream",
     "text": [
      "Informe 5 valor:\n",
      "O dobro do 1º valor 5 é:  10.\n",
      "O dobro do 2º valor 6 é:  12.\n",
      "O dobro do 3º valor 8 é:  16.\n",
      "O dobro do 4º valor 4 é:  8.\n",
      "O dobro do 5º valor 6 é:  12.\n"
     ]
    }
   ],
   "source": [
    "valor = None\n",
    "\n",
    "try:\n",
    "    print('Informe 5 valor:')\n",
    "    for i in range(5):\n",
    "        valor = int(input(f'Informe o {i+1}º valor: '))\n",
    "        print(f'O dobro do {i+1}º valor {valor} é:  {valor * 2}.')\n",
    "except ValueError:\n",
    "    print('O valor informado não é válido!')    "
   ]
  },
  {
   "attachments": {},
   "cell_type": "markdown",
   "metadata": {},
   "source": [
    "#### 2) Faça um programa que leia um número e que imprima os números ímpares de 1 até o número informado."
   ]
  },
  {
   "cell_type": "code",
   "execution_count": 35,
   "metadata": {},
   "outputs": [
    {
     "name": "stdout",
     "output_type": "stream",
     "text": [
      "1\n",
      "3\n",
      "5\n",
      "7\n"
     ]
    }
   ],
   "source": [
    "numero = None\n",
    "\n",
    "try:\n",
    "    numero = int(input('Informe um número inteiro: '))\n",
    "except ValueError:\n",
    "    print('Valor informado não é um número inteiro!')\n",
    "else:\n",
    "    for i in range(1, numero + 1):\n",
    "        if i % 2 != 0:\n",
    "            print(i)"
   ]
  },
  {
   "attachments": {},
   "cell_type": "markdown",
   "metadata": {},
   "source": [
    "#### 3) Leia um número e imprima a tabuada de multiplicar deste número. Por exemplo, para o número 5:\n",
    "| 1º Fator | Operador | 2º Fator | Igual | Produto |\n",
    "|---|---|---|---|---|\n",
    "| 5 | x | 01 | = | 05 |\n",
    "| 5 | x | 02 | = | 10 |\n",
    "| 5 | x | 03 | = | 15 |\n",
    "| 5 | x | 04 | = | 20 |\n",
    "| 5 | x | 05 | = | 25 |\n",
    "| 5 | x | 06 | = | 30 |\n",
    "| 5 | x | 07 | = | 35 |\n",
    "| 5 | x | 08 | = | 40 |\n",
    "| 5 | x | 09 | = | 45 |\n",
    "| 5 | x | 10 | = | 50 |\n"
   ]
  },
  {
   "cell_type": "code",
   "execution_count": 36,
   "metadata": {},
   "outputs": [
    {
     "name": "stdout",
     "output_type": "stream",
     "text": [
      "10 x 1 = 10\n",
      "10 x 2 = 20\n",
      "10 x 3 = 30\n",
      "10 x 4 = 40\n",
      "10 x 5 = 50\n",
      "10 x 6 = 60\n",
      "10 x 7 = 70\n",
      "10 x 8 = 80\n",
      "10 x 9 = 90\n",
      "10 x 10 = 100\n"
     ]
    }
   ],
   "source": [
    "numero = int(input('Informe um nº inteiro: '))\n",
    "\n",
    "for i in range(1, 11):\n",
    "    print(f'{numero} x {i} = {i * numero}')"
   ]
  },
  {
   "attachments": {},
   "cell_type": "markdown",
   "metadata": {},
   "source": [
    "#### 4) Faça um programa que leia dois números inteiros e que imprima todos os números inteiros existentes entre o menor e o maior número informados.\n"
   ]
  },
  {
   "cell_type": "code",
   "execution_count": 37,
   "metadata": {},
   "outputs": [
    {
     "name": "stdout",
     "output_type": "stream",
     "text": [
      "7\n",
      "8\n",
      "9\n",
      "10\n"
     ]
    }
   ],
   "source": [
    "try:\n",
    "    n1 = int(input('Informe o primeiro número: '))\n",
    "    n2 = int(input('Informe o segundo número: '))\n",
    "except ValueError:\n",
    "    print('Informa valores válidos!')\n",
    "else:\n",
    "    # verifica qual é o menor número\n",
    "    if n1 < n2:\n",
    "        menor = n1\n",
    "        maior = n2\n",
    "    else:\n",
    "        menor = n2\n",
    "        maior = n1\n",
    "\n",
    "    for i in range(menor, maior+1):\n",
    "        print(i)"
   ]
  },
  {
   "attachments": {},
   "cell_type": "markdown",
   "metadata": {},
   "source": [
    "#### 5) Faça um programa que leia um número que calcule a soma dos números inteiros entre 1 e o número informado.\n"
   ]
  },
  {
   "cell_type": "code",
   "execution_count": 38,
   "metadata": {},
   "outputs": [
    {
     "name": "stdout",
     "output_type": "stream",
     "text": [
      "A soma de 5 + 1 = 6\n",
      "A soma de 5 + 2 = 7\n",
      "A soma de 5 + 3 = 8\n",
      "A soma de 5 + 4 = 9\n",
      "A soma de 5 + 5 = 10\n"
     ]
    }
   ],
   "source": [
    "n1 = None\n",
    "\n",
    "try:\n",
    "    n1 = int(input('Informe um nº: '))\n",
    "except ValueError:\n",
    "    print('O valor informado não é válido!')\n",
    "else:\n",
    "    for i in range(n1):\n",
    "        print(f'A soma de {n1} + {i+1} = {n1 + i + 1}')"
   ]
  },
  {
   "attachments": {},
   "cell_type": "markdown",
   "metadata": {},
   "source": [
    "#### 6) Faça um programa que leia um número e que calcule o fatorial deste número."
   ]
  },
  {
   "cell_type": "code",
   "execution_count": 39,
   "metadata": {},
   "outputs": [
    {
     "name": "stdout",
     "output_type": "stream",
     "text": [
      "O fatorial de 1 é 1.\n",
      "O fatorial de 2 é 2.\n",
      "O fatorial de 3 é 6.\n",
      "O fatorial de 4 é 24.\n",
      "O fatorial de 5 é 120.\n"
     ]
    }
   ],
   "source": [
    "n = None\n",
    "fatorial = 1\n",
    "\n",
    "try:\n",
    "    n = int(input('Informe um nº: '))\n",
    "except ValueError:\n",
    "    print('O valor informado não é válido!')\n",
    "else:\n",
    "    for i in range(1, n+1):\n",
    "        fatorial *= i \n",
    "        print(f\"O fatorial de {i} é {fatorial}.\")"
   ]
  },
  {
   "attachments": {},
   "cell_type": "markdown",
   "metadata": {},
   "source": [
    " #### 7) Faça um programa que solicite ao usuário que informe o peso, em kg, de 10 pessoas, e em seguida, exiba a média desses pesos."
   ]
  },
  {
   "cell_type": "code",
   "execution_count": 40,
   "metadata": {},
   "outputs": [
    {
     "name": "stdout",
     "output_type": "stream",
     "text": [
      "Informe o peso da 1ª pessoa: \n",
      "Informe o peso da 2ª pessoa: \n",
      "Informe o peso da 3ª pessoa: \n",
      "Informe o peso da 4ª pessoa: \n",
      "Informe o peso da 5ª pessoa: \n",
      "66.4\n"
     ]
    }
   ],
   "source": [
    "pessoas = None\n",
    "total = 0\n",
    "\n",
    "try:\n",
    "    pessoas = int(input('Informe a quantidade de pessoas: '))\n",
    "except ValueError:\n",
    "    print('Informe um nº valido!')\n",
    "else:\n",
    "    for i in range(pessoas):\n",
    "        kg = float(input(print(f'Informe o peso da {i+1}ª pessoa: ')))\n",
    "        total += kg\n",
    "    print(f'A media de peso é: {total/pessoas}.')"
   ]
  },
  {
   "attachments": {},
   "cell_type": "markdown",
   "metadata": {},
   "source": [
    "#### 8) Faça um programa que leia o sexo e o peso de 10 pessoas, e mostre quantas pessoas do sexo masculino possuem peso entre 60 e 80 kg, bem como a quantidade de mulheres que possuem peso entre 50 e 70 kg."
   ]
  },
  {
   "cell_type": "code",
   "execution_count": 41,
   "metadata": {},
   "outputs": [
    {
     "name": "stdout",
     "output_type": "stream",
     "text": [
      "Quantidade de homens com peso entre 60 e 80 kg: 7.\n",
      "Quantidade de mulheres com peso entre 50 e 70 kg: 3.\n"
     ]
    }
   ],
   "source": [
    "sexo = None\n",
    "peso = None\n",
    "masculino = 0\n",
    "feminino = 0\n",
    "\n",
    "try:\n",
    "    for i in range(10):\n",
    "        sexo = str(input('Informe a letra [M = Masculino] ou [F = Feminino]')).upper()\n",
    "        if sexo == 'M':\n",
    "            peso = float(input(f'INforme o peso da {i+1}ª pessoa:'))\n",
    "            if peso >= 60 and peso <= 80:\n",
    "                masculino += 1\n",
    "        elif sexo == \"F\":\n",
    "            peso = float(input(f'INforme o peso da {i+1}ª pessoa:'))\n",
    "            if peso >= 50 and peso <= 70:\n",
    "                feminino += 1\n",
    "        else:\n",
    "            print('A letra informada não corresponde com o que foi solicitado, favor digitar novamente!')\n",
    "    if masculino > 0:\n",
    "        print(f\"Quantidade de homens com peso entre 60 e 80 kg: {masculino}.\")\n",
    "    else:\n",
    "        print(\"Não há homens com peso entre 60 e 80 kg.\")\n",
    "    if feminino > 0:\n",
    "        print(f\"Quantidade de mulheres com peso entre 50 e 70 kg: {feminino}.\")\n",
    "    else:\n",
    "        print(\"Não há mulheres com peso entre 50 e 70 kg.\")\n",
    "\n",
    "except ValueError:\n",
    "    print('Informe valores válidos para o peso!')"
   ]
  },
  {
   "attachments": {},
   "cell_type": "markdown",
   "metadata": {},
   "source": [
    "#### 9) Faça um programa que leia a idade e peso de sete pessoas. Calcule e mostre:\n",
    "- a quantidade de pessoas com mais de 90 kg\n",
    "- a média das idades das sete pessoas"
   ]
  },
  {
   "cell_type": "code",
   "execution_count": 42,
   "metadata": {},
   "outputs": [
    {
     "name": "stdout",
     "output_type": "stream",
     "text": [
      "A quantidade de pessoas com mais de 90 kg é de: 2.\n",
      "A media de idade desta 7 pessoas é de: 27.0.\n"
     ]
    }
   ],
   "source": [
    "ida = None\n",
    "pessoas = 7\n",
    "total = 0\n",
    "soma = 0\n",
    "\n",
    "try:\n",
    "    for i in range(pessoas):\n",
    "        idade = int(input(f'Informe a idade da {i+1}ª pessoa: '))\n",
    "        soma += idade\n",
    "        peso = float(input(f'Informe o peso desta pessoa: '))\n",
    "\n",
    "        if peso > 90:\n",
    "            total += 1\n",
    "\n",
    "    print(f'A quantidade de pessoas com mais de 90 kg é de: {total}.')\n",
    "    print(f'A media de idade desta {pessoas} pessoas é de: {soma/pessoas}.')\n",
    "except ValueError:\n",
    "    print('Valores informados são inválidos!')"
   ]
  },
  {
   "attachments": {},
   "cell_type": "markdown",
   "metadata": {},
   "source": [
    "#### 10) Faça um programa que leia um número e que imprima na tela se o número é primo ou não.\n",
    "\n"
   ]
  },
  {
   "cell_type": "code",
   "execution_count": 43,
   "metadata": {},
   "outputs": [
    {
     "name": "stdout",
     "output_type": "stream",
     "text": [
      "17 é um número primo.\n"
     ]
    }
   ],
   "source": [
    "numero = int(input(\"Digite um número: \"))\n",
    "\n",
    "if numero < 2:\n",
    "    print(numero, \"não é um número primo.\")\n",
    "else:\n",
    "    primo = True\n",
    "    for i in range(2, numero):\n",
    "        if numero % i == 0:\n",
    "            primo = False\n",
    "            break\n",
    "    if primo:\n",
    "        print(numero, \"é um número primo.\")\n",
    "    else:\n",
    "        print(numero, \"não é um número primo.\")\n"
   ]
  }
 ],
 "metadata": {
  "kernelspec": {
   "display_name": "base",
   "language": "python",
   "name": "python3"
  },
  "language_info": {
   "codemirror_mode": {
    "name": "ipython",
    "version": 3
   },
   "file_extension": ".py",
   "mimetype": "text/x-python",
   "name": "python",
   "nbconvert_exporter": "python",
   "pygments_lexer": "ipython3",
   "version": "3.9.13"
  },
  "orig_nbformat": 4,
  "vscode": {
   "interpreter": {
    "hash": "57bc2b6ce032b5f0e93daa91901b7ea38a856826ef43aa9e95b6d3999f5310df"
   }
  }
 },
 "nbformat": 4,
 "nbformat_minor": 2
}
