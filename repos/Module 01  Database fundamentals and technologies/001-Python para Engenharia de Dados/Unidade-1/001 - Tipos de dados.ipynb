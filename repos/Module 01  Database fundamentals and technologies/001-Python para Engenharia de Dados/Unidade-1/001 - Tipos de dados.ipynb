{
 "cells": [
  {
   "attachments": {},
   "cell_type": "markdown",
   "metadata": {},
   "source": [
    "# Python para Engenharia de Dados\n",
    "----"
   ]
  },
  {
   "attachments": {},
   "cell_type": "markdown",
   "metadata": {},
   "source": [
    "## Unidade 1 - A Linguagem Python"
   ]
  },
  {
   "cell_type": "markdown",
   "metadata": {},
   "source": [
    "### A linguagem Python é poderosa e muito flexível.\n",
    "#### Exemplo:"
   ]
  },
  {
   "cell_type": "code",
   "execution_count": 1,
   "metadata": {},
   "outputs": [
    {
     "name": "stdout",
     "output_type": "stream",
     "text": [
      "Hello, World!\n"
     ]
    }
   ],
   "source": [
    "x = 'Hello, World!'\n",
    "print(x)"
   ]
  },
  {
   "cell_type": "code",
   "execution_count": 2,
   "metadata": {},
   "outputs": [
    {
     "ename": "SyntaxError",
     "evalue": "unexpected EOF while parsing (<string>, line 0)",
     "output_type": "error",
     "traceback": [
      "Traceback \u001b[1;36m(most recent call last)\u001b[0m:\n",
      "  File \u001b[0;32m\"c:\\Users\\Administrator\\anaconda3\\lib\\site-packages\\IPython\\core\\interactiveshell.py\"\u001b[0m, line \u001b[0;32m3457\u001b[0m, in \u001b[0;35mrun_code\u001b[0m\n    exec(code_obj, self.user_global_ns, self.user_ns)\n",
      "\u001b[1;36m  File \u001b[1;32m\"C:\\Users\\Administrator\\AppData\\Local\\Temp\\ipykernel_26020\\2590701366.py\"\u001b[1;36m, line \u001b[1;32m2\u001b[1;36m, in \u001b[1;35m<module>\u001b[1;36m\u001b[0m\n\u001b[1;33m    y = eval(x)\u001b[0m\n",
      "\u001b[1;36m  File \u001b[1;32m\"<string>\"\u001b[1;36m, line \u001b[1;32munknown\u001b[0m\n\u001b[1;33m    \u001b[0m\n\u001b[1;37m    ^\u001b[0m\n\u001b[1;31mSyntaxError\u001b[0m\u001b[1;31m:\u001b[0m unexpected EOF while parsing\n"
     ]
    }
   ],
   "source": [
    "x = input('Digite a expressão: ')\n",
    "y = eval(x)\n",
    "print('Resultado: ', y)\n",
    "\n",
    "# A função eval() em Python é uma função embutida que avalia uma string como um código Python válido e retorna o resultado dessa avaliação."
   ]
  },
  {
   "cell_type": "markdown",
   "metadata": {},
   "source": [
    "### Variáveis\n",
    "\n",
    "* Python é dinamicamente tipificado (tipo definido durante a inicialização da variável)\n",
    "* É considerada uma linguagem fortemente tipificada (pelo fato de verificar em tewmpo de execução se a variável é um tipo de compatível com o operador)\n",
    "* Em Python, uma variável é apenas um nome que referencia um objeto."
   ]
  },
  {
   "cell_type": "code",
   "execution_count": 3,
   "metadata": {},
   "outputs": [],
   "source": [
    "a = 12\n",
    "b = 'Teste de Programação'\n",
    "c = 23.3"
   ]
  },
  {
   "cell_type": "code",
   "execution_count": 4,
   "metadata": {},
   "outputs": [
    {
     "name": "stdout",
     "output_type": "stream",
     "text": [
      "O valor de a:  12\n",
      "O valor de b:  Teste de Programação\n",
      "O valor de c:  23.3\n"
     ]
    }
   ],
   "source": [
    "print('O valor de a: ',a)\n",
    "print('O valor de b: ',b)\n",
    "print('O valor de c: ',c)"
   ]
  },
  {
   "cell_type": "code",
   "execution_count": 5,
   "metadata": {},
   "outputs": [
    {
     "name": "stdout",
     "output_type": "stream",
     "text": [
      "Valor de a: 12. Valor de b: 15\n",
      "O resultado da soma de a e b é: 27.\n",
      "Valor de a: 12. Valor de b: Teste de Programação..\n"
     ]
    },
    {
     "ename": "TypeError",
     "evalue": "unsupported operand type(s) for +: 'int' and 'str'",
     "output_type": "error",
     "traceback": [
      "\u001b[1;31m---------------------------------------------------------------------------\u001b[0m",
      "\u001b[1;31mTypeError\u001b[0m                                 Traceback (most recent call last)",
      "\u001b[1;32m~\\AppData\\Local\\Temp\\ipykernel_26020\\3873140041.py\u001b[0m in \u001b[0;36m<module>\u001b[1;34m\u001b[0m\n\u001b[0;32m      6\u001b[0m \u001b[0mb\u001b[0m \u001b[1;33m=\u001b[0m \u001b[1;34m'Teste de Programação.'\u001b[0m\u001b[1;33m\u001b[0m\u001b[1;33m\u001b[0m\u001b[0m\n\u001b[0;32m      7\u001b[0m \u001b[0mprint\u001b[0m\u001b[1;33m(\u001b[0m\u001b[1;34mf'Valor de a: {a}. Valor de b: {b}.'\u001b[0m\u001b[1;33m)\u001b[0m\u001b[1;33m\u001b[0m\u001b[1;33m\u001b[0m\u001b[0m\n\u001b[1;32m----> 8\u001b[1;33m \u001b[0mprint\u001b[0m\u001b[1;33m(\u001b[0m\u001b[1;34mf'O resultado é: {a + b}.'\u001b[0m\u001b[1;33m)\u001b[0m\u001b[1;33m\u001b[0m\u001b[1;33m\u001b[0m\u001b[0m\n\u001b[0m",
      "\u001b[1;31mTypeError\u001b[0m: unsupported operand type(s) for +: 'int' and 'str'"
     ]
    }
   ],
   "source": [
    "# Note que o interpretador irá retornar a mensagem de 'Tipos Incompatíveis' ao tentar realizar a concatenação dos valores.\n",
    "a = 12\n",
    "b = 15\n",
    "print(f'Valor de a: {a}. Valor de b: {b}')\n",
    "print(f'O resultado da soma de a e b é: {a + b}.')\n",
    "b = 'Teste de Programação.'\n",
    "print(f'Valor de a: {a}. Valor de b: {b}.')\n",
    "print(f'O resultado é: {a + b}.')"
   ]
  },
  {
   "attachments": {},
   "cell_type": "markdown",
   "metadata": {},
   "source": [
    "#### Estrutura básica do bloco try-except em Python\n",
    "\n",
    "A instrução try em Python é usada para detectar exceções (erros) em um bloco de código, enquanto a instrução except é usada para lidar com exceções específicas. Quando ocorre uma exceção dentro do bloco try, o código imediatamente passa para o bloco except.\n",
    "\n",
    "A exceção ValueError é geralmente levantada quando o tipo do argumento é válido, mas o valor em si é inválido. Para capturar a exceção ValueError em Python, você pode usar o seguinte código:"
   ]
  },
  {
   "cell_type": "markdown",
   "metadata": {},
   "source": [
    "try:\n",
    "    # Código que pode gerar a exceção ValueError\n",
    "except ValueError:\n",
    "    # O que fazer se ocorrer uma exceção ValueError"
   ]
  },
  {
   "attachments": {},
   "cell_type": "markdown",
   "metadata": {},
   "source": [
    "Por exemplo, se você estiver tentando converter uma string para um número inteiro usando a função int(), mas a string não for um número válido, uma exceção ValueError será levantada. Você pode lidar com essa exceção da seguinte maneira:"
   ]
  },
  {
   "cell_type": "code",
   "execution_count": 2,
   "metadata": {},
   "outputs": [
    {
     "name": "stdout",
     "output_type": "stream",
     "text": [
      "A string não é um número inteiro válido.\n"
     ]
    }
   ],
   "source": [
    "numero = \"abc\"\n",
    "try:\n",
    "    inteiro = int(numero)\n",
    "except ValueError:\n",
    "    print(\"A string não é um número inteiro válido.\")"
   ]
  },
  {
   "attachments": {},
   "cell_type": "markdown",
   "metadata": {},
   "source": [
    "Nesse caso, o código dentro do bloco try irá falhar ao tentar converter a string \"abc\" em um número inteiro, gerando uma exceção ValueError. O código então passa para o bloco except, onde a mensagem \"A string não é um número inteiro válido.\" será impressa."
   ]
  },
  {
   "attachments": {},
   "cell_type": "markdown",
   "metadata": {},
   "source": [
    "### Tipos de variáveis\n",
    "\n",
    "int   - Inteiros <br>\n",
    "float - Reais <br>\n",
    "str   - Conjunto de caracteres <br>\n",
    "bool  - Lógico (True ou False) <br>\n",
    "list  - Lista <br>\n",
    "Tupla - Semelhante ao tipo **list**, porém, imutável <br>\n",
    "dic   - Dicionário <br>"
   ]
  },
  {
   "cell_type": "code",
   "execution_count": 6,
   "metadata": {},
   "outputs": [
    {
     "data": {
      "text/plain": [
       "int"
      ]
     },
     "execution_count": 6,
     "metadata": {},
     "output_type": "execute_result"
    }
   ],
   "source": [
    "# Inteiro \n",
    "x = 10 \n",
    "type(x)"
   ]
  },
  {
   "cell_type": "code",
   "execution_count": 7,
   "metadata": {},
   "outputs": [
    {
     "data": {
      "text/plain": [
       "float"
      ]
     },
     "execution_count": 7,
     "metadata": {},
     "output_type": "execute_result"
    }
   ],
   "source": [
    "# Reais\n",
    "x = 10.0\n",
    "type(x)"
   ]
  },
  {
   "cell_type": "code",
   "execution_count": 8,
   "metadata": {},
   "outputs": [
    {
     "data": {
      "text/plain": [
       "str"
      ]
     },
     "execution_count": 8,
     "metadata": {},
     "output_type": "execute_result"
    }
   ],
   "source": [
    "# Conjunto de caracteres\n",
    "x = 'Teste'\n",
    "type(x)"
   ]
  },
  {
   "cell_type": "code",
   "execution_count": 9,
   "metadata": {},
   "outputs": [
    {
     "data": {
      "text/plain": [
       "bool"
      ]
     },
     "execution_count": 9,
     "metadata": {},
     "output_type": "execute_result"
    }
   ],
   "source": [
    "# Logico( True ou False)\n",
    "x = x == x\n",
    "type(x)"
   ]
  },
  {
   "cell_type": "code",
   "execution_count": 10,
   "metadata": {},
   "outputs": [
    {
     "data": {
      "text/plain": [
       "list"
      ]
     },
     "execution_count": 10,
     "metadata": {},
     "output_type": "execute_result"
    }
   ],
   "source": [
    "# Lista \n",
    "x = [1]\n",
    "type(x)"
   ]
  },
  {
   "cell_type": "code",
   "execution_count": 11,
   "metadata": {},
   "outputs": [
    {
     "data": {
      "text/plain": [
       "tuple"
      ]
     },
     "execution_count": 11,
     "metadata": {},
     "output_type": "execute_result"
    }
   ],
   "source": [
    "# Tupla\n",
    "x = (1, 2, 3)\n",
    "type(x)"
   ]
  },
  {
   "cell_type": "code",
   "execution_count": 12,
   "metadata": {},
   "outputs": [
    {
     "data": {
      "text/plain": [
       "dict"
      ]
     },
     "execution_count": 12,
     "metadata": {},
     "output_type": "execute_result"
    }
   ],
   "source": [
    "# Dicionário\n",
    "x = {'a': 1, 'b':2, 'c':3}\n",
    "type(x)"
   ]
  },
  {
   "attachments": {},
   "cell_type": "markdown",
   "metadata": {},
   "source": [
    "### Operador de atribuição\n",
    "\n",
    "Representado por = (Sinal de igualdade)<br>\n",
    "Exemplo:<br>\n",
    "\n",
    "a = 10\n",
    "b = 20"
   ]
  },
  {
   "attachments": {},
   "cell_type": "markdown",
   "metadata": {},
   "source": [
    "### Atribuição múltipla\n",
    "\n",
    "* Exemplo: Troca de valores entre variáveis. <br>\n"
   ]
  },
  {
   "cell_type": "code",
   "execution_count": 13,
   "metadata": {},
   "outputs": [
    {
     "name": "stdout",
     "output_type": "stream",
     "text": [
      "5\n",
      "10\n"
     ]
    }
   ],
   "source": [
    "# Ciando uma variável x para receber o valor de a e após isso, fazer o ver receber o valor de x, ou seja, troca de valores complexa.\n",
    "a = 10\n",
    "b = 5\n",
    "x = a\n",
    "a = b\n",
    "b = x\n",
    "\n",
    "print(a)\n",
    "print(b)"
   ]
  },
  {
   "cell_type": "code",
   "execution_count": 14,
   "metadata": {},
   "outputs": [
    {
     "name": "stdout",
     "output_type": "stream",
     "text": [
      "5\n",
      "10\n"
     ]
    }
   ],
   "source": [
    "# Aqui temos uma inversão de valores simplificada, ou seja, temos uma (Atribuição Múltipla), em que não precisou criar uma terceira variável para receber o valor de a, conofmre acima.\n",
    "a = 10\n",
    "b = 5\n",
    "a, b = b, a\n",
    "\n",
    "print(a)\n",
    "print(b)"
   ]
  },
  {
   "attachments": {},
   "cell_type": "markdown",
   "metadata": {},
   "source": [
    "### Comando de entrada de dados\n",
    "\n",
    "* Utilizado para receber dados digitados pelo usuário;\n",
    "* Comando **input**;\n",
    "* Os dados recebidos são armazenados em variáveis;\n",
    "* Retorna os dados informados como sendo do tipo **string**."
   ]
  },
  {
   "cell_type": "code",
   "execution_count": 15,
   "metadata": {},
   "outputs": [
    {
     "name": "stdout",
     "output_type": "stream",
     "text": [
      "77\n",
      "O tipo de variável é: <class 'str'>.\n"
     ]
    }
   ],
   "source": [
    "# Sem definir o tipo da variável, retorna como string\n",
    "x = input(f'Digite o valor de x: ')\n",
    "y = input(f'Digite o valor de y: ')\n",
    "z = x + y\n",
    "print(z)\n",
    "print(f'O tipo de variável é: {type(z)}.')"
   ]
  },
  {
   "cell_type": "code",
   "execution_count": 16,
   "metadata": {},
   "outputs": [
    {
     "name": "stdout",
     "output_type": "stream",
     "text": [
      "14\n",
      "O tipo de variável é: <class 'int'>.\n"
     ]
    }
   ],
   "source": [
    "# Definindo o valor da variável, retorna o valor conforme definido, que neste caso foi o uso do 'int'\n",
    "x = int(input(f'Digite o valor de X: '))\n",
    "y = int(input(f'Digite o valor de Y: '))\n",
    "z = x + y\n",
    "print(z)\n",
    "print(f'O tipo de variável é: {type(z)}.')"
   ]
  },
  {
   "cell_type": "markdown",
   "metadata": {},
   "source": [
    "### Comando de saída de dados\n",
    "\n",
    "* Utilizado para mostrar dados na tela;\n",
    "* Comando **print**"
   ]
  },
  {
   "cell_type": "code",
   "execution_count": 17,
   "metadata": {},
   "outputs": [
    {
     "name": "stdout",
     "output_type": "stream",
     "text": [
      "10\n",
      "O valor de y é: 20\n",
      "O valor de x é: 10\n",
      "O valor de x é 10 e o de y é 20\n",
      "<class 'str'>\n",
      "<class 'int'>,<class 'int'>\n"
     ]
    }
   ],
   "source": [
    "x = 10\n",
    "y = 20\n",
    "print(x)\n",
    "print(f'O valor de y é: {str(y)}') \n",
    "print(f'O valor de x é: {x}')\n",
    "print(f'O valor de x é %r e o de y é %r' %(x, y))\n",
    "\n",
    "# str, esta convertendo o inteiro para string.\n",
    "print(type(str(y)))\n",
    "\n",
    "# %r, formata a variável de acordo com o seu tipo correspondente.\n",
    "print(f'{type(x)},{type(y)}')"
   ]
  },
  {
   "attachments": {},
   "cell_type": "markdown",
   "metadata": {},
   "source": [
    "### Exemplos\n",
    "\n",
    "* Trabalhando com funções matemáticas e formatando a saída de dados"
   ]
  },
  {
   "cell_type": "code",
   "execution_count": 18,
   "metadata": {},
   "outputs": [],
   "source": [
    "# Importando a biblioteca math\n",
    "import math"
   ]
  },
  {
   "cell_type": "code",
   "execution_count": 19,
   "metadata": {},
   "outputs": [
    {
     "name": "stdout",
     "output_type": "stream",
     "text": [
      "Raiz: 2.6457513110645907.\n",
      "Potência: 343.0.\n",
      "1 - Raiz de 7 = 2.6457513110645907.\n",
      "2 - Raiz de 7 = 2.6457513110645907.\n",
      "3 - Raiz de 7 = 2.6457513110645907\n",
      "4 - Raiz de 7 = 2.645751\n",
      "5 - Raiz de 7 = 2.65\n",
      "6 - Raiz de 7 = 2.6457513110645907\n",
      "7 - Raiz de 7 = 2.65\n"
     ]
    }
   ],
   "source": [
    "# Atribuindo valor a variável 'x' e usando a função math para raiz quadrada e potenciação\n",
    "x = int(input('Digite um número: '))\n",
    "y = math.sqrt(x)\n",
    "z = math.pow(x,3)\n",
    "\n",
    "print(f'Raiz: {y}.')\n",
    "print(f'Potência: {z}.')\n",
    "print(f'1 - Raiz de {x} = {y}.')\n",
    "print(f'2 - Raiz de {str(x)} = {str(y)}.')\n",
    "print(f'3 - Raiz de %r = %r' %(x, y))\n",
    "print(f'4 - Raiz de %r = %f' %(x, y))\n",
    "print(f'5 - Raiz de %r = %.2f' %(x, y))\n",
    "print(f'6 - Raiz de {x} = {y}')\n",
    "print(f'7 - Raiz de {x} = {y:.2f}')"
   ]
  },
  {
   "attachments": {},
   "cell_type": "markdown",
   "metadata": {},
   "source": [
    "### Comentários\n",
    "\n",
    "* São textos que podem ser inseridos em programas para documentá-los <br>\n",
    "* Não são analisados pelo interpretador <br>\n",
    "* Símbolos: <br>\n",
    "***Três aspas duplas - para várias linhas \"\"\" ... \"\"\"*** <br>\n",
    "***Hashtag para uma única linha #***\n",
    "\n",
    "Exemplos:"
   ]
  },
  {
   "cell_type": "code",
   "execution_count": 20,
   "metadata": {},
   "outputs": [
    {
     "name": "stdout",
     "output_type": "stream",
     "text": [
      "5\n",
      "10\n"
     ]
    }
   ],
   "source": [
    "# Troca de valores de variáveis com atribuição multipla\n",
    "a = 10\n",
    "b = 5\n",
    "\n",
    "a, b = b, a\n",
    "\n",
    "print(a)\n",
    "print(b)"
   ]
  },
  {
   "cell_type": "code",
   "execution_count": 21,
   "metadata": {},
   "outputs": [
    {
     "name": "stdout",
     "output_type": "stream",
     "text": [
      "5\n",
      "10\n"
     ]
    }
   ],
   "source": [
    "\"\"\"\n",
    "Troca de valores de variáveis com atribuição multipla.\n",
    "\"\"\"\n",
    "\n",
    "a = 10\n",
    "b = 5\n",
    "\n",
    "a, b = b, a\n",
    "\n",
    "print(a)\n",
    "print(b)"
   ]
  },
  {
   "attachments": {},
   "cell_type": "markdown",
   "metadata": {},
   "source": [
    "### Operadores \n",
    "\n",
    "|Operador | Exemplo | Comentário|\n",
    "|---|---|---|\n",
    "| = | x = y | Atribuição |\n",
    "| + | x + y | Soma |\n",
    "| - | x - y | Subtração |\n",
    "| * | x * y | Multiplicação |\n",
    "| ** | x ** y | Exponenciação |\n",
    "| / | 5 / 2 (=2.5) | Divisão (real) |\n",
    "| // | 5 // 2 (=2) | Divisao (inteira) | \n",
    "| % | x % y | Resto da divisão de x por y |\n",
    "| += | x += y | Equivalente a x = x + y |\n",
    "| -= | x -= y | Equivalente a x = x - y |\n",
    "| *= | x *= y | Equivalente a x = x * y |\n",
    "| /= | x /= y | Equivalente a x = x / y |\n",
    "| %= | x %= y | Equivalente a x = x % y |\n",
    "| == | x == y | Verifica se o conteúdo de x é igual ao conteúdo de y |\n",
    "| != | x != y | Verifica se o conteúdo de x é diferente do conteúdo de y |\n",
    "| <= | x <= y | Verifica se o conteúdo de x é menor ou igual ao conteúdo de y |\n",
    "| >= | x >= y | Verifica se o conteúdo de x é maior ou igual ao conteúdo de y |\n",
    "| < | x < y | Verifica se o conteúdo de x é menor que o conteúdo de y |\n",
    "| > | x > y | Verifica se o conteúdo de x é maior que o conteúdo de y |\n",
    "\n",
    "Exemplos:"
   ]
  },
  {
   "cell_type": "code",
   "execution_count": 22,
   "metadata": {},
   "outputs": [
    {
     "name": "stdout",
     "output_type": "stream",
     "text": [
      "O valor da médida é 7.00.\n"
     ]
    }
   ],
   "source": [
    "'''\n",
    "Estes programas recebem tres números e imprime a médida dos três números na tela.\n",
    "'''\n",
    "\n",
    "x = int(input('Digite o priemeiro número: '))\n",
    "y = int(input('Digite o segundo número: '))\n",
    "z = int(input('Digite o terceiro número: '))\n",
    "\n",
    "w = (x + y + z) / 3\n",
    "\n",
    "print(f'O valor da médida é {w:.2f}.')"
   ]
  },
  {
   "cell_type": "code",
   "execution_count": 26,
   "metadata": {},
   "outputs": [
    {
     "name": "stdout",
     "output_type": "stream",
     "text": [
      "A área do triangulo é 2.00.\n"
     ]
    }
   ],
   "source": [
    "'''\n",
    "Este programa recebe a base e a altura de um triangulo, calcule e imprime a sua área na tela\n",
    "'''\n",
    "\n",
    "base = float(input('Digite a base do triangulo: '))\n",
    "altura = float(input('Digite a altura do triangulo: '))\n",
    "area = (base * altura) / 2\n",
    "\n",
    "print(f'A área do triangulo é {area:.2f}.')"
   ]
  }
 ],
 "metadata": {
  "kernelspec": {
   "display_name": "Python 3 (ipykernel)",
   "language": "python",
   "name": "python3"
  },
  "language_info": {
   "codemirror_mode": {
    "name": "ipython",
    "version": 3
   },
   "file_extension": ".py",
   "mimetype": "text/x-python",
   "name": "python",
   "nbconvert_exporter": "python",
   "pygments_lexer": "ipython3",
   "version": "3.9.13 (main, Aug 25 2022, 23:51:50) [MSC v.1916 64 bit (AMD64)]"
  },
  "vscode": {
   "interpreter": {
    "hash": "57bc2b6ce032b5f0e93daa91901b7ea38a856826ef43aa9e95b6d3999f5310df"
   }
  }
 },
 "nbformat": 4,
 "nbformat_minor": 2
}
