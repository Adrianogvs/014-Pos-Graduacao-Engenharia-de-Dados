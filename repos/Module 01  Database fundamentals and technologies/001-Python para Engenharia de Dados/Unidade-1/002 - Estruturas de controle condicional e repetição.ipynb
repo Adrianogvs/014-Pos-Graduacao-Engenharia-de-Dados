{
 "cells": [
  {
   "cell_type": "markdown",
   "metadata": {},
   "source": [
    "### Estrutura Condicional\n",
    "\n",
    "* Simples\n",
    "if (condição):<br>\n",
    "&nbsp;&nbsp;&nbsp;&nbsp;comando 1<br>\n",
    "&nbsp;&nbsp;&nbsp;&nbsp;comando 2<br>\n",
    "\n",
    "* Composta\n",
    "if (condição 1):<br>\n",
    "&nbsp;&nbsp;&nbsp;&nbsp;comando 1<br>\n",
    "elif (condição 2):<br>\n",
    "&nbsp;&nbsp;&nbsp;&nbsp;comando 2<br>\n",
    "else:<br>\n",
    "&nbsp;&nbsp;&nbsp;&nbsp;comando 3<br>\n",
    "\n",
    "* Os dois pontos \":\" marcam o inicio de um novo escopo\n",
    "* O bloco será identificado pela indentação do código (tab ou 4 espaços)\n",
    "* Não utiliza chaves para identificação do bloco, como por exemplo em java e C#\n",
    "\n"
   ]
  },
  {
   "cell_type": "code",
   "execution_count": 2,
   "metadata": {},
   "outputs": [],
   "source": [
    "# Exemplo simples\n",
    "x = 30\n",
    "if (x > 10):\n",
    "    x = x + 1"
   ]
  },
  {
   "cell_type": "code",
   "execution_count": 3,
   "metadata": {},
   "outputs": [
    {
     "name": "stdout",
     "output_type": "stream",
     "text": [
      "Os números são iguais!!\n"
     ]
    }
   ],
   "source": [
    "# Esemplo composta\n",
    "x = int(input('Digite o primeiro número: '))\n",
    "y = int(input('Digite o primeiro número: '))\n",
    "\n",
    "if (x > y):\n",
    "    print(f'Maior que {x}.')\n",
    "    print(f'Menor que {y}.')\n",
    "elif (y > x):\n",
    "    print(f'Maior que {y}.')\n",
    "    print(f'Menor que {x}.')\n",
    "else:\n",
    "    print(f'Os números são iguais!!')"
   ]
  },
  {
   "attachments": {},
   "cell_type": "markdown",
   "metadata": {},
   "source": [
    "### Operadores Lógicos em Python\n",
    "\n",
    "| Operador | Python |\n",
    "|---|---|\n",
    "| E | and |\n",
    "| OU | or |\n",
    "| = | == |\n",
    "| ≠ | != |"
   ]
  },
  {
   "cell_type": "markdown",
   "metadata": {},
   "source": [
    "### Estrutura Condicional"
   ]
  },
  {
   "cell_type": "code",
   "execution_count": 5,
   "metadata": {},
   "outputs": [
    {
     "name": "stdout",
     "output_type": "stream",
     "text": [
      "Equilátero\n"
     ]
    }
   ],
   "source": [
    "'''\n",
    "Este programa recebe como entrada os três lados de um trianguilo e imprime o seu tipo:\n",
    " > Equilátero: Os três lados são iguais;\n",
    " > Isósceles: Dois lados são iguais;\n",
    " > Escaleno: Caso contrário.\n",
    "'''\n",
    "\n",
    "ladoA = float(input('Digite o primeiro lado: '))\n",
    "ladoB = float(input('Digite o segundo lado: '))\n",
    "ladoC = float(input('Digite o terceiro lado: '))\n",
    "\n",
    "if ((ladoA == ladoB) and (ladoA == ladoC)):\n",
    "    print('Equilátero')\n",
    "elif ((ladoA == ladoB) or (ladoA == ladoC) or (ladoB == ladoC)):\n",
    "    print('Isósceles')\n",
    "else:\n",
    "    print('Escaleno')"
   ]
  },
  {
   "attachments": {},
   "cell_type": "markdown",
   "metadata": {},
   "source": [
    "### Estrutura de Repetição (FOR)\n",
    "\n",
    "* Para um número definido de repetições (Estrutura FOR)\n",
    "\n",
    "for <var> in <coleção>:<br>\n",
    "&nbsp;&nbsp;&nbsp;&nbsp;comando1<br>\n",
    "&nbsp;&nbsp;&nbsp;&nbsp;comando2<br>\n",
    "&nbsp;&nbsp;&nbsp;&nbsp;...\n",
    "\n",
    "**Uma coleção pode ser:**<br>\n",
    "- range (Ex.: range(1,10))<br>\n",
    "- lista (Ex.: 1, 2, 3)<br>\n",
    "- dicionário (Ex.: {'id':1, 'nome':'Adriano'})<br>\n",
    "- tupla (Ex.: (1, 2, 3))<br>\n",
    "- string (Ex.: 'Python')<br>\n",
    "\n",
    "Exemplos:"
   ]
  },
  {
   "cell_type": "code",
   "execution_count": 6,
   "metadata": {},
   "outputs": [
    {
     "name": "stdout",
     "output_type": "stream",
     "text": [
      "1\n",
      "2\n",
      "3\n",
      "4\n",
      "5\n",
      "6\n",
      "7\n",
      "8\n",
      "9\n",
      "10\n"
     ]
    }
   ],
   "source": [
    "# Impressão dos números de 1 a 10\n",
    "\n",
    "for i in range(1-1, 10):\n",
    "    print(i+1)"
   ]
  },
  {
   "cell_type": "code",
   "execution_count": 7,
   "metadata": {},
   "outputs": [
    {
     "name": "stdout",
     "output_type": "stream",
     "text": [
      "2\n",
      "4\n",
      "6\n",
      "8\n",
      "10\n"
     ]
    }
   ],
   "source": [
    "# Impressão dos números pares de 1 a 10\n",
    "\n",
    "for i in range(2, 11, 2):\n",
    "    print(i)"
   ]
  },
  {
   "cell_type": "code",
   "execution_count": 8,
   "metadata": {},
   "outputs": [
    {
     "name": "stdout",
     "output_type": "stream",
     "text": [
      "P\n",
      "Y\n",
      "T\n",
      "H\n",
      "O\n",
      "N\n"
     ]
    }
   ],
   "source": [
    "# Impressão dos caracteres de uma string\n",
    "\n",
    "nome = 'Python'\n",
    "\n",
    "for c in nome:\n",
    "    print(c.upper())"
   ]
  },
  {
   "attachments": {},
   "cell_type": "markdown",
   "metadata": {},
   "source": [
    "### Estrutura de Repetição (WHILE)\n",
    "\n",
    "* Para um número indefinido de repetições (estrutura WHILE)\n",
    "* Também pode ser usada para um número definido de repetições\n",
    "\n",
    "while (condição):<br>\n",
    "&nbsp;&nbsp;&nbsp;&nbsp;comando1<br>\n",
    "&nbsp;&nbsp;&nbsp;&nbsp;comando2<br>\n",
    "&nbsp;&nbsp;&nbsp;&nbsp;...<br>\n",
    "\n",
    "Exemplo:"
   ]
  },
  {
   "cell_type": "code",
   "execution_count": 9,
   "metadata": {},
   "outputs": [
    {
     "name": "stdout",
     "output_type": "stream",
     "text": [
      "Idade válida: 7.\n"
     ]
    }
   ],
   "source": [
    "# Verifica se a idade é maior que zero, se for menor, ira repetir a mensagem \"Idade inválida! Digite novamente:\", até que seja maior que zero.\n",
    "idade = int(input('Digite a idade: '))\n",
    "\n",
    "while (idade < 0):\n",
    "    idade = int(input('Idade inválida! Digite novamente: '))\n",
    "print(f'Idade válida: {idade}.')"
   ]
  },
  {
   "cell_type": "code",
   "execution_count": 10,
   "metadata": {},
   "outputs": [
    {
     "name": "stdout",
     "output_type": "stream",
     "text": [
      "O valor de y é: 10\n",
      "O valor de y é: 8\n",
      "O valor de y é: 6\n",
      "O valor de y é: 4\n",
      "O valor de y é: 2\n",
      "O valor de y depois que sair da entrutura é: 0\n"
     ]
    }
   ],
   "source": [
    "# Enquanto o valor de Y for maior que X, irá imprimir os valores de Y na tela:\n",
    "'''\n",
    "Observação:\n",
    " Regra: y = y -2 , precisa se definida, pois caso não seja, irá imprimir o valor definido para Y varias vezes.\n",
    "'''\n",
    "\n",
    "x = 1\n",
    "y = 10\n",
    "\n",
    "while (y > x):\n",
    "    print(f'O valor de y é: {y}')\n",
    "    y = y -2  \n",
    "\n",
    "print(f'O valor de y depois que sair da entrutura é: {y}')\n"
   ]
  },
  {
   "cell_type": "code",
   "execution_count": 11,
   "metadata": {},
   "outputs": [
    {
     "name": "stdout",
     "output_type": "stream",
     "text": [
      "A divisão de 7 por 7 é 1. O resto é 0.\n"
     ]
    }
   ],
   "source": [
    "\"\"\"\n",
    "Este programa calcula a divisão inteira entre dois números utilizando somente as operações de soma e subtração.\n",
    "\"\"\"\n",
    "\n",
    "div = 0\n",
    "n1 = int(input('Digite o numerador: '))\n",
    "n2 = int(input('Digite o denoninador: '))\n",
    "resto = n1\n",
    "while (resto >= n2):\n",
    "    div += 1\n",
    "    resto -= n2\n",
    "\n",
    "print(f'A divisão de {n1:.0f} por {n2:.0f} é {div:.0f}. O resto é {resto:.0f}.')"
   ]
  },
  {
   "cell_type": "code",
   "execution_count": null,
   "metadata": {},
   "outputs": [],
   "source": []
  }
 ],
 "metadata": {
  "kernelspec": {
   "display_name": "base",
   "language": "python",
   "name": "python3"
  },
  "language_info": {
   "codemirror_mode": {
    "name": "ipython",
    "version": 3
   },
   "file_extension": ".py",
   "mimetype": "text/x-python",
   "name": "python",
   "nbconvert_exporter": "python",
   "pygments_lexer": "ipython3",
   "version": "3.9.13 (main, Aug 25 2022, 23:51:50) [MSC v.1916 64 bit (AMD64)]"
  },
  "orig_nbformat": 4,
  "vscode": {
   "interpreter": {
    "hash": "57bc2b6ce032b5f0e93daa91901b7ea38a856826ef43aa9e95b6d3999f5310df"
   }
  }
 },
 "nbformat": 4,
 "nbformat_minor": 2
}
