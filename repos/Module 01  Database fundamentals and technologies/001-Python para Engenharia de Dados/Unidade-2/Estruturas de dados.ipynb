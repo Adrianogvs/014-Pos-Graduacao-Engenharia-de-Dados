{
 "cells": [
  {
   "attachments": {},
   "cell_type": "markdown",
   "metadata": {},
   "source": [
    "# Python para Engenharia de Dados\n",
    "----"
   ]
  },
  {
   "attachments": {},
   "cell_type": "markdown",
   "metadata": {},
   "source": [
    "## Unidade 2 - Manipulação de Strings"
   ]
  },
  {
   "attachments": {},
   "cell_type": "markdown",
   "metadata": {},
   "source": [
    "### String\n",
    "\n",
    "* Coleção de sequência imutável de caracteres\n",
    "* Em Python, tudo é um objeto\n",
    "* No caso de strings, os objetos são da classe “str” e possuem inúmeros métodos para manipulação\n",
    "* Também é possível manipular uma string como um vetor de caracteres, como por exemplo:<br>"
   ]
  },
  {
   "cell_type": "code",
   "execution_count": 7,
   "metadata": {},
   "outputs": [
    {
     "name": "stdout",
     "output_type": "stream",
     "text": [
      "A\n"
     ]
    }
   ],
   "source": [
    "nome= 'Alexandre'\n",
    "print(nome[0]) #imprime o caractere “A”"
   ]
  },
  {
   "cell_type": "code",
   "execution_count": 8,
   "metadata": {},
   "outputs": [
    {
     "ename": "TypeError",
     "evalue": "'str' object does not support item assignment",
     "output_type": "error",
     "traceback": [
      "\u001b[1;31m---------------------------------------------------------------------------\u001b[0m",
      "\u001b[1;31mTypeError\u001b[0m                                 Traceback (most recent call last)",
      "\u001b[1;32m~\\AppData\\Local\\Temp\\ipykernel_19236\\1360440283.py\u001b[0m in \u001b[0;36m<module>\u001b[1;34m\u001b[0m\n\u001b[0;32m      1\u001b[0m \u001b[1;31m# Mas não podemos alterar seu valor atribuindo um valor através do índice.\u001b[0m\u001b[1;33m\u001b[0m\u001b[1;33m\u001b[0m\u001b[0m\n\u001b[1;32m----> 2\u001b[1;33m \u001b[0mnome\u001b[0m\u001b[1;33m[\u001b[0m\u001b[1;36m0\u001b[0m\u001b[1;33m]\u001b[0m \u001b[1;33m=\u001b[0m \u001b[1;34m'A'\u001b[0m \u001b[1;31m# TypeError: 'str' object does not support item assignment\u001b[0m\u001b[1;33m\u001b[0m\u001b[1;33m\u001b[0m\u001b[0m\n\u001b[0m",
      "\u001b[1;31mTypeError\u001b[0m: 'str' object does not support item assignment"
     ]
    }
   ],
   "source": [
    "# Mas não podemos alterar seu valor atribuindo um valor através do índice.\n",
    "nome[0] = 'A' # TypeError: 'str' object does not support item assignment"
   ]
  },
  {
   "cell_type": "code",
   "execution_count": 10,
   "metadata": {},
   "outputs": [
    {
     "name": "stdout",
     "output_type": "stream",
     "text": [
      "Blexandre\n"
     ]
    }
   ],
   "source": [
    "# Para alterar será necessário atribuir um novo valor à string ou usar alguma função de substituição\n",
    "nome = nome.replace('A', 'B') #A string não será alterada. Uma nova string é retornada\n",
    "\n",
    "print(nome)"
   ]
  },
  {
   "attachments": {},
   "cell_type": "markdown",
   "metadata": {},
   "source": [
    "#### Como escrevê-las (mantenha o padrão escolhido em todo código):\n",
    "\n",
    "* Single quotes: 'allows embedded \"double\" quotes'\n",
    "* Double quotes: \"allows embedded 'single' quotes\"."
   ]
  },
  {
   "attachments": {},
   "cell_type": "markdown",
   "metadata": {},
   "source": [
    "Strings são arrays:\n",
    "\n",
    "Como em outras linguagens de programação populares, as strings no Python são matrizes de bytes que representam caracteres unicode. No entanto, Python não possui um tipo de dados de caractere, um único caractere é simplesmente uma sequência com comprimento 1. [1]\n",
    "\n",
    "Exemplos:"
   ]
  },
  {
   "cell_type": "code",
   "execution_count": 13,
   "metadata": {},
   "outputs": [
    {
     "name": "stdout",
     "output_type": "stream",
     "text": [
      "Nome é formado por somente dígitos?  False\n",
      "Nome é formado por somente letras?  True\n",
      "Tamanho do nome: 6\n",
      "Nome em minúsculo: python\n",
      "Nome em maiúsculo: PYTHON\n",
      "Primeira letra da frase em maiúsculo: Python\n",
      "Pesquisando uma substring em uma string:\n",
      "Acessando o conteúdo de uma string, caractere por caractere\n",
      "P\n",
      "y\n",
      "t\n",
      "h\n",
      "o\n",
      "n\n"
     ]
    }
   ],
   "source": [
    "#Exemplos de métodos de manipulação de strings\n",
    "\n",
    "nome = 'Python'\n",
    "\n",
    "print('Nome é formado por somente dígitos? ', nome.isdigit())\n",
    "print('Nome é formado por somente letras? ', nome.isalpha())\n",
    "print('Tamanho do nome:', len(nome)) #utilizada para coleções\n",
    "print('Nome em minúsculo:', nome.lower())\n",
    "print('Nome em maiúsculo:', nome.upper())\n",
    "print('Primeira letra da frase em maiúsculo:', nome.capitalize())\n",
    "print('Pesquisando uma substring em uma string:') \n",
    "'y' in nome #true\n",
    "print('Acessando o conteúdo de uma string, caractere por caractere')\n",
    "\n",
    "for c in nome:\n",
    "    print(c)"
   ]
  },
  {
   "cell_type": "code",
   "execution_count": 16,
   "metadata": {},
   "outputs": [
    {
     "name": "stdout",
     "output_type": "stream",
     "text": [
      "Convertendo um número para uma string: 10\n"
     ]
    }
   ],
   "source": [
    "#Exemplos de métodos de manipulação de strings\n",
    "print('Convertendo um número para uma string: ' + str(10))"
   ]
  },
  {
   "cell_type": "code",
   "execution_count": 17,
   "metadata": {},
   "outputs": [
    {
     "name": "stdout",
     "output_type": "stream",
     "text": [
      "Separação do conteúdo de uma string conforme um delimitador\n",
      "['Python', 'é', 'uma', 'linguagem', 'interessante']\n",
      "['Python é um', ' lingu', 'gem interess', 'nte']\n"
     ]
    }
   ],
   "source": [
    "nome = 'Python é uma linguagem interessante'\n",
    "print('Separação do conteúdo de uma string conforme um delimitador')\n",
    "print(nome.split())\n",
    "print(nome.split(\"a\")) #['Python é um', ' lingu', 'gem interess', 'nte’]"
   ]
  },
  {
   "cell_type": "code",
   "execution_count": 18,
   "metadata": {},
   "outputs": [
    {
     "name": "stdout",
     "output_type": "stream",
     "text": [
      "Juntando cada item de uma string com um delimitador (inverso desplit) \n",
      "P,y,t,h,o,n\n"
     ]
    }
   ],
   "source": [
    "nome = 'Python'\n",
    "print('Juntando cada item de uma string com um delimitador (inverso desplit) ')\n",
    "print(','.join(nome)) #P,y,t,h,o,n"
   ]
  },
  {
   "cell_type": "code",
   "execution_count": 21,
   "metadata": {},
   "outputs": [
    {
     "name": "stdout",
     "output_type": "stream",
     "text": [
      "Removendo caracteres à direita pytho\n",
      "Removendo caracteres à esquerda hon\n",
      "Removendo espaços à direita e esquerda: texto com espaços\n"
     ]
    }
   ],
   "source": [
    "#Exemplos de métodos de manipulação de strings\n",
    "nome = 'python'\n",
    "print('Removendo caracteres à direita ' + nome.rstrip('n'))\n",
    "print('Removendo caracteres à esquerda ' + nome.lstrip('pyt'))\n",
    "nome = ' texto com espaços '\n",
    "print('Removendo espaços à direita e esquerda: ' + nome.strip())"
   ]
  },
  {
   "cell_type": "code",
   "execution_count": 24,
   "metadata": {},
   "outputs": [
    {
     "name": "stdout",
     "output_type": "stream",
     "text": [
      "Verificando se a palavra \"uma\" se encontra na frase True\n",
      "Localizando a palavra \"uma\" na frase: 7\n",
      "Localizando a palavra \"uma\" na frase a partir de uma determinada posição: 30\n",
      "Quantidade de ocorrências da palavra \"uma\" na frase: 2\n"
     ]
    }
   ],
   "source": [
    "frase = 'Isso é uma frase. Isso é mais uma frase'\n",
    "nome = 'uma'\n",
    "print('Verificando se a palavra \"uma\" se encontra na frase ' + str(nome in frase))\n",
    "print('Localizando a palavra \"uma\" na frase: ' + str(frase.find(nome)))\n",
    "print('Localizando a palavra \"uma\" na frase a partir de uma determinada posição: ' + str(frase.find(nome, 10))) #find retorna -1 se não encontrar\n",
    "print('Quantidade de ocorrências da palavra \"uma\" na frase: ' + str(frase.count(nome)))"
   ]
  },
  {
   "cell_type": "code",
   "execution_count": null,
   "metadata": {},
   "outputs": [],
   "source": []
  }
 ],
 "metadata": {
  "kernelspec": {
   "display_name": "base",
   "language": "python",
   "name": "python3"
  },
  "language_info": {
   "codemirror_mode": {
    "name": "ipython",
    "version": 3
   },
   "file_extension": ".py",
   "mimetype": "text/x-python",
   "name": "python",
   "nbconvert_exporter": "python",
   "pygments_lexer": "ipython3",
   "version": "3.9.13"
  },
  "orig_nbformat": 4,
  "vscode": {
   "interpreter": {
    "hash": "57bc2b6ce032b5f0e93daa91901b7ea38a856826ef43aa9e95b6d3999f5310df"
   }
  }
 },
 "nbformat": 4,
 "nbformat_minor": 2
}
