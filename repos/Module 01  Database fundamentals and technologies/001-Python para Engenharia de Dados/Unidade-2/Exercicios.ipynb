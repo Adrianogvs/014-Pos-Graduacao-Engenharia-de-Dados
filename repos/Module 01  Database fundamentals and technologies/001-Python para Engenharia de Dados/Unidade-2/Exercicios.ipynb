{
 "cells": [
  {
   "cell_type": "markdown",
   "metadata": {},
   "source": [
    "## Exercicios - Python para Engnharia de Dados"
   ]
  },
  {
   "attachments": {},
   "cell_type": "markdown",
   "metadata": {},
   "source": [
    "____\n",
    "## Manipulação de Strings\n",
    "..."
   ]
  },
  {
   "attachments": {},
   "cell_type": "markdown",
   "metadata": {},
   "source": [
    "##### 1) Solicite ao usuário que dihite uma frase. Imprima:\n",
    "\n",
    "- O tamanho (em caracteres) da frase;\n",
    "- A frase toda em maiúscula;\n",
    "- A frase toda em minúscula;\n",
    "- A frase na vertical(letra por letra);\n",
    "- Solicite ao usuário que informe uma posição inicial e final na frase, e imprima a parte da frase que se encontra dentro das posições informadas pelo usuário;\n",
    "- A frase em ordem inversa;\n",
    "- Solicite ao usuário que informe duas palavras. Substitua, na frase informada, a primeira palavra informada pelo usuário, pela segunda palavra informada. Armazene nova frase em uma nova variável, e imprima o conteúdo da nova variável."
   ]
  },
  {
   "cell_type": "code",
   "execution_count": 2,
   "metadata": {},
   "outputs": [
    {
     "name": "stdout",
     "output_type": "stream",
     "text": [
      "Inform uma frase qualquer:\n",
      "Aqui é Galo!\n"
     ]
    }
   ],
   "source": [
    "frase = None\n",
    "\n",
    "try:\n",
    "    frase = input(str(print(f'Inform uma frase qualquer:')))\n",
    "except ValueError:\n",
    "    print('Você deve informar um valor no formato \"str\", ou seja, string')\n",
    "\n",
    "print(frase)"
   ]
  },
  {
   "cell_type": "code",
   "execution_count": 3,
   "metadata": {},
   "outputs": [
    {
     "name": "stdout",
     "output_type": "stream",
     "text": [
      "O tamanho da frase é: 12.\n"
     ]
    }
   ],
   "source": [
    "# O tamanho (em caracteres) da frase;\n",
    "print(f'O tamanho da frase é: {len(frase)}.')"
   ]
  },
  {
   "cell_type": "code",
   "execution_count": 4,
   "metadata": {},
   "outputs": [
    {
     "name": "stdout",
     "output_type": "stream",
     "text": [
      "A frase toda em maiuscula: AQUI É GALO!\n"
     ]
    }
   ],
   "source": [
    "# A frase toda em maiúscula;\n",
    "print(f'A frase toda em maiuscula: {frase.upper()}')"
   ]
  },
  {
   "cell_type": "code",
   "execution_count": 5,
   "metadata": {},
   "outputs": [
    {
     "name": "stdout",
     "output_type": "stream",
     "text": [
      "A frase toda em minuscula aqui é galo!.\n"
     ]
    }
   ],
   "source": [
    "# A frase toda em minúscula\n",
    "print(f'A frase toda em minuscula {frase.lower()}.')"
   ]
  },
  {
   "cell_type": "code",
   "execution_count": 6,
   "metadata": {},
   "outputs": [
    {
     "name": "stdout",
     "output_type": "stream",
     "text": [
      "A\n",
      "q\n",
      "u\n",
      "i\n",
      " \n",
      "é\n",
      " \n",
      "G\n",
      "a\n",
      "l\n",
      "o\n",
      "!\n"
     ]
    }
   ],
   "source": [
    "# A frase na vertical(letra por letra);\n",
    "\n",
    "for i in frase:\n",
    "    print(i)"
   ]
  },
  {
   "cell_type": "code",
   "execution_count": 7,
   "metadata": {},
   "outputs": [
    {
     "name": "stdout",
     "output_type": "stream",
     "text": [
      "Informe a primeira posição: \n",
      "A primrira posição é 0.\n",
      "Informe a segunda posição: \n",
      "A primrira posição é 12.\n",
      "Aqui é Galo!\n"
     ]
    }
   ],
   "source": [
    "# Solicite ao usuário que informe uma posição inicial e final na frase, e imprima a parte da frase que se encontra dentro das posições informadas pelo usuário;\n",
    "\n",
    "posid1 = None\n",
    "posid2 = None\n",
    "\n",
    "try:\n",
    "    posid1 = int(input(print('Informe a primeira posição: ')))\n",
    "    print(f'A primrira posição é {posid1}.')\n",
    "    posid2 = int(input(print('Informe a segunda posição: ')))\n",
    "    print(f'A primrira posição é {posid2}.')\n",
    "except ValueError:\n",
    "    print('Informe valores inteiros.')\n",
    "\n",
    "print(f'{frase[posid1:posid2]}')"
   ]
  },
  {
   "cell_type": "code",
   "execution_count": 8,
   "metadata": {},
   "outputs": [
    {
     "name": "stdout",
     "output_type": "stream",
     "text": [
      "!olaG é iuqA\n"
     ]
    }
   ],
   "source": [
    "# A frase em ordem inversa\n",
    "print(f'{frase[::-1]}')"
   ]
  },
  {
   "cell_type": "code",
   "execution_count": 9,
   "metadata": {},
   "outputs": [
    {
     "name": "stdout",
     "output_type": "stream",
     "text": [
      "A 1ª palavra informada é: Aqui\n",
      "A 2ª palavra informada é: é\n",
      "A frase informada é: Galo.\n",
      "A frase modificada é Galo.\n"
     ]
    }
   ],
   "source": [
    "# Solicite ao usuário que informe duas palavras. Substitua, na frase informada, a primeira palavra informada pelo usuário, pela segunda palavra informada. \n",
    "# Armazene nova frase em uma nova variável, e imprima o conteúdo da nova variável.\n",
    "\n",
    "substitua = []\n",
    "for i in range(2):\n",
    "    while True:\n",
    "        palavra = input(f'Informe a {i+1}ª palavra: ')\n",
    "        if not isinstance(palavra, str):\n",
    "            print('A palavra informada não é ima string, digite novamente!')\n",
    "            continue\n",
    "        substitua.append(palavra)\n",
    "        print(f'A {i+1}ª palavra informada é: {palavra}')\n",
    "        break\n",
    "while True:\n",
    "    frase = input(f'Informe uma frase: ')\n",
    "    if not isinstance(frase, str):\n",
    "        print('A frase digitada não é uma string, digite novamente!')\n",
    "        continue\n",
    "    print(f'A frase informada é: {frase}.')\n",
    "    break\n",
    "\n",
    "frase = frase.replace(substitua[0], substitua[1])\n",
    "print(f'A frase modificada é {frase}.')\n"
   ]
  },
  {
   "attachments": {},
   "cell_type": "markdown",
   "metadata": {},
   "source": [
    "#### 2) Solicite ao usuário que digite uma frase. Em seguida, solicite ao mesmo que digite uma palavra. Imprima uma mensagem informando a quantidade de vezes em que a palavra se encontra na frase (considere que a palavra pode estar em maiúscula ou minúscula na frase)"
   ]
  },
  {
   "cell_type": "code",
   "execution_count": 1,
   "metadata": {},
   "outputs": [
    {
     "name": "stdout",
     "output_type": "stream",
     "text": [
      "Informe uma frase: \n",
      "Aqui é Galo!\n",
      "Informe uma palavra: \n",
      "a.\n",
      "A quantidade de vezes que a palavra \"a\" aparece na \"Aqui é Galo!\" é de: 2\n"
     ]
    }
   ],
   "source": [
    "frase = input(print(f'Informe uma frase: '))\n",
    "print(f'{frase}')\n",
    "palavra = input(print(f'Informe uma palavra: '))\n",
    "print(f'{palavra}.')\n",
    "print(f'A quantidade de vezes que a palavra \"{palavra}\" aparece na \"{frase}\" é de: {(frase.upper().count(palavra.upper()))}')\n"
   ]
  },
  {
   "attachments": {},
   "cell_type": "markdown",
   "metadata": {},
   "source": [
    "#### 3) Solicite ao usuário que digite uma frase. Em seguida, solicite ao mesmo que informe um caractere de maneira que a frase seja dividida em partes de acordo com o caractere informado. Imprima na tela a frase dividida."
   ]
  },
  {
   "cell_type": "code",
   "execution_count": 3,
   "metadata": {},
   "outputs": [
    {
     "name": "stdout",
     "output_type": "stream",
     "text": [
      "['Aqui é Galo!']\n"
     ]
    }
   ],
   "source": [
    "frase = input('Informe uma frase: ')\n",
    "caractere = input('Informe um caractere: ')\n",
    "print(f'{frase.split(caractere)}')\n"
   ]
  },
  {
   "attachments": {},
   "cell_type": "markdown",
   "metadata": {},
   "source": [
    "#### 4. Solicite ao usuário que digite uma palavra. Em seguida, solicite ao mesmo que informe um caractere separador, de maneira que o separador seja incluído na palavra, separando cada letra da palavra digitada."
   ]
  },
  {
   "cell_type": "code",
   "execution_count": 4,
   "metadata": {},
   "outputs": [
    {
     "name": "stdout",
     "output_type": "stream",
     "text": [
      "A-q-u-i- -é- -G-a-l-o-!\n"
     ]
    }
   ],
   "source": [
    "palavra = input('Informe uma palavra: ')\n",
    "separador = input('Informe um separador: ')\n",
    "print(separador.join(palavra))"
   ]
  },
  {
   "attachments": {},
   "cell_type": "markdown",
   "metadata": {},
   "source": [
    "#### 5. Solicite ao usuário que digite uma palavra e imprima uma mensagem informando se a palavra é ou não um palíndromo (uma palavra que se lê da mesma maneira nos dois sentidos. Por exemplo: OVO, RADAR, OSSO etc.)\n"
   ]
  },
  {
   "cell_type": "code",
   "execution_count": 18,
   "metadata": {},
   "outputs": [
    {
     "name": "stdout",
     "output_type": "stream",
     "text": [
      "Informe uma palavra palíndome, ou seja, uma palavra que se lê da mesma maneira nos dois sentidos: \n",
      "A palavra é um palíndromo!\n"
     ]
    }
   ],
   "source": [
    "frase = input(print('Informe uma palavra palíndome, ou seja, uma palavra que se lê da mesma maneira nos dois sentidos: '))\n",
    "\n",
    "palindromo = frase[::-1]\n",
    "\n",
    "if (frase == palindromo):\n",
    "        print(\"A palavra é um palíndromo!\")\n",
    "else:\n",
    "    print(\"A palavra não é um palíndromo.\")"
   ]
  },
  {
   "attachments": {},
   "cell_type": "markdown",
   "metadata": {},
   "source": [
    "____\n",
    "\n",
    "### Estruturas de Dados\n",
    "..."
   ]
  },
  {
   "attachments": {},
   "cell_type": "markdown",
   "metadata": {},
   "source": [
    "#### 1. Crie uma lista contendo 10 valores inteiros aleatórios, entre 1 e 20. Imprima:\n",
    "a. O maior valor, o menor valor, a soma e a média dos valores na lista;<br>\n",
    "b. Ordene a lista, e em seguida, a imprima em ordem crescente;<br>\n",
    "c. Imprima a lista em ordem decrescente;<br>\n",
    "d. Solicite ao usuário que informe um valor e imprima a quantidade de ocorrências do valor na lista. Imprima uma mensagem, caso o valor não se encontre na lista.<br>"
   ]
  },
  {
   "cell_type": "code",
   "execution_count": 10,
   "metadata": {},
   "outputs": [
    {
     "name": "stdout",
     "output_type": "stream",
     "text": [
      "[4, 13, 13, 6, 2, 6, 10, 19, 18, 8]\n"
     ]
    }
   ],
   "source": [
    "# Crie uma lista contendo 10 valores inteiros aleatórios, entre 1 e 20. Imprima:\n",
    "import random\n",
    "\n",
    "valores = [random.randint(1, 20) for i in range(10)]\n",
    "lista = valores\n",
    "print(lista)\n"
   ]
  },
  {
   "cell_type": "code",
   "execution_count": 11,
   "metadata": {},
   "outputs": [
    {
     "name": "stdout",
     "output_type": "stream",
     "text": [
      "O maior valor é: 19.\n",
      "O menor valor é: 2.\n",
      "A soma dos valores é: 99.\n",
      "A media dos valores é: 9.9.\n"
     ]
    }
   ],
   "source": [
    "# O maior valor, o menor valor, a soma e a média dos valores na lista\n",
    "\n",
    "print(f'O maior valor é: {max(lista)}.')\n",
    "print(f'O menor valor é: {min(lista)}.')\n",
    "print(f'A soma dos valores é: {sum(lista)}.')\n",
    "print(f'A media dos valores é: {(sum(lista)/len(lista))}.')"
   ]
  },
  {
   "cell_type": "code",
   "execution_count": 14,
   "metadata": {},
   "outputs": [
    {
     "data": {
      "text/plain": [
       "[2, 4, 6, 6, 8, 10, 13, 13, 18, 19]"
      ]
     },
     "execution_count": 14,
     "metadata": {},
     "output_type": "execute_result"
    }
   ],
   "source": [
    "# Ordene a lista, e em seguida, a imprima em ordem crescente\n",
    "lista.sort()\n",
    "lista"
   ]
  },
  {
   "cell_type": "code",
   "execution_count": 15,
   "metadata": {},
   "outputs": [
    {
     "data": {
      "text/plain": [
       "[19, 18, 13, 13, 10, 8, 6, 6, 4, 2]"
      ]
     },
     "execution_count": 15,
     "metadata": {},
     "output_type": "execute_result"
    }
   ],
   "source": [
    "# Imprima a lista em ordem decrescente\n",
    "lista.reverse()\n",
    "lista"
   ]
  },
  {
   "attachments": {},
   "cell_type": "markdown",
   "metadata": {},
   "source": [
    "#### 2) Solicite ao usuário que informe um valor e imprima a quantidade de ocorrências do valor na lista. Imprima uma mensagem, caso o valor não se encontre na lista."
   ]
  },
  {
   "cell_type": "code",
   "execution_count": null,
   "metadata": {},
   "outputs": [],
   "source": [
    "# Cria uma lista com alguns valores\n",
    "lista = [1, 2, 3, 4, 5, 2, 3, 1, 4, 5, 6, 7, 8, 9]\n",
    "\n",
    "# Solicita ao usuário que informe um valor\n",
    "try:\n",
    "    valor = int(input(\"Digite um valor: \"))\n",
    "except ValueError:\n",
    "    print('Digite um numero inteiro!')\n",
    "\n",
    "# Usa o método count para contar as ocorrências do valor na lista\n",
    "ocorrencias = lista.count(valor)\n",
    "\n",
    "# Verifica se o valor foi encontrado e imprime a mensagem apropriada\n",
    "if ocorrencias == 0:\n",
    "    print(\"O valor não se encontra na lista.\")\n",
    "else:\n",
    "    print(f\"O valor {valor} ocorre {ocorrencias} vez(es) na lista.\")\n"
   ]
  },
  {
   "attachments": {},
   "cell_type": "markdown",
   "metadata": {},
   "source": [
    "#### 3) Considere a seguinte lista: [10, 20, 30, 30, 30, 40, 10, 20] Faça um programa que exclua todas as ocorrências do número 30 da lista."
   ]
  },
  {
   "cell_type": "code",
   "execution_count": 17,
   "metadata": {},
   "outputs": [
    {
     "name": "stdout",
     "output_type": "stream",
     "text": [
      "[10, 20, 40, 10, 20]\n"
     ]
    }
   ],
   "source": [
    "# Define a lista\n",
    "lista = [10, 20, 30, 30, 30, 40, 10, 20]\n",
    "\n",
    "# Loop para remover todas as ocorrências do número 30\n",
    "while 30 in lista:\n",
    "    lista.remove(30)\n",
    "\n",
    "# Imprime a lista resultante\n",
    "print(lista)\n"
   ]
  },
  {
   "attachments": {},
   "cell_type": "markdown",
   "metadata": {},
   "source": [
    "#### 4) Crie uma lista contendo 10 valores inteiros aleatórios (escolha uma faixa qualquer). Crie outras duas listas: uma para armazenar os valores pares da primeira lista, e outra para armazenar os valores ímpares. Imprima em seguida as 3 listas."
   ]
  },
  {
   "cell_type": "code",
   "execution_count": 18,
   "metadata": {},
   "outputs": [
    {
     "name": "stdout",
     "output_type": "stream",
     "text": [
      "Lista original: [40, 61, 68, 88, 75, 51, 96, 58, 92, 59]\n",
      "Valores pares: [40, 68, 88, 96, 58, 92]\n",
      "Valores ímpares: [61, 75, 51, 59]\n"
     ]
    }
   ],
   "source": [
    "import random\n",
    "\n",
    "# Cria uma lista com 10 valores inteiros aleatórios entre 1 e 100\n",
    "lista = [random.randint(1, 100) for _ in range(10)]\n",
    "\n",
    "# Cria listas para armazenar os valores pares e ímpares\n",
    "pares = []\n",
    "impares = []\n",
    "\n",
    "# Loop para separar os valores pares e ímpares na lista original\n",
    "for valor in lista:\n",
    "    if valor % 2 == 0:\n",
    "        pares.append(valor)\n",
    "    else:\n",
    "        impares.append(valor)\n",
    "\n",
    "# Imprime as três listas\n",
    "print(\"Lista original:\", lista)\n",
    "print(\"Valores pares:\", pares)\n",
    "print(\"Valores ímpares:\", impares)\n"
   ]
  },
  {
   "attachments": {},
   "cell_type": "markdown",
   "metadata": {},
   "source": [
    "#### 5) Solicite ao usuário que digite uma data no formato DD/MM/AAAA e imprima a data por extenso. Por exemplo:\n",
    "1/11/2022 – 08 de novembro de 2022<br>\n",
    "(dica: crie uma lista contendo o nome de cada mês do ano)"
   ]
  },
  {
   "cell_type": "code",
   "execution_count": 26,
   "metadata": {},
   "outputs": [
    {
     "name": "stdout",
     "output_type": "stream",
     "text": [
      "Data informada é invalida, digite novamente!\n"
     ]
    }
   ],
   "source": [
    "# Solicita que o usuário digite a data no formato DD/MM/AAAA\n",
    "data = input(\"Digite a data no formato DD/MM/AAAA: \")\n",
    "\n",
    "# Separa os valores do dia, mês e ano em uma lista\n",
    "try:\n",
    "    dia, mes, ano = data.split(\"/\")\n",
    "    if len(dia) != 2 or len(mes) != 2 or len(ano) != 4:\n",
    "        raise ValueError\n",
    "except ValueError:\n",
    "    print('Data informada é invalida, digite novamente!')\n",
    "else:\n",
    "    # Cria uma lista com o nome de cada mês\n",
    "    meses = [\"\", \"janeiro\", \"fevereiro\", \"março\", \"abril\", \"maio\", \"junho\", \n",
    "         \"julho\", \"agosto\", \"setembro\", \"outubro\", \"novembro\", \"dezembro\"]\n",
    "    # Imprime a data por extenso no formato desejado\n",
    "    print(f\"{dia} de {meses[int(mes)]} de {ano}\")\n"
   ]
  },
  {
   "attachments": {},
   "cell_type": "markdown",
   "metadata": {},
   "source": [
    "#### 6) Faça um programa que gere uma lista contendo 6 números aleatórios, de 1 a 60, que serão jogados na Mega-Sena. Em seguida, solicite ao usuário os 6 números sorteados. Imprima a lista contendo os números jogados, e a quantidade de números acertados no sorteio."
   ]
  },
  {
   "cell_type": "code",
   "execution_count": 21,
   "metadata": {},
   "outputs": [
    {
     "name": "stdout",
     "output_type": "stream",
     "text": [
      "Números jogados: [13, 16, 7, 20, 15, 3]\n",
      "Você acertou 1 números!\n"
     ]
    }
   ],
   "source": [
    "import random\n",
    "\n",
    "# Gera uma lista com 6 números aleatórios de 1 a 60\n",
    "numeros_jogados = random.sample(range(1, 61), 6)\n",
    "\n",
    "# Solicita ao usuário os 6 números sorteados\n",
    "numeros_sorteio = []\n",
    "for i in range(6):\n",
    "    while True:\n",
    "        numero = int(input(f\"Digite o {i+1}º número sorteado (entre 1 e 60): \"))\n",
    "        if numero >= 1 and numero <= 60:\n",
    "            numeros_sorteio.append(numero)\n",
    "            break\n",
    "        else:\n",
    "            print('Número invalido, digite novamente!')\n",
    "\n",
    "# Imprime a lista com os números jogados\n",
    "print(f\"Números jogados: {numeros_jogados}\")\n",
    "\n",
    "# Conta quantos números foram acertados\n",
    "acertos = 0\n",
    "for numero in numeros_sorteio:\n",
    "    if numero in numeros_jogados:\n",
    "        acertos += 1\n",
    "\n",
    "# Imprime a quantidade de números acertados\n",
    "print(f\"Você acertou {acertos} números!\")\n"
   ]
  },
  {
   "cell_type": "code",
   "execution_count": null,
   "metadata": {},
   "outputs": [],
   "source": []
  }
 ],
 "metadata": {
  "kernelspec": {
   "display_name": "base",
   "language": "python",
   "name": "python3"
  },
  "language_info": {
   "codemirror_mode": {
    "name": "ipython",
    "version": 3
   },
   "file_extension": ".py",
   "mimetype": "text/x-python",
   "name": "python",
   "nbconvert_exporter": "python",
   "pygments_lexer": "ipython3",
   "version": "3.9.13"
  },
  "orig_nbformat": 4,
  "vscode": {
   "interpreter": {
    "hash": "57bc2b6ce032b5f0e93daa91901b7ea38a856826ef43aa9e95b6d3999f5310df"
   }
  }
 },
 "nbformat": 4,
 "nbformat_minor": 2
}
