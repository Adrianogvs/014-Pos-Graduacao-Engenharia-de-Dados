{
 "cells": [
  {
   "cell_type": "markdown",
   "metadata": {},
   "source": [
    "## Exercicios - Python para Engnharia de Dados"
   ]
  },
  {
   "attachments": {},
   "cell_type": "markdown",
   "metadata": {},
   "source": [
    "____\n",
    "##  Estruturas de Dados - Manipulação de Strings\n",
    "..."
   ]
  },
  {
   "attachments": {},
   "cell_type": "markdown",
   "metadata": {},
   "source": [
    "##### 1) Solicite ao usuário que dihite uma frase. Imprima:\n",
    "\n",
    "- O tamanho (em caracteres) da frase;\n",
    "- A frase toda em maiúscula;\n",
    "- A frase toda em minúscula;\n",
    "- A frase na vertical(letra por letra);\n",
    "- Solicite ao usuário que informe uma posição inicial e final na frase, e imprima a parte da frase que se encontra dentro das posições informadas pelo usuário;\n",
    "- A frase em ordem inversa;\n",
    "- Solicite ao usuário que informe duas palavras. Substitua, na frase informada, a primeira palavra informada pelo usuário, pela segunda palavra informada. Armazene nova frase em uma nova variável, e imprima o conteúdo da nova variável."
   ]
  },
  {
   "cell_type": "code",
   "execution_count": 2,
   "metadata": {},
   "outputs": [
    {
     "name": "stdout",
     "output_type": "stream",
     "text": [
      "Inform uma frase qualquer:\n",
      "Aqui é Galo!\n"
     ]
    }
   ],
   "source": [
    "frase = None\n",
    "\n",
    "try:\n",
    "    frase = input(str(print(f'Inform uma frase qualquer:')))\n",
    "except ValueError:\n",
    "    print('Você deve informar um valor no formato \"str\", ou seja, string')\n",
    "\n",
    "print(frase)"
   ]
  },
  {
   "cell_type": "code",
   "execution_count": 3,
   "metadata": {},
   "outputs": [
    {
     "name": "stdout",
     "output_type": "stream",
     "text": [
      "O tamanho da frase é: 12.\n"
     ]
    }
   ],
   "source": [
    "# O tamanho (em caracteres) da frase;\n",
    "print(f'O tamanho da frase é: {len(frase)}.')"
   ]
  },
  {
   "cell_type": "code",
   "execution_count": 4,
   "metadata": {},
   "outputs": [
    {
     "name": "stdout",
     "output_type": "stream",
     "text": [
      "A frase toda em maiuscula: AQUI É GALO!\n"
     ]
    }
   ],
   "source": [
    "# A frase toda em maiúscula;\n",
    "print(f'A frase toda em maiuscula: {frase.upper()}')"
   ]
  },
  {
   "cell_type": "code",
   "execution_count": 5,
   "metadata": {},
   "outputs": [
    {
     "name": "stdout",
     "output_type": "stream",
     "text": [
      "A frase toda em minuscula aqui é galo!.\n"
     ]
    }
   ],
   "source": [
    "# A frase toda em minúscula\n",
    "print(f'A frase toda em minuscula {frase.lower()}.')"
   ]
  },
  {
   "cell_type": "code",
   "execution_count": 6,
   "metadata": {},
   "outputs": [
    {
     "name": "stdout",
     "output_type": "stream",
     "text": [
      "A\n",
      "q\n",
      "u\n",
      "i\n",
      " \n",
      "é\n",
      " \n",
      "G\n",
      "a\n",
      "l\n",
      "o\n",
      "!\n"
     ]
    }
   ],
   "source": [
    "# A frase na vertical(letra por letra);\n",
    "\n",
    "for i in frase:\n",
    "    print(i)"
   ]
  },
  {
   "cell_type": "code",
   "execution_count": 7,
   "metadata": {},
   "outputs": [
    {
     "name": "stdout",
     "output_type": "stream",
     "text": [
      "Informe a primeira posição: \n",
      "A primrira posição é 0.\n",
      "Informe a segunda posição: \n",
      "A primrira posição é 12.\n",
      "Aqui é Galo!\n"
     ]
    }
   ],
   "source": [
    "# Solicite ao usuário que informe uma posição inicial e final na frase, e imprima a parte da frase que se encontra dentro das posições informadas pelo usuário;\n",
    "\n",
    "posid1 = None\n",
    "posid2 = None\n",
    "\n",
    "try:\n",
    "    posid1 = int(input(print('Informe a primeira posição: ')))\n",
    "    print(f'A primrira posição é {posid1}.')\n",
    "    posid2 = int(input(print('Informe a segunda posição: ')))\n",
    "    print(f'A primrira posição é {posid2}.')\n",
    "except ValueError:\n",
    "    print('Informe valores inteiros.')\n",
    "\n",
    "print(f'{frase[posid1:posid2]}')"
   ]
  },
  {
   "cell_type": "code",
   "execution_count": 8,
   "metadata": {},
   "outputs": [
    {
     "name": "stdout",
     "output_type": "stream",
     "text": [
      "!olaG é iuqA\n"
     ]
    }
   ],
   "source": [
    "# A frase em ordem inversa\n",
    "print(f'{frase[::-1]}')"
   ]
  },
  {
   "cell_type": "code",
   "execution_count": 9,
   "metadata": {},
   "outputs": [
    {
     "name": "stdout",
     "output_type": "stream",
     "text": [
      "A 1ª palavra informada é: Aqui\n",
      "A 2ª palavra informada é: é\n",
      "A frase informada é: Galo.\n",
      "A frase modificada é Galo.\n"
     ]
    }
   ],
   "source": [
    "# Solicite ao usuário que informe duas palavras. Substitua, na frase informada, a primeira palavra informada pelo usuário, pela segunda palavra informada. \n",
    "# Armazene nova frase em uma nova variável, e imprima o conteúdo da nova variável.\n",
    "\n",
    "substitua = []\n",
    "for i in range(2):\n",
    "    while True:\n",
    "        palavra = input(f'Informe a {i+1}ª palavra: ')\n",
    "        if not isinstance(palavra, str):\n",
    "            print('A palavra informada não é ima string, digite novamente!')\n",
    "            continue\n",
    "        substitua.append(palavra)\n",
    "        print(f'A {i+1}ª palavra informada é: {palavra}')\n",
    "        break\n",
    "while True:\n",
    "    frase = input(f'Informe uma frase: ')\n",
    "    if not isinstance(frase, str):\n",
    "        print('A frase digitada não é uma string, digite novamente!')\n",
    "        continue\n",
    "    print(f'A frase informada é: {frase}.')\n",
    "    break\n",
    "\n",
    "frase = frase.replace(substitua[0], substitua[1])\n",
    "print(f'A frase modificada é {frase}.')\n"
   ]
  },
  {
   "attachments": {},
   "cell_type": "markdown",
   "metadata": {},
   "source": [
    "#### 2) Solicite ao usuário que digite uma frase. Em seguida, solicite ao mesmo que digite uma palavra. Imprima uma mensagem informando a quantidade de vezes em que a palavra se encontra na frase (considere que a palavra pode estar em maiúscula ou minúscula na frase)"
   ]
  },
  {
   "cell_type": "code",
   "execution_count": 1,
   "metadata": {},
   "outputs": [
    {
     "name": "stdout",
     "output_type": "stream",
     "text": [
      "Informe uma frase: \n",
      "Aqui é Galo!\n",
      "Informe uma palavra: \n",
      "a.\n",
      "A quantidade de vezes que a palavra \"a\" aparece na \"Aqui é Galo!\" é de: 2\n"
     ]
    }
   ],
   "source": [
    "frase = input(print(f'Informe uma frase: '))\n",
    "print(f'{frase}')\n",
    "palavra = input(print(f'Informe uma palavra: '))\n",
    "print(f'{palavra}.')\n",
    "print(f'A quantidade de vezes que a palavra \"{palavra}\" aparece na \"{frase}\" é de: {(frase.upper().count(palavra.upper()))}')\n"
   ]
  },
  {
   "attachments": {},
   "cell_type": "markdown",
   "metadata": {},
   "source": [
    "#### 3) Solicite ao usuário que digite uma frase. Em seguida, solicite ao mesmo que informe um caractere de maneira que a frase seja dividida em partes de acordo com o caractere informado. Imprima na tela a frase dividida."
   ]
  },
  {
   "cell_type": "code",
   "execution_count": 3,
   "metadata": {},
   "outputs": [
    {
     "name": "stdout",
     "output_type": "stream",
     "text": [
      "['Aqui é Galo!']\n"
     ]
    }
   ],
   "source": [
    "frase = input('Informe uma frase: ')\n",
    "caractere = input('Informe um caractere: ')\n",
    "print(f'{frase.split(caractere)}')\n"
   ]
  },
  {
   "attachments": {},
   "cell_type": "markdown",
   "metadata": {},
   "source": [
    "#### 4. Solicite ao usuário que digite uma palavra. Em seguida, solicite ao mesmo que informe um caractere separador, de maneira que o separador seja incluído na palavra, separando cada letra da palavra digitada."
   ]
  },
  {
   "cell_type": "code",
   "execution_count": 4,
   "metadata": {},
   "outputs": [
    {
     "name": "stdout",
     "output_type": "stream",
     "text": [
      "A-q-u-i- -é- -G-a-l-o-!\n"
     ]
    }
   ],
   "source": [
    "palavra = input('Informe uma palavra: ')\n",
    "separador = input('Informe um separador: ')\n",
    "print(separador.join(palavra))"
   ]
  },
  {
   "attachments": {},
   "cell_type": "markdown",
   "metadata": {},
   "source": [
    "#### 5. Solicite ao usuário que digite uma palavra e imprima uma mensagem informando se a palavra é ou não um palíndromo (uma palavra que se lê da mesma maneira nos dois sentidos. Por exemplo: OVO, RADAR, OSSO etc.)\n"
   ]
  },
  {
   "cell_type": "code",
   "execution_count": 18,
   "metadata": {},
   "outputs": [
    {
     "name": "stdout",
     "output_type": "stream",
     "text": [
      "Informe uma palavra palíndome, ou seja, uma palavra que se lê da mesma maneira nos dois sentidos: \n",
      "A palavra é um palíndromo!\n"
     ]
    }
   ],
   "source": [
    "frase = input(print('Informe uma palavra palíndome, ou seja, uma palavra que se lê da mesma maneira nos dois sentidos: '))\n",
    "\n",
    "palindromo = frase[::-1]\n",
    "\n",
    "if (frase == palindromo):\n",
    "        print(\"A palavra é um palíndromo!\")\n",
    "else:\n",
    "    print(\"A palavra não é um palíndromo.\")"
   ]
  },
  {
   "attachments": {},
   "cell_type": "markdown",
   "metadata": {},
   "source": [
    "____\n",
    "\n",
    "### Estruturas de Dados - Listas\n",
    "..."
   ]
  },
  {
   "attachments": {},
   "cell_type": "markdown",
   "metadata": {},
   "source": [
    "#### 1. Crie uma lista contendo 10 valores inteiros aleatórios, entre 1 e 20. Imprima:\n",
    "a. O maior valor, o menor valor, a soma e a média dos valores na lista;<br>\n",
    "b. Ordene a lista, e em seguida, a imprima em ordem crescente;<br>\n",
    "c. Imprima a lista em ordem decrescente;<br>\n",
    "d. Solicite ao usuário que informe um valor e imprima a quantidade de ocorrências do valor na lista. Imprima uma mensagem, caso o valor não se encontre na lista.<br>"
   ]
  },
  {
   "cell_type": "code",
   "execution_count": 10,
   "metadata": {},
   "outputs": [
    {
     "name": "stdout",
     "output_type": "stream",
     "text": [
      "[4, 13, 13, 6, 2, 6, 10, 19, 18, 8]\n"
     ]
    }
   ],
   "source": [
    "# Crie uma lista contendo 10 valores inteiros aleatórios, entre 1 e 20. Imprima:\n",
    "import random\n",
    "\n",
    "valores = [random.randint(1, 20) for i in range(10)]\n",
    "lista = valores\n",
    "print(lista)\n"
   ]
  },
  {
   "cell_type": "code",
   "execution_count": 11,
   "metadata": {},
   "outputs": [
    {
     "name": "stdout",
     "output_type": "stream",
     "text": [
      "O maior valor é: 19.\n",
      "O menor valor é: 2.\n",
      "A soma dos valores é: 99.\n",
      "A media dos valores é: 9.9.\n"
     ]
    }
   ],
   "source": [
    "# O maior valor, o menor valor, a soma e a média dos valores na lista\n",
    "\n",
    "print(f'O maior valor é: {max(lista)}.')\n",
    "print(f'O menor valor é: {min(lista)}.')\n",
    "print(f'A soma dos valores é: {sum(lista)}.')\n",
    "print(f'A media dos valores é: {(sum(lista)/len(lista))}.')"
   ]
  },
  {
   "cell_type": "code",
   "execution_count": 14,
   "metadata": {},
   "outputs": [
    {
     "data": {
      "text/plain": [
       "[2, 4, 6, 6, 8, 10, 13, 13, 18, 19]"
      ]
     },
     "execution_count": 14,
     "metadata": {},
     "output_type": "execute_result"
    }
   ],
   "source": [
    "# Ordene a lista, e em seguida, a imprima em ordem crescente\n",
    "lista.sort()\n",
    "lista"
   ]
  },
  {
   "cell_type": "code",
   "execution_count": 15,
   "metadata": {},
   "outputs": [
    {
     "data": {
      "text/plain": [
       "[19, 18, 13, 13, 10, 8, 6, 6, 4, 2]"
      ]
     },
     "execution_count": 15,
     "metadata": {},
     "output_type": "execute_result"
    }
   ],
   "source": [
    "# Imprima a lista em ordem decrescente\n",
    "lista.reverse()\n",
    "lista"
   ]
  },
  {
   "attachments": {},
   "cell_type": "markdown",
   "metadata": {},
   "source": [
    "#### 2) Solicite ao usuário que informe um valor e imprima a quantidade de ocorrências do valor na lista. Imprima uma mensagem, caso o valor não se encontre na lista."
   ]
  },
  {
   "cell_type": "code",
   "execution_count": null,
   "metadata": {},
   "outputs": [],
   "source": [
    "# Cria uma lista com alguns valores\n",
    "lista = [1, 2, 3, 4, 5, 2, 3, 1, 4, 5, 6, 7, 8, 9]\n",
    "\n",
    "# Solicita ao usuário que informe um valor\n",
    "try:\n",
    "    valor = int(input(\"Digite um valor: \"))\n",
    "except ValueError:\n",
    "    print('Digite um numero inteiro!')\n",
    "\n",
    "# Usa o método count para contar as ocorrências do valor na lista\n",
    "ocorrencias = lista.count(valor)\n",
    "\n",
    "# Verifica se o valor foi encontrado e imprime a mensagem apropriada\n",
    "if ocorrencias == 0:\n",
    "    print(\"O valor não se encontra na lista.\")\n",
    "else:\n",
    "    print(f\"O valor {valor} ocorre {ocorrencias} vez(es) na lista.\")\n"
   ]
  },
  {
   "attachments": {},
   "cell_type": "markdown",
   "metadata": {},
   "source": [
    "#### 3) Considere a seguinte lista: [10, 20, 30, 30, 30, 40, 10, 20] Faça um programa que exclua todas as ocorrências do número 30 da lista."
   ]
  },
  {
   "cell_type": "code",
   "execution_count": 17,
   "metadata": {},
   "outputs": [
    {
     "name": "stdout",
     "output_type": "stream",
     "text": [
      "[10, 20, 40, 10, 20]\n"
     ]
    }
   ],
   "source": [
    "# Define a lista\n",
    "lista = [10, 20, 30, 30, 30, 40, 10, 20]\n",
    "\n",
    "# Loop para remover todas as ocorrências do número 30\n",
    "while 30 in lista:\n",
    "    lista.remove(30)\n",
    "\n",
    "# Imprime a lista resultante\n",
    "print(lista)\n"
   ]
  },
  {
   "attachments": {},
   "cell_type": "markdown",
   "metadata": {},
   "source": [
    "#### 4) Crie uma lista contendo 10 valores inteiros aleatórios (escolha uma faixa qualquer). Crie outras duas listas: uma para armazenar os valores pares da primeira lista, e outra para armazenar os valores ímpares. Imprima em seguida as 3 listas."
   ]
  },
  {
   "cell_type": "code",
   "execution_count": 29,
   "metadata": {},
   "outputs": [
    {
     "name": "stdout",
     "output_type": "stream",
     "text": [
      "Lista original: [99, 19, 38, 43, 84, 41, 10, 77, 60, 60]\n",
      "Valores pares: [38, 84, 10, 60, 60]\n",
      "Valores ímpares: [99, 19, 43, 41, 77]\n"
     ]
    }
   ],
   "source": [
    "import random\n",
    "\n",
    "# Cria uma lista com 10 valores inteiros aleatórios entre 1 e 100\n",
    "lista = [random.randint(1, 100) for i in range(10)]\n",
    "\n",
    "# Cria listas para armazenar os valores pares e ímpares\n",
    "pares = []\n",
    "impares = []\n",
    "\n",
    "# Loop para separar os valores pares e ímpares na lista original\n",
    "for valor in lista:\n",
    "    if valor % 2 == 0:\n",
    "        pares.append(valor)\n",
    "    else:\n",
    "        impares.append(valor)\n",
    "\n",
    "# Imprime as três listas\n",
    "print(\"Lista original:\", lista)\n",
    "print(\"Valores pares:\", pares)\n",
    "print(\"Valores ímpares:\", impares)\n"
   ]
  },
  {
   "attachments": {},
   "cell_type": "markdown",
   "metadata": {},
   "source": [
    "#### 5) Solicite ao usuário que digite uma data no formato DD/MM/AAAA e imprima a data por extenso. Por exemplo:\n",
    "1/11/2022 – 08 de novembro de 2022<br>\n",
    "(dica: crie uma lista contendo o nome de cada mês do ano)"
   ]
  },
  {
   "cell_type": "code",
   "execution_count": 26,
   "metadata": {},
   "outputs": [
    {
     "name": "stdout",
     "output_type": "stream",
     "text": [
      "Data informada é invalida, digite novamente!\n"
     ]
    }
   ],
   "source": [
    "# Solicita que o usuário digite a data no formato DD/MM/AAAA\n",
    "data = input(\"Digite a data no formato DD/MM/AAAA: \")\n",
    "\n",
    "# Separa os valores do dia, mês e ano em uma lista\n",
    "try:\n",
    "    dia, mes, ano = data.split(\"/\")\n",
    "    if len(dia) != 2 or len(mes) != 2 or len(ano) != 4:\n",
    "        raise ValueError\n",
    "except ValueError:\n",
    "    print('Data informada é invalida, digite novamente!')\n",
    "else:\n",
    "    # Cria uma lista com o nome de cada mês\n",
    "    meses = [\"\", \"janeiro\", \"fevereiro\", \"março\", \"abril\", \"maio\", \"junho\", \n",
    "         \"julho\", \"agosto\", \"setembro\", \"outubro\", \"novembro\", \"dezembro\"]\n",
    "    # Imprime a data por extenso no formato desejado\n",
    "    print(f\"{dia} de {meses[int(mes)]} de {ano}\")\n"
   ]
  },
  {
   "attachments": {},
   "cell_type": "markdown",
   "metadata": {},
   "source": [
    "#### 6) Faça um programa que gere uma lista contendo 6 números aleatórios, de 1 a 60, que serão jogados na Mega-Sena. Em seguida, solicite ao usuário os 6 números sorteados. Imprima a lista contendo os números jogados, e a quantidade de números acertados no sorteio."
   ]
  },
  {
   "cell_type": "code",
   "execution_count": 35,
   "metadata": {},
   "outputs": [
    {
     "name": "stdout",
     "output_type": "stream",
     "text": [
      "Números jogados: [25, 38, 11, 36, 42, 3]\n",
      "Você acertou 1 números!\n",
      "Os números ordenados são: [3, 11, 25, 36, 38, 42].\n"
     ]
    }
   ],
   "source": [
    "import random\n",
    "\n",
    "# Gera uma lista com 6 números aleatórios de 1 a 60\n",
    "numeros_jogados = random.sample(range(1, 61), 6)\n",
    "\n",
    "# Solicita ao usuário os 6 números sorteados\n",
    "numeros_sorteio = []\n",
    "for i in range(6):\n",
    "    while True:\n",
    "        numero = int(input(f\"Digite o {i+1}º número sorteado (entre 1 e 60): \"))\n",
    "        if numero >= 1 and numero <= 60:\n",
    "            numeros_sorteio.append(numero)\n",
    "            break\n",
    "        else:\n",
    "            print('Número invalido, digite novamente!')\n",
    "\n",
    "# Imprime a lista com os números jogados\n",
    "print(f\"Números jogados: {numeros_jogados}\")\n",
    "numeros_jogados.sort()\n",
    "\n",
    "\n",
    "# Conta quantos números foram acertados\n",
    "acertos = 0\n",
    "for numero in numeros_sorteio:\n",
    "    if numero in numeros_jogados:\n",
    "        acertos += 1\n",
    "\n",
    "# Imprime a quantidade de números acertados\n",
    "print(f\"Você acertou {acertos} números!\")\n",
    "print(f'Os números ordenados são: {numeros_jogados}.')"
   ]
  },
  {
   "attachments": {},
   "cell_type": "markdown",
   "metadata": {},
   "source": [
    "____\n",
    "##  Estruturas de Dados - Tupla - Dicionário\n",
    "..."
   ]
  },
  {
   "attachments": {},
   "cell_type": "markdown",
   "metadata": {},
   "source": [
    "#### 1) Crie uma tupla contendo 10 valores determinados por você. Solicite em seguida que o usuário informe um valor. Informe quantas vezes o valor se encontra na tupla. Caso não se encontre, emita uma mensagem informando."
   ]
  },
  {
   "cell_type": "code",
   "execution_count": 43,
   "metadata": {},
   "outputs": [
    {
     "name": "stdout",
     "output_type": "stream",
     "text": [
      "O valor 10 aparece 1 vez(es) na tupla.\n"
     ]
    },
    {
     "data": {
      "text/plain": [
       "(9, 3, 5, 8, 7, 6, 1, 4, 2, 10)"
      ]
     },
     "execution_count": 43,
     "metadata": {},
     "output_type": "execute_result"
    }
   ],
   "source": [
    "import random\n",
    "min = 1\n",
    "max = 10\n",
    "\n",
    "tupla = tuple(random.sample(range(min, max + 1), 10))\n",
    "try:\n",
    "    valor = int(input('Digite um valor: '))\n",
    "    ocorrencias = tupla.count(valor)\n",
    "except ValueError:\n",
    "    print('Valor informado não é um inteiro, digite novamente!')\n",
    "else:\n",
    "    if ocorrencias > 0:\n",
    "        print(f'O valor {valor} aparece {ocorrencias} vez(es) na tupla.')\n",
    "    else:\n",
    "        print(f'O valor {valor} não se encontra na tupla.')\n",
    "tupla"
   ]
  },
  {
   "attachments": {},
   "cell_type": "markdown",
   "metadata": {},
   "source": [
    "#### 2) Leia a matrícula e a nota de 5 alunos da disciplina Python para Engenharia de Dados. Armazene-os em um dicionário. Imprima:\n",
    "a. A média das notas <br>\n",
    "b. O(s) aluno(s) que obtiveram a maior nota <br>\n",
    "c. O(s) aluno(s) que obtiveram a menor nota <br>"
   ]
  },
  {
   "cell_type": "code",
   "execution_count": 48,
   "metadata": {},
   "outputs": [
    {
     "name": "stdout",
     "output_type": "stream",
     "text": [
      "Média das notas: 8.6\n",
      "Aluno(s) com maior nota: ['A11', 'B12']\n",
      "Aluno(s) com menor nota: ['F15']\n"
     ]
    }
   ],
   "source": [
    "alunos = []\n",
    "\n",
    "try:\n",
    "    for i in range(5):\n",
    "        matricula = input(\"Digite a matrícula do aluno: \")\n",
    "        nota = float(input(\"Digite a nota do aluno: \"))\n",
    "        alunos.append((matricula, nota))\n",
    "        \n",
    "except ValueError:\n",
    "    print('Somente valores numéricos são permitidos. Por favor, tente novamente.')\n",
    "else:\n",
    "    soma_notas = 0\n",
    "    for _, nota in alunos:\n",
    "        soma_notas += nota\n",
    "    media = soma_notas / len(alunos)\n",
    "\n",
    "    maior_nota = alunos[0][1]\n",
    "    alunos_maior_nota = []\n",
    "    for matricula, nota in alunos:\n",
    "        if nota > maior_nota:\n",
    "            maior_nota = nota\n",
    "            alunos_maior_nota = [matricula]\n",
    "        elif nota == maior_nota:\n",
    "            alunos_maior_nota.append(matricula)\n",
    "\n",
    "    menor_nota = alunos[0][1]\n",
    "    alunos_menor_nota = []\n",
    "    for matricula, nota in alunos:\n",
    "        if nota < menor_nota:\n",
    "            menor_nota = nota\n",
    "            alunos_menor_nota = [matricula]\n",
    "        elif nota == menor_nota:\n",
    "            alunos_menor_nota.append(matricula)\n",
    "\n",
    "    print(\"Média das notas:\", media)\n",
    "    print(\"Aluno(s) com maior nota:\", alunos_maior_nota)\n",
    "    print(\"Aluno(s) com menor nota:\", alunos_menor_nota)\n"
   ]
  },
  {
   "attachments": {},
   "cell_type": "markdown",
   "metadata": {},
   "source": [
    "#### 3) Crie um dicionário e armazene o nome e e-mail de 5 pessoas informados por você. Em seguida, solicite ao usuário que informe um nome. Imprima o e-mail da pessoa informada, caso exista no dicionário. Caso não exista, emita uma mensagem. Utilize a mesma estratégia para um e-mail informado pelo usuário"
   ]
  },
  {
   "cell_type": "code",
   "execution_count": 49,
   "metadata": {},
   "outputs": [
    {
     "name": "stdout",
     "output_type": "stream",
     "text": [
      "E-mail encontrado: lucas@example.com\n",
      "O nome não foi encontrado na agenda.\n"
     ]
    }
   ],
   "source": [
    "# Criando lista de tuplas com nome e e-mail das pessoas\n",
    "agenda = [\n",
    "    ('João', 'joao@example.com'),\n",
    "    ('Maria', 'maria@example.com'),\n",
    "    ('Pedro', 'pedro@example.com'),\n",
    "    ('Ana', 'ana@example.com'),\n",
    "    ('Lucas', 'lucas@example.com')\n",
    "]\n",
    "\n",
    "# Solicitando ao usuário um nome para buscar o e-mail\n",
    "nome = input(\"Digite um nome para buscar o e-mail: \")\n",
    "\n",
    "# Verificando se o nome está presente na agenda\n",
    "encontrado = False\n",
    "for contato in agenda:\n",
    "    if contato[0] == nome:\n",
    "        print(\"E-mail encontrado:\", contato[1])\n",
    "        encontrado = True\n",
    "        break\n",
    "\n",
    "if not encontrado:\n",
    "    print(\"O e-mail não foi encontrado na agenda.\")\n",
    "email = input(\"Digite um e-mail para buscar o nome: \")\n",
    "encontrado = False\n",
    "\n",
    "for contato in agenda:\n",
    "    if contato[1] == email:\n",
    "        print(\"Nome encontrado:\", contato[0])\n",
    "        encontrado = True\n",
    "        break\n",
    "if not encontrado:\n",
    "    print(\"O nome não foi encontrado na agenda.\")\n"
   ]
  },
  {
   "attachments": {},
   "cell_type": "markdown",
   "metadata": {},
   "source": [
    "#### 4) Crie uma lista contendo 4 objetos:\n",
    "a. Primeiro objeto: Lista contendo os nomes dos dias da semana<br>\n",
    "b. Segundo objeto: Uma tupla contendo 3 valores definidos por você<br>\n",
    "c. Terceiro objeto: Um dicionário contendo 3 pares chave-valor definidos por você<br>\n",
    "d. Quarto objeto: Um número inteiro<br>\n",
    "#### Imprima a lista na tela. Através da variável da lista, imprima o dia Domingo contido na lista. Imprima também o segundo par CHAVE-VALOR do dicionário armazenado na lista"
   ]
  },
  {
   "cell_type": "code",
   "execution_count": 51,
   "metadata": {},
   "outputs": [
    {
     "name": "stdout",
     "output_type": "stream",
     "text": [
      "[['Segunda-feira', 'Terça-feira', 'Quarta-feira', 'Quinta-feira', 'Sexta-feira', 'Sábado', 'Domingo'], ('Maçã', 10, True), {'chave1': 'valor1', 'chave2': 'valor2', 'chave3': 'valor3'}, 42]\n",
      "Domingo\n",
      "('chave2', 'valor2')\n"
     ]
    }
   ],
   "source": [
    "# Primeiro objeto: Lista contendo os nomes dos dias da semana\n",
    "dias_da_semana = ['Segunda-feira', 'Terça-feira', 'Quarta-feira', 'Quinta-feira', 'Sexta-feira', 'Sábado', 'Domingo']\n",
    "\n",
    "# Segundo objeto: Uma tupla contendo 3 valores definidos por você\n",
    "tupla_valores = ('Maçã', 10, True)\n",
    "\n",
    "# Terceiro objeto: Um dicionário contendo 3 pares chave-valor definidos por você\n",
    "dicionario_valores = {'chave1': 'valor1', 'chave2': 'valor2', 'chave3': 'valor3'}\n",
    "\n",
    "# Quarto objeto: Um número inteiro\n",
    "numero_inteiro = 42\n",
    "\n",
    "# Criando a lista com os objetos\n",
    "Lista = [dias_da_semana, tupla_valores, dicionario_valores, numero_inteiro]\n",
    "\n",
    "# Imprimindo a lista na tela\n",
    "print(Lista)\n",
    "\n",
    "# Imprimindo o dia \"Domingo\" contido na lista\n",
    "print(Lista[0][-1])\n",
    "\n",
    "# Convertendo o dict_items em uma lista e imprimindo o segundo par CHAVE-VALOR do dicionário\n",
    "dict_items_list = list(Lista[2].items())\n",
    "print(dict_items_list[1])\n"
   ]
  },
  {
   "attachments": {},
   "cell_type": "markdown",
   "metadata": {},
   "source": [
    "#### 5) Acesse o conteúdo JSON disponível em https://jsonplaceholder.typicode.com/posts e o armazene em uma lista Python. Baseado nesses dados, imprima na tela os títulos e os posts somente do usuário de userId = 10.\n"
   ]
  },
  {
   "cell_type": "code",
   "execution_count": 52,
   "metadata": {},
   "outputs": [
    {
     "name": "stdout",
     "output_type": "stream",
     "text": [
      "Título: aut amet sed\n",
      "Post: libero voluptate eveniet aperiam sed\n",
      "sunt placeat suscipit molestias\n",
      "similique fugit nam natus\n",
      "expedita consequatur consequatur dolores quia eos et placeat\n",
      "---\n",
      "Título: ratione ex tenetur perferendis\n",
      "Post: aut et excepturi dicta laudantium sint rerum nihil\n",
      "laudantium et at\n",
      "a neque minima officia et similique libero et\n",
      "commodi voluptate qui\n",
      "---\n",
      "Título: beatae soluta recusandae\n",
      "Post: dolorem quibusdam ducimus consequuntur dicta aut quo laboriosam\n",
      "voluptatem quis enim recusandae ut sed sunt\n",
      "nostrum est odit totam\n",
      "sit error sed sunt eveniet provident qui nulla\n",
      "---\n",
      "Título: qui qui voluptates illo iste minima\n",
      "Post: aspernatur expedita soluta quo ab ut similique\n",
      "expedita dolores amet\n",
      "sed temporibus distinctio magnam saepe deleniti\n",
      "omnis facilis nam ipsum natus sint similique omnis\n",
      "---\n",
      "Título: id minus libero illum nam ad officiis\n",
      "Post: earum voluptatem facere provident blanditiis velit laboriosam\n",
      "pariatur accusamus odio saepe\n",
      "cumque dolor qui a dicta ab doloribus consequatur omnis\n",
      "corporis cupiditate eaque assumenda ad nesciunt\n",
      "---\n",
      "Título: quaerat velit veniam amet cupiditate aut numquam ut sequi\n",
      "Post: in non odio excepturi sint eum\n",
      "labore voluptates vitae quia qui et\n",
      "inventore itaque rerum\n",
      "veniam non exercitationem delectus aut\n",
      "---\n",
      "Título: quas fugiat ut perspiciatis vero provident\n",
      "Post: eum non blanditiis soluta porro quibusdam voluptas\n",
      "vel voluptatem qui placeat dolores qui velit aut\n",
      "vel inventore aut cumque culpa explicabo aliquid at\n",
      "perspiciatis est et voluptatem dignissimos dolor itaque sit nam\n",
      "---\n",
      "Título: laboriosam dolor voluptates\n",
      "Post: doloremque ex facilis sit sint culpa\n",
      "soluta assumenda eligendi non ut eius\n",
      "sequi ducimus vel quasi\n",
      "veritatis est dolores\n",
      "---\n",
      "Título: temporibus sit alias delectus eligendi possimus magni\n",
      "Post: quo deleniti praesentium dicta non quod\n",
      "aut est molestias\n",
      "molestias et officia quis nihil\n",
      "itaque dolorem quia\n",
      "---\n",
      "Título: at nam consequatur ea labore ea harum\n",
      "Post: cupiditate quo est a modi nesciunt soluta\n",
      "ipsa voluptas error itaque dicta in\n",
      "autem qui minus magnam et distinctio eum\n",
      "accusamus ratione error aut\n",
      "---\n"
     ]
    }
   ],
   "source": [
    "import requests\n",
    "import json\n",
    "\n",
    "# Faz a requisição HTTP para obter o conteúdo JSON\n",
    "response = requests.get('https://jsonplaceholder.typicode.com/posts')\n",
    "data = response.json()\n",
    "\n",
    "# Filtra os posts com userId = 10\n",
    "filtered_posts = [post for post in data if post['userId'] == 10]\n",
    "\n",
    "# Imprime os títulos e os posts\n",
    "for post in filtered_posts:\n",
    "    print('Título:', post['title'])\n",
    "    print('Post:', post['body'])\n",
    "    print('---')\n"
   ]
  },
  {
   "cell_type": "code",
   "execution_count": null,
   "metadata": {},
   "outputs": [],
   "source": []
  }
 ],
 "metadata": {
  "kernelspec": {
   "display_name": "base",
   "language": "python",
   "name": "python3"
  },
  "language_info": {
   "codemirror_mode": {
    "name": "ipython",
    "version": 3
   },
   "file_extension": ".py",
   "mimetype": "text/x-python",
   "name": "python",
   "nbconvert_exporter": "python",
   "pygments_lexer": "ipython3",
   "version": "3.9.13"
  },
  "orig_nbformat": 4,
  "vscode": {
   "interpreter": {
    "hash": "57bc2b6ce032b5f0e93daa91901b7ea38a856826ef43aa9e95b6d3999f5310df"
   }
  }
 },
 "nbformat": 4,
 "nbformat_minor": 2
}
