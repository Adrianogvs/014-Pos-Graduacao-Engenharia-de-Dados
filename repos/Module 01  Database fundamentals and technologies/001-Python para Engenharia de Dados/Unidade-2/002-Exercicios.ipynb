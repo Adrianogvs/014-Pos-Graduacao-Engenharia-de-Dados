{
 "cells": [
  {
   "cell_type": "markdown",
   "metadata": {},
   "source": [
    "## Exercicios - Python para Engnharia de Dados"
   ]
  },
  {
   "attachments": {},
   "cell_type": "markdown",
   "metadata": {},
   "source": [
    "____\n",
    "##  Estruturas de Dados - Manipulação de Strings\n",
    "..."
   ]
  },
  {
   "attachments": {},
   "cell_type": "markdown",
   "metadata": {},
   "source": [
    "##### 1) Solicite ao usuário que dihite uma frase. Imprima:\n",
    "\n",
    "- O tamanho (em caracteres) da frase;\n",
    "- A frase toda em maiúscula;\n",
    "- A frase toda em minúscula;\n",
    "- A frase na vertical(letra por letra);\n",
    "- Solicite ao usuário que informe uma posição inicial e final na frase, e imprima a parte da frase que se encontra dentro das posições informadas pelo usuário;\n",
    "- A frase em ordem inversa;\n",
    "- Solicite ao usuário que informe duas palavras. Substitua, na frase informada, a primeira palavra informada pelo usuário, pela segunda palavra informada. Armazene nova frase em uma nova variável, e imprima o conteúdo da nova variável."
   ]
  },
  {
   "cell_type": "code",
   "execution_count": 2,
   "metadata": {},
   "outputs": [
    {
     "name": "stdout",
     "output_type": "stream",
     "text": [
      "Inform uma frase qualquer:\n",
      "Aqui é Galo!\n"
     ]
    }
   ],
   "source": [
    "frase = None\n",
    "\n",
    "try:\n",
    "    frase = input(str(print(f'Inform uma frase qualquer:')))\n",
    "except ValueError:\n",
    "    print('Você deve informar um valor no formato \"str\", ou seja, string')\n",
    "\n",
    "print(frase)"
   ]
  },
  {
   "cell_type": "code",
   "execution_count": 3,
   "metadata": {},
   "outputs": [
    {
     "name": "stdout",
     "output_type": "stream",
     "text": [
      "O tamanho da frase é: 12.\n"
     ]
    }
   ],
   "source": [
    "# O tamanho (em caracteres) da frase;\n",
    "print(f'O tamanho da frase é: {len(frase)}.')"
   ]
  },
  {
   "cell_type": "code",
   "execution_count": 4,
   "metadata": {},
   "outputs": [
    {
     "name": "stdout",
     "output_type": "stream",
     "text": [
      "A frase toda em maiuscula: AQUI É GALO!\n"
     ]
    }
   ],
   "source": [
    "# A frase toda em maiúscula;\n",
    "print(f'A frase toda em maiuscula: {frase.upper()}')"
   ]
  },
  {
   "cell_type": "code",
   "execution_count": 5,
   "metadata": {},
   "outputs": [
    {
     "name": "stdout",
     "output_type": "stream",
     "text": [
      "A frase toda em minuscula aqui é galo!.\n"
     ]
    }
   ],
   "source": [
    "# A frase toda em minúscula\n",
    "print(f'A frase toda em minuscula {frase.lower()}.')"
   ]
  },
  {
   "cell_type": "code",
   "execution_count": 6,
   "metadata": {},
   "outputs": [
    {
     "name": "stdout",
     "output_type": "stream",
     "text": [
      "A\n",
      "q\n",
      "u\n",
      "i\n",
      " \n",
      "é\n",
      " \n",
      "G\n",
      "a\n",
      "l\n",
      "o\n",
      "!\n"
     ]
    }
   ],
   "source": [
    "# A frase na vertical(letra por letra);\n",
    "\n",
    "for i in frase:\n",
    "    print(i)"
   ]
  },
  {
   "cell_type": "code",
   "execution_count": 7,
   "metadata": {},
   "outputs": [
    {
     "name": "stdout",
     "output_type": "stream",
     "text": [
      "Informe a primeira posição: \n",
      "A primrira posição é 0.\n",
      "Informe a segunda posição: \n",
      "A primrira posição é 12.\n",
      "Aqui é Galo!\n"
     ]
    }
   ],
   "source": [
    "# Solicite ao usuário que informe uma posição inicial e final na frase, e imprima a parte da frase que se encontra dentro das posições informadas pelo usuário;\n",
    "\n",
    "posid1 = None\n",
    "posid2 = None\n",
    "\n",
    "try:\n",
    "    posid1 = int(input(print('Informe a primeira posição: ')))\n",
    "    print(f'A primrira posição é {posid1}.')\n",
    "    posid2 = int(input(print('Informe a segunda posição: ')))\n",
    "    print(f'A primrira posição é {posid2}.')\n",
    "except ValueError:\n",
    "    print('Informe valores inteiros.')\n",
    "\n",
    "print(f'{frase[posid1:posid2]}')"
   ]
  },
  {
   "cell_type": "code",
   "execution_count": 8,
   "metadata": {},
   "outputs": [
    {
     "name": "stdout",
     "output_type": "stream",
     "text": [
      "!olaG é iuqA\n"
     ]
    }
   ],
   "source": [
    "# A frase em ordem inversa\n",
    "print(f'{frase[::-1]}')"
   ]
  },
  {
   "cell_type": "code",
   "execution_count": 9,
   "metadata": {},
   "outputs": [
    {
     "name": "stdout",
     "output_type": "stream",
     "text": [
      "A 1ª palavra informada é: Aqui\n",
      "A 2ª palavra informada é: é\n",
      "A frase informada é: Galo.\n",
      "A frase modificada é Galo.\n"
     ]
    }
   ],
   "source": [
    "# Solicite ao usuário que informe duas palavras. Substitua, na frase informada, a primeira palavra informada pelo usuário, pela segunda palavra informada. \n",
    "# Armazene nova frase em uma nova variável, e imprima o conteúdo da nova variável.\n",
    "\n",
    "substitua = []\n",
    "for i in range(2):\n",
    "    while True:\n",
    "        palavra = input(f'Informe a {i+1}ª palavra: ')\n",
    "        if not isinstance(palavra, str):\n",
    "            print('A palavra informada não é ima string, digite novamente!')\n",
    "            continue\n",
    "        substitua.append(palavra)\n",
    "        print(f'A {i+1}ª palavra informada é: {palavra}')\n",
    "        break\n",
    "while True:\n",
    "    frase = input(f'Informe uma frase: ')\n",
    "    if not isinstance(frase, str):\n",
    "        print('A frase digitada não é uma string, digite novamente!')\n",
    "        continue\n",
    "    print(f'A frase informada é: {frase}.')\n",
    "    break\n",
    "\n",
    "frase = frase.replace(substitua[0], substitua[1])\n",
    "print(f'A frase modificada é {frase}.')\n"
   ]
  },
  {
   "attachments": {},
   "cell_type": "markdown",
   "metadata": {},
   "source": [
    "#### 2) Solicite ao usuário que digite uma frase. Em seguida, solicite ao mesmo que digite uma palavra. Imprima uma mensagem informando a quantidade de vezes em que a palavra se encontra na frase (considere que a palavra pode estar em maiúscula ou minúscula na frase)"
   ]
  },
  {
   "cell_type": "code",
   "execution_count": 1,
   "metadata": {},
   "outputs": [
    {
     "name": "stdout",
     "output_type": "stream",
     "text": [
      "Informe uma frase: \n",
      "Aqui é Galo!\n",
      "Informe uma palavra: \n",
      "a.\n",
      "A quantidade de vezes que a palavra \"a\" aparece na \"Aqui é Galo!\" é de: 2\n"
     ]
    }
   ],
   "source": [
    "frase = input(print(f'Informe uma frase: '))\n",
    "print(f'{frase}')\n",
    "palavra = input(print(f'Informe uma palavra: '))\n",
    "print(f'{palavra}.')\n",
    "print(f'A quantidade de vezes que a palavra \"{palavra}\" aparece na \"{frase}\" é de: {(frase.upper().count(palavra.upper()))}')\n"
   ]
  },
  {
   "attachments": {},
   "cell_type": "markdown",
   "metadata": {},
   "source": [
    "#### 3) Solicite ao usuário que digite uma frase. Em seguida, solicite ao mesmo que informe um caractere de maneira que a frase seja dividida em partes de acordo com o caractere informado. Imprima na tela a frase dividida."
   ]
  },
  {
   "cell_type": "code",
   "execution_count": 3,
   "metadata": {},
   "outputs": [
    {
     "name": "stdout",
     "output_type": "stream",
     "text": [
      "['Aqui é Galo!']\n"
     ]
    }
   ],
   "source": [
    "frase = input('Informe uma frase: ')\n",
    "caractere = input('Informe um caractere: ')\n",
    "print(f'{frase.split(caractere)}')\n"
   ]
  },
  {
   "attachments": {},
   "cell_type": "markdown",
   "metadata": {},
   "source": [
    "#### 4. Solicite ao usuário que digite uma palavra. Em seguida, solicite ao mesmo que informe um caractere separador, de maneira que o separador seja incluído na palavra, separando cada letra da palavra digitada."
   ]
  },
  {
   "cell_type": "code",
   "execution_count": 4,
   "metadata": {},
   "outputs": [
    {
     "name": "stdout",
     "output_type": "stream",
     "text": [
      "A-q-u-i- -é- -G-a-l-o-!\n"
     ]
    }
   ],
   "source": [
    "palavra = input('Informe uma palavra: ')\n",
    "separador = input('Informe um separador: ')\n",
    "print(separador.join(palavra))"
   ]
  },
  {
   "attachments": {},
   "cell_type": "markdown",
   "metadata": {},
   "source": [
    "#### 5. Solicite ao usuário que digite uma palavra e imprima uma mensagem informando se a palavra é ou não um palíndromo (uma palavra que se lê da mesma maneira nos dois sentidos. Por exemplo: OVO, RADAR, OSSO etc.)\n"
   ]
  },
  {
   "cell_type": "code",
   "execution_count": 18,
   "metadata": {},
   "outputs": [
    {
     "name": "stdout",
     "output_type": "stream",
     "text": [
      "Informe uma palavra palíndome, ou seja, uma palavra que se lê da mesma maneira nos dois sentidos: \n",
      "A palavra é um palíndromo!\n"
     ]
    }
   ],
   "source": [
    "frase = input(print('Informe uma palavra palíndome, ou seja, uma palavra que se lê da mesma maneira nos dois sentidos: '))\n",
    "\n",
    "palindromo = frase[::-1]\n",
    "\n",
    "if (frase == palindromo):\n",
    "        print(\"A palavra é um palíndromo!\")\n",
    "else:\n",
    "    print(\"A palavra não é um palíndromo.\")"
   ]
  }
 ],
 "metadata": {
  "kernelspec": {
   "display_name": "base",
   "language": "python",
   "name": "python3"
  },
  "language_info": {
   "codemirror_mode": {
    "name": "ipython",
    "version": 3
   },
   "file_extension": ".py",
   "mimetype": "text/x-python",
   "name": "python",
   "nbconvert_exporter": "python",
   "pygments_lexer": "ipython3",
   "version": "3.9.13 (main, Aug 25 2022, 23:51:50) [MSC v.1916 64 bit (AMD64)]"
  },
  "orig_nbformat": 4,
  "vscode": {
   "interpreter": {
    "hash": "57bc2b6ce032b5f0e93daa91901b7ea38a856826ef43aa9e95b6d3999f5310df"
   }
  }
 },
 "nbformat": 4,
 "nbformat_minor": 2
}
