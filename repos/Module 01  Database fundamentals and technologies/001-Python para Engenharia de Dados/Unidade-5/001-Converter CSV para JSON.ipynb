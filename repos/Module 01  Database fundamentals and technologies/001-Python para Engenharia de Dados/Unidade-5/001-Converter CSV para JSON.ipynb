{
 "cells": [
  {
   "cell_type": "code",
   "execution_count": 12,
   "metadata": {},
   "outputs": [],
   "source": [
    "import csv\n",
    "import json\n",
    "from unidecode import unidecode\n",
    "\n",
    "def csv_to_json(csv_path, json_path):\n",
    "    # Lê o arquivo CSV\n",
    "    with open(csv_path, 'r') as csv_file:\n",
    "        # Lê as linhas do arquivo CSV\n",
    "        csv_data = csv.DictReader(csv_file)\n",
    "        # Converte as linhas em um formato JSON\n",
    "        json_data = json.dumps([row for row in csv_data])\n",
    "    \n",
    "    # Escreve o JSON em um arquivo\n",
    "    with open(json_path, 'w') as json_file:\n",
    "        json_file.write(json_data)\n",
    "\n",
    "# Exemplo de uso\n",
    "csv_file_path = r'd:\\Users\\Administrator\\Downloads\\LOTERIA.csv'\n",
    "json_file_path = 'd:/Users/Administrator/Downloads/LOTERIA.json'\n",
    "csv_to_json(csv_file_path, json_file_path)\n"
   ]
  }
 ],
 "metadata": {
  "kernelspec": {
   "display_name": "base",
   "language": "python",
   "name": "python3"
  },
  "language_info": {
   "codemirror_mode": {
    "name": "ipython",
    "version": 3
   },
   "file_extension": ".py",
   "mimetype": "text/x-python",
   "name": "python",
   "nbconvert_exporter": "python",
   "pygments_lexer": "ipython3",
   "version": "3.9.13 (main, Aug 25 2022, 23:51:50) [MSC v.1916 64 bit (AMD64)]"
  },
  "orig_nbformat": 4,
  "vscode": {
   "interpreter": {
    "hash": "57bc2b6ce032b5f0e93daa91901b7ea38a856826ef43aa9e95b6d3999f5310df"
   }
  }
 },
 "nbformat": 4,
 "nbformat_minor": 2
}
