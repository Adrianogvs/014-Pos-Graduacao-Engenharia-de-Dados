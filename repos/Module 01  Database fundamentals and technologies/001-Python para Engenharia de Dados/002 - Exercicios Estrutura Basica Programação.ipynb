{
 "cells": [
  {
   "attachments": {},
   "cell_type": "markdown",
   "metadata": {},
   "source": [
    "## Exercicios - Python para Engnharia de Dados"
   ]
  },
  {
   "cell_type": "markdown",
   "metadata": {},
   "source": [
    "### Estrutura Condicional"
   ]
  },
  {
   "attachments": {},
   "cell_type": "markdown",
   "metadata": {},
   "source": [
    "##### 01) Faça um programa que receba dois números e mostre o maior e o menor. Emita uma mensagem, caso os dois sejam iguais"
   ]
  },
  {
   "cell_type": "code",
   "execution_count": 1,
   "metadata": {},
   "outputs": [
    {
     "name": "stdout",
     "output_type": "stream",
     "text": [
      "Valores digitados foram: (7, 7).\n",
      "Os dois números são iguais.\n"
     ]
    }
   ],
   "source": [
    "# Atribuição de valor nulo ou vazio para as variaveia n1 e n2\n",
    "n1 = None\n",
    "n2 = None\n",
    "\n",
    "# Tratativas de exceções, em que se digitar valores diferente de interiro, retorna a mensagem \"Você precisa digitar um número inteiro.\"\n",
    "try:\n",
    "    n1 = int(input('Digite o primeiro número: '))\n",
    "    n2 = int(input('Digite o segundo número: '))\n",
    "except ValueError:\n",
    "    print('Você precisa digitar um número inteiro.')\n",
    "else:\n",
    "    # Condicional, em que verifica se o valor de n1 e n2 são diferentes de valores nulos ou vazios\n",
    "    if n1 is not None and n2 is not None:\n",
    "        print(f'Valores digitados foram: {n1, n2}.')\n",
    "        \n",
    "        if n1 > n2:\n",
    "            print(f'O primeiro número é maior que o segundo número.')\n",
    "        elif n1 < n2:\n",
    "            print(f'O segundo número é maior que o primeiro número.')\n",
    "        else:\n",
    "            print(f'Os dois números são iguais.')\n",
    "    else:\n",
    "        print('Não foi possível obter os dois números.')\n"
   ]
  },
  {
   "attachments": {},
   "cell_type": "markdown",
   "metadata": {},
   "source": [
    "##### 02) Faça um programa que receba as duas notas de um aluno, calcule sua média, e que imprima a sua situação."
   ]
  },
  {
   "cell_type": "code",
   "execution_count": 2,
   "metadata": {},
   "outputs": [
    {
     "name": "stdout",
     "output_type": "stream",
     "text": [
      "Notas digitadas: 7.0 e 7.0\n",
      "A soma das notas é: 14.00.\n",
      "A media das notas é: 7.00.\n",
      "Aprovado! :-D\n"
     ]
    }
   ],
   "source": [
    "'''\n",
    "Situação:\n",
    ">= 7 -> Aprovado\n",
    "<  7 -> Reprovado\n",
    "'''\n",
    "\n",
    "nota1 = None\n",
    "nota2 = None\n",
    "\n",
    "\n",
    "try:\n",
    "    nota1 = float(input('Digite a primeira nota: '))\n",
    "    nota2 = float(input('Digite a primeira nota: '))\n",
    "except ValueError:\n",
    "    print('Você precisa digitar um numero inteiro ou decimal.')\n",
    "else:\n",
    "    if nota1 and nota2 is not None:\n",
    "        print(f'Notas digitadas: {nota1} e {nota2}')\n",
    "        media = (nota1 + nota2) / 2\n",
    "\n",
    "        print(f'A soma das notas é: {nota1 + nota2:.2f}.')\n",
    "        print(f'A media das notas é: {media:.2f}.')\n",
    "\n",
    "        if media >= 7:\n",
    "            print('Aprovado! :-D')\n",
    "        else:\n",
    "            print('Reprovado! ;-(')\n",
    "        \n",
    "    else:\n",
    "        print('Não foi possível obter os dois números.')"
   ]
  },
  {
   "attachments": {},
   "cell_type": "markdown",
   "metadata": {},
   "source": [
    "##### 03) Faça um programa que receba 3 notas de um aluno, calcule e mostre uma mensagem de acordo com sua média apresentada na tabela abaixo:\n",
    "\n",
    "| Média | Mensagem |\n",
    "|---|---|\n",
    "| >= 0 e < 3 | Reprovado|\n",
    "| >= 3 e < 7 | Exame|\n",
    "| >= 7 e <= 10 | Aprovado|"
   ]
  },
  {
   "cell_type": "code",
   "execution_count": 3,
   "metadata": {},
   "outputs": [
    {
     "name": "stdout",
     "output_type": "stream",
     "text": [
      "As notas digitadas foram: (7.0, 7.0, 7.0).\n",
      "A soma destas tres notas são: 21.0.\n",
      "A media desta três notas são: 7.00.\n",
      "Aprovado! :-D\n"
     ]
    }
   ],
   "source": [
    "n1 = n2 = n3 = None\n",
    "\n",
    "try:\n",
    "    n1 = float(input('Digite a primeira nota: '))\n",
    "    n2 = float(input('Digite a segunda nota: '))\n",
    "    n3 = float(input('Digite a terceira nota: '))\n",
    "except ValueError:\n",
    "    print('Você precisa digitar um numero inteiro ou decimal.')\n",
    "else:\n",
    "    if n1 and n2 and n3 is not None:\n",
    "        print(f'As notas digitadas foram: {n1, n2, n3}.')\n",
    "        print(f'A soma destas tres notas são: {n1 + n2 + n3}.')\n",
    "        print(f'A media desta três notas são: {(n1 + n2 + n3)/3:.2f}.')\n",
    "\n",
    "        if (n1 + n2 + n3)/3 >= 0 and (n1 + n2 + n3)/3 < 3:\n",
    "            print('Reprovado! ;-(')\n",
    "        elif (n1 + n2 + n3)/3 >= 3 and (n1 + n2 + n3)/3 < 7:\n",
    "            print('Exame! :-|')\n",
    "        else:\n",
    "            print('Aprovado! :-D')\n",
    "    else:\n",
    "        print('Não foi possível obter os tres números.')"
   ]
  },
  {
   "attachments": {},
   "cell_type": "markdown",
   "metadata": {},
   "source": [
    "##### 04) Dados três valores X,Y,Z, verificar se eles podem ser os comprimentos dos lados de um triângulo. Se eles não formarem um triângulo escrever uma mensagem. Considerar que o comprimento de cada lado de um triângulo é menor que a soma dos outros dois lados."
   ]
  },
  {
   "cell_type": "code",
   "execution_count": 4,
   "metadata": {},
   "outputs": [
    {
     "name": "stdout",
     "output_type": "stream",
     "text": [
      "É possível formar um triangulo.\n"
     ]
    }
   ],
   "source": [
    "x = y = z = None\n",
    "\n",
    "try:\n",
    "    x = float(input('Digite a primeira nota: '))\n",
    "    y = float(input('Digite a segunda nota: '))\n",
    "    z = float(input('Digite a terceira nota: '))\n",
    "except ValueError:\n",
    "    print('Você precisa digitar um numero inteiro ou decimal.')\n",
    "else:\n",
    "    if x < (y + z) and y < (x + z) and z < (x + y):\n",
    "        print('É possível formar um triangulo.')\n",
    "    else:\n",
    "        print('Não é possível formar um triangulo.')"
   ]
  },
  {
   "attachments": {},
   "cell_type": "markdown",
   "metadata": {},
   "source": [
    "#### 5) Faça um programa que leia o sexo e a altura (H - em metros) de uma pessoa, calcule e apresente seu peso ideal utilizando as seguintes fórmulas:\n",
    "Peso ideal (homens) = (72,7 * H) – 58.<br>\n",
    "Peso ideal (mulheres) = (62,1 * H) – 44,7<br>\n",
    "\n",
    "Sugestão: para identificar o sexo da pessoa, solicite ao usuário que informe\n",
    "1 para homens, e 2 para mulheres\n"
   ]
  },
  {
   "cell_type": "code",
   "execution_count": 5,
   "metadata": {},
   "outputs": [
    {
     "name": "stdout",
     "output_type": "stream",
     "text": [
      "O peso ideal é: 450.90\n"
     ]
    }
   ],
   "source": [
    "sexo = altura = peso = None\n",
    "\n",
    "try:\n",
    "    sexo = int(input('Informe o número 1 para sexo Masculino e 2 para sexo Feminino: '))\n",
    "    altura = float(input('Informe a sua altura: '))\n",
    "    peso = float(input('Informe o seu peso: '))\n",
    "except ValueError:\n",
    "     print('Você precisa digitar numero interio para sexo e numeros decimais para altura e peso.')\n",
    "else:      \n",
    "    if sexo == 1:\n",
    "        print(f'O peso ideal é: {(72.7 * altura) - 58:.2f}')\n",
    "    else:\n",
    "        print(f'O peso ideal é: {(62.1 * altura) - 44.7:.2f}')"
   ]
  },
  {
   "attachments": {},
   "cell_type": "markdown",
   "metadata": {},
   "source": [
    "#### 6) Construa um programa para determinar se o indivíduo está com um peso favorável. \n",
    "Essa situação é determinada através do IMC (Índice de Massa Corpórea), que é definida como sendo a relação entre o peso (PESO – em kg) e o quadrado da Altura (ALTURA – em m) do indivíduo. Ou seja, IMC= PESO/ALTURA2 e, a situação do peso é determinada pela tabela abaixo:\n",
    "\n",
    "| Condição | Situação |\n",
    "|---|---|\n",
    "|MC abaixo de 20| Abaixo do peso|\n",
    "|IMC de 20 até 25| Peso Normal|\n",
    "|IMC de 25 até 30| Sobre Peso|\n",
    "|IMC de 30 até 40| Obeso|\n",
    "|IMC de 40 e acima| Obeso Mórbido|"
   ]
  },
  {
   "cell_type": "code",
   "execution_count": 6,
   "metadata": {},
   "outputs": [
    {
     "name": "stdout",
     "output_type": "stream",
     "text": [
      "Seu IMC é 31.26, você está na condição de: Obeso.\n"
     ]
    }
   ],
   "source": [
    "peso = altura = None\n",
    "\n",
    "try:\n",
    "    altura = float(input('Informe a sua altura: '))\n",
    "    peso = float(input('Informe o seu peso: '))\n",
    "except ValueError:\n",
    "     print('Você precisa digitar numeros decimais para peso e altura.')\n",
    "else:  \n",
    "    imc = peso/(altura**2)    \n",
    "    if imc < 20:\n",
    "        print(f'Seu IMC é {imc:.2f}, você está na condição de: Abaixo do peso.')\n",
    "    elif imc >= 20 and imc < 25:\n",
    "        print(f'Seu IMC é {imc:.2f}, você está na condição de: Peso Normal.')\n",
    "    elif imc >= 25 and imc < 30:\n",
    "        print(f'Seu IMC é {imc:.2f}, você está na condição de: Sobre Peso.')\n",
    "    elif imc >= 30 and imc < 40:\n",
    "        print(f'Seu IMC é {imc:.2f}, você está na condição de: Obeso.')\n",
    "    else:\n",
    "        print(f'Seu IMC é {imc:.2f}, você está na condição de: Obeso Morbido.')"
   ]
  },
  {
   "attachments": {},
   "cell_type": "markdown",
   "metadata": {},
   "source": [
    "#### 7) Uma empresa decide dar aumento de 30% aos funcionários com salários inferiores a R$1000,00. \n",
    "Faça um programa que receba o salário do funcionário e mostre o valor do salário reajustado ou uma mensagem, caso o funcionário não tenha direito ao aumento."
   ]
  },
  {
   "cell_type": "code",
   "execution_count": 7,
   "metadata": {},
   "outputs": [
    {
     "name": "stdout",
     "output_type": "stream",
     "text": [
      "O salario foi reajustado de R$107.00 para R$139.10, ou seja, você tem um aumento de 30%.\n"
     ]
    }
   ],
   "source": [
    "salario_minimo = 1000.00\n",
    "salario_recebido = None\n",
    "\n",
    "try:\n",
    "    salario_recebido = float(input('Informe o seu peso: '))\n",
    "except ValueError:\n",
    "     print('Você precisa digitar número decimal.')\n",
    "else:\n",
    "     reajuste = salario_recebido + (salario_recebido *0.30)\n",
    "\n",
    "     if salario_recebido < salario_minimo:\n",
    "          print(f'O salario foi reajustado de R${salario_recebido:.2f} para R${reajuste:.2f}, ou seja, você tem um aumento de 30%.')\n",
    "     else:\n",
    "          print('Seu salario é igual ou maior que R$1.000,00, ou seja, não tem direito ao reajuste salarial.')"
   ]
  },
  {
   "attachments": {},
   "cell_type": "markdown",
   "metadata": {},
   "source": [
    "#### 8) Faça um programa que receba a idade de um nadador e mostre a sua categoria:\n",
    "\n",
    "| Idade | Categoria |\n",
    "|---|---|\n",
    "|até 7 anos |INFANTIL|\n",
    "|8 a 10 anos |JUVENIL|\n",
    "|11 a 15 anos |ADOLESCENTE|\n",
    "|16 a 30 anos |ADULTO|\n",
    "|acima de 30 anos |SENIOR|\n"
   ]
  },
  {
   "cell_type": "code",
   "execution_count": 8,
   "metadata": {},
   "outputs": [
    {
     "name": "stdout",
     "output_type": "stream",
     "text": [
      "SENIOR\n"
     ]
    }
   ],
   "source": [
    "idade = None\n",
    "\n",
    "try:\n",
    "    idade = int(input('Informe a sua idade: '))\n",
    "except ValueError:\n",
    "    print('Você precisa digitar número decimal.')\n",
    "else:\n",
    "    if idade <= 7:\n",
    "        print('INFANTIL')\n",
    "    elif idade <= 10:\n",
    "        print('JUVENIL')\n",
    "    elif idade <= 15:\n",
    "        print('ADOLESCENTE')\n",
    "    elif idade <= 30:\n",
    "        print('ADULTO')\n",
    "    else:\n",
    "        print('SENIOR')"
   ]
  },
  {
   "attachments": {},
   "cell_type": "markdown",
   "metadata": {},
   "source": [
    "#### 9) Faça um programa que leia a idade de uma pessoa e informe a sua classe eleitoral:\n",
    "- não eleitor (abaixo de 16 anos);\n",
    "- eleitor obrigatório (entre a faixa de 18 e menor de 65 anos);\n",
    "- eleitor facultativo (de 16 até 18 anos e maior de 65 anos, inclusive)"
   ]
  },
  {
   "cell_type": "code",
   "execution_count": 9,
   "metadata": {},
   "outputs": [
    {
     "name": "stdout",
     "output_type": "stream",
     "text": [
      "Eleitor obrigatório!\n"
     ]
    }
   ],
   "source": [
    "idade = None\n",
    "\n",
    "try:\n",
    "    idade = int(input('Digite '))\n",
    "except ValueError:\n",
    "    print('Você precisa digitar número decimal!')\n",
    "else:\n",
    "    if idade < 16:\n",
    "        print('Não eleitor.')\n",
    "    elif idade >= 18 and idade < 65:\n",
    "        print('Eleitor obrigatório!')\n",
    "    else:\n",
    "        print('Eleitor facultativo!')"
   ]
  },
  {
   "attachments": {},
   "cell_type": "markdown",
   "metadata": {},
   "source": [
    "#### 10) Faça um programa que leia o um número inteiro entre 1 e 7 e escreva o dia da semana correspondente. \n",
    "Caso o usuário digite um número fora desse intervalo, deverá aparecer uma mensagem informando que não existe dia da semana com esse número."
   ]
  },
  {
   "cell_type": "code",
   "execution_count": 10,
   "metadata": {},
   "outputs": [
    {
     "name": "stdout",
     "output_type": "stream",
     "text": [
      "Domingo\n"
     ]
    }
   ],
   "source": [
    "dia_semana = None\n",
    "try:\n",
    "    dia_semana = int(input('Digite o dia da semana'))\n",
    "except ValueError:\n",
    "    print('Você precisa digitar um número inteiro.')\n",
    "else:\n",
    "    if dia_semana == 1:\n",
    "        print('Domingo')\n",
    "    elif dia_semana == 2:\n",
    "         print('Segunda-feira')\n",
    "    elif dia_semana == 3:\n",
    "         print('Terça-feira')\n",
    "    elif dia_semana == 4:\n",
    "         print('Quarta-feira')\n",
    "    elif dia_semana == 5:\n",
    "         print('Quinta-feira')\n",
    "    elif dia_semana == 6:\n",
    "         print('Sexta-feira')\n",
    "    elif dia_semana == 7:\n",
    "         print('Sábado')\n",
    "    else:\n",
    "         print('Não existe dia da semana com esse número')\n",
    "         "
   ]
  },
  {
   "attachments": {},
   "cell_type": "markdown",
   "metadata": {},
   "source": [
    "#### 11) Faça um programa que leia um número inteiro entre 1 e 12 e escrever o mês correspondente. \n",
    "Caso o usuário digite um número fora desse intervalo, deverá aparecer uma mensagem informando que não existe mês com este número."
   ]
  },
  {
   "cell_type": "code",
   "execution_count": 11,
   "metadata": {},
   "outputs": [
    {
     "name": "stdout",
     "output_type": "stream",
     "text": [
      "Dezembro\n"
     ]
    }
   ],
   "source": [
    "mes_atual = None\n",
    "\n",
    "try:\n",
    "    mes_atual = int(input('Informe o numero de 1 a 12: '))\n",
    "    if mes_atual < 1 or mes_atual > 12:\n",
    "        raise ValueError()\n",
    "except ValueError:\n",
    "    print('Você deve digita um número inteiro entre 1 e 12.')\n",
    "else:\n",
    "    if mes_atual == 1:\n",
    "        print('Janeiro')\n",
    "    elif mes_atual == 2:\n",
    "        print('Fevereiro')\n",
    "    elif mes_atual == 3:\n",
    "        print('Março')\n",
    "    elif mes_atual == 4:\n",
    "        print('Abril')\n",
    "    elif mes_atual == 5:\n",
    "        print('Maio')\n",
    "    elif mes_atual == 6:\n",
    "        print('Junho')\n",
    "    elif mes_atual == 7:\n",
    "        print('Julho')\n",
    "    elif mes_atual == 8:\n",
    "        print('Agosto')\n",
    "    elif mes_atual == 9:\n",
    "        print('Setembro')\n",
    "    elif mes_atual == 10:\n",
    "        print('Outubro')\n",
    "    elif mes_atual == 11:\n",
    "        print('Novembro')\n",
    "    else:\n",
    "        print('Dezembro')"
   ]
  },
  {
   "attachments": {},
   "cell_type": "markdown",
   "metadata": {},
   "source": [
    "#### 12) Faça um programa que solicite ao usuário que informe dois números e que exiba o seguinte menu:\n",
    "| Opção | Operação |\n",
    "|---|---|\n",
    "|1 | Somar|\n",
    "|2 | Subtrair|\n",
    "|3 | Multiplicar|\n",
    "|4 | Dividir|\n",
    "|5 | Sair|\n",
    "\n",
    "#### Em seguida, leia a opção escolhida e exiba o resultado de acordo com a opção.\n"
   ]
  },
  {
   "cell_type": "code",
   "execution_count": 12,
   "metadata": {},
   "outputs": [
    {
     "name": "stdout",
     "output_type": "stream",
     "text": [
      "A soma de 2 por 7 é: 9.\n"
     ]
    }
   ],
   "source": [
    "n1 = n2 = opcao = None\n",
    "\n",
    "try:\n",
    "    opcao = int(input('Escolha uma opção de 1 a 5: '))\n",
    "    if opcao < 1 or opcao > 5:\n",
    "        raise ValueError()\n",
    "except ValueError:\n",
    "    print('Você deve digita um número inteiro entre 1 e 5.')\n",
    "else:\n",
    "    try:\n",
    "        n1 = int(input('informe um numero inteiro qualquer: '))\n",
    "        n2 = int(input('Informe outro número inteiro qualquer:'))\n",
    "    except ValueError:\n",
    "        print('Você deve digitar um número inteiro valido!')\n",
    "    else:\n",
    "        if opcao == 1:\n",
    "            soma = n1 + n2\n",
    "            print(f'A soma de {n1} por {n2} é: {soma}.')\n",
    "        elif opcao == 2:\n",
    "            subtracao = n1 - n2\n",
    "            print(f'A substração de {n1} por {n2} é: {subtracao}.')\n",
    "        elif opcao == 3:\n",
    "            multiplicar = n1 * n2\n",
    "            print(f'A multiplicação de {n1} por {n2} é: {multiplicar}.')\n",
    "        elif opcao == 4:\n",
    "            try:\n",
    "                dividir = n1 / n2\n",
    "            except ZeroDivisionError:\n",
    "                print('Não existe divisão por zero.')\n",
    "            else:\n",
    "                print(f'A divisão de {n1} por {n2} é: {dividir}.')\n",
    "        else:\n",
    "            print('Opção inválida.')"
   ]
  },
  {
   "attachments": {},
   "cell_type": "markdown",
   "metadata": {},
   "source": [
    "#### 13) Faça um programa para resolver equações de segundo grau (ax² + bx + c = 0)\n",
    "▲ = b² - 4 * a * c\n",
    "1. ▲ < 0 Não existe raiz real\n",
    "2. ▲ = 0 Existe somente uma raiz real\n",
    "3. ▲ > 0 Existem duas raízes reais<br>\n",
    "        x¹ = (-b + sqrt(▲) / (2 * a))<br>\n",
    "        x² = (-b - sqrt(▲) / (2 * a))"
   ]
  },
  {
   "cell_type": "code",
   "execution_count": 20,
   "metadata": {},
   "outputs": [
    {
     "name": "stdout",
     "output_type": "stream",
     "text": [
      "Existem duas raízes reais: x1=-0.30 e x2=-6.70\n"
     ]
    }
   ],
   "source": [
    "from math import sqrt\n",
    "\n",
    "a = None\n",
    "b = None\n",
    "c = None\n",
    "\n",
    "try:\n",
    "    a = float(input(\"Digite o valor de a: \"))\n",
    "    b = float(input(\"Digite o valor de b: \"))\n",
    "    c = float(input(\"Digite o valor de c: \"))\n",
    "except ValueError:\n",
    "    print('Digite um valor válido, sendo inteiro ou decimal.')\n",
    "else:\n",
    "    delta = b ** 2 - 4 * a * c\n",
    "\n",
    "    if delta < 0:\n",
    "        print(\"Não existe raiz real.\")\n",
    "    elif delta == 0:\n",
    "        x = -b / (2 * a)\n",
    "        print(f\"Só existe uma raiz real: {x:.2f}\")\n",
    "    else:\n",
    "        x1 = (-b + sqrt(delta)) / (2 * a)\n",
    "        x2 = (-b - sqrt(delta)) / (2 * a)\n",
    "        print(f\"Existem duas raízes reais: x1={x1:.2f} e x2={x2:.2f}\")\n"
   ]
  },
  {
   "attachments": {},
   "cell_type": "markdown",
   "metadata": {},
   "source": [
    "### Estrutura Sequencial"
   ]
  },
  {
   "attachments": {},
   "cell_type": "markdown",
   "metadata": {},
   "source": [
    "#### 1) Leia três números inteiros e imprima a média aritmética entre esses números."
   ]
  },
  {
   "cell_type": "code",
   "execution_count": 23,
   "metadata": {},
   "outputs": [],
   "source": [
    "n1 = n2 = n3 = None\n",
    "\n",
    "try:\n",
    "    n1 = int(input('Informe o primeiro número: '))\n",
    "    n2 = int(input('Informe o Segundo número: '))\n",
    "    n3 = int(input('Informe o Terceiro número: '))\n",
    "except ValueError:\n",
    "    print('Digite números inteiros:')"
   ]
  }
 ],
 "metadata": {
  "kernelspec": {
   "display_name": "base",
   "language": "python",
   "name": "python3"
  },
  "language_info": {
   "codemirror_mode": {
    "name": "ipython",
    "version": 3
   },
   "file_extension": ".py",
   "mimetype": "text/x-python",
   "name": "python",
   "nbconvert_exporter": "python",
   "pygments_lexer": "ipython3",
   "version": "3.9.13"
  },
  "orig_nbformat": 4,
  "vscode": {
   "interpreter": {
    "hash": "57bc2b6ce032b5f0e93daa91901b7ea38a856826ef43aa9e95b6d3999f5310df"
   }
  }
 },
 "nbformat": 4,
 "nbformat_minor": 2
}
