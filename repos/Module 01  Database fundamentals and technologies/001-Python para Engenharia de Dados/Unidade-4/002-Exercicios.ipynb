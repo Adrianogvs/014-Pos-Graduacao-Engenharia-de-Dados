{
 "cells": [
  {
   "cell_type": "markdown",
   "metadata": {},
   "source": [
    "## Exercicios - Python para Engnharia de Dados"
   ]
  },
  {
   "attachments": {},
   "cell_type": "markdown",
   "metadata": {},
   "source": [
    "____\n",
    "\n",
    "### Trabalhando com Pandas\n",
    "..."
   ]
  },
  {
   "attachments": {},
   "cell_type": "markdown",
   "metadata": {},
   "source": [
    "Importe, para um dataframe Pandas, o conteúdo do arquivo jogadores.csv <br>\n",
    "Mostre o conteúdo do dataframe criado<br>\n",
    "Remova do dataframe os jogadores que possuem o salário nulo<br>\n",
    "Crie, no dataframe, uma nova coluna, salario_anual, contendo o salário anual de todos os jogadores<br>\n",
    "Atualize o nome dos jogadores, passando todos os caracteres para maiúsculo<br>\n",
    "Mostre os dados estatísticos dos valores numéricos do dataframe (comando describe).<br>\n",
    "Descreva as informações sobre os salários dos jogadores, obtidas através desses dados.<br>\n",
    "Faça consultas no dataframe para exibir:\n",
    "- Nome e time dos jogadores que possuem salário acima de R$ 200000,00\n",
    "- Nome e salário dos jogadores dos times de Minas Gerais (estado MG)\n",
    "- Nome e time dos jogadores cujo nome contenha a letra 'u'\n",
    "- Nome, salário e time dos jogadores, ordenados pelo salário em ordem decrescente\n",
    "- Nome, salário e time dos jogadores, ordenados pelo nome do time em ordem crescente, e em seguida pelo salário em ordem decrescente\n",
    "- A quantidade de jogadores por time\n",
    "- A média salarial por time<br>\n",
    "\n",
    "Exporte o conteúdo do dataframe para um novo arquivo CSV, nomeado novo_time.csv<br>\n",
    "Gere um gráfico de barras exibindo a quantidade de jogadores por posição<br>\n"
   ]
  },
  {
   "cell_type": "code",
   "execution_count": 2,
   "metadata": {},
   "outputs": [
    {
     "data": {
      "text/html": [
       "<div>\n",
       "<style scoped>\n",
       "    .dataframe tbody tr th:only-of-type {\n",
       "        vertical-align: middle;\n",
       "    }\n",
       "\n",
       "    .dataframe tbody tr th {\n",
       "        vertical-align: top;\n",
       "    }\n",
       "\n",
       "    .dataframe thead th {\n",
       "        text-align: right;\n",
       "    }\n",
       "</style>\n",
       "<table border=\"1\" class=\"dataframe\">\n",
       "  <thead>\n",
       "    <tr style=\"text-align: right;\">\n",
       "      <th></th>\n",
       "      <th>salario</th>\n",
       "    </tr>\n",
       "  </thead>\n",
       "  <tbody>\n",
       "    <tr>\n",
       "      <th>count</th>\n",
       "      <td>4.00000</td>\n",
       "    </tr>\n",
       "    <tr>\n",
       "      <th>mean</th>\n",
       "      <td>312500.00000</td>\n",
       "    </tr>\n",
       "    <tr>\n",
       "      <th>std</th>\n",
       "      <td>359107.69044</td>\n",
       "    </tr>\n",
       "    <tr>\n",
       "      <th>min</th>\n",
       "      <td>100000.00000</td>\n",
       "    </tr>\n",
       "    <tr>\n",
       "      <th>25%</th>\n",
       "      <td>137500.00000</td>\n",
       "    </tr>\n",
       "    <tr>\n",
       "      <th>50%</th>\n",
       "      <td>150000.00000</td>\n",
       "    </tr>\n",
       "    <tr>\n",
       "      <th>75%</th>\n",
       "      <td>325000.00000</td>\n",
       "    </tr>\n",
       "    <tr>\n",
       "      <th>max</th>\n",
       "      <td>850000.00000</td>\n",
       "    </tr>\n",
       "  </tbody>\n",
       "</table>\n",
       "</div>"
      ],
      "text/plain": [
       "            salario\n",
       "count       4.00000\n",
       "mean   312500.00000\n",
       "std    359107.69044\n",
       "min    100000.00000\n",
       "25%    137500.00000\n",
       "50%    150000.00000\n",
       "75%    325000.00000\n",
       "max    850000.00000"
      ]
     },
     "execution_count": 2,
     "metadata": {},
     "output_type": "execute_result"
    }
   ],
   "source": [
    "import pandas as pd\n",
    "import urllib.request\n",
    "\n",
    "file_url = 'https://github.com/Adrianogvs/014-Pos-Graduacao-Engenharia-de-Dados/raw/main/data/jogadores.csv'\n",
    "file_path = 'jogadores.csv'\n",
    "\n",
    "# Baixar o arquivo CSV\n",
    "urllib.request.urlretrieve(file_url, file_path)\n",
    "\n",
    "# Ler o arquivo CSV\n",
    "jogador = pd.read_csv(file_path, encoding='utf-8', delimiter=';')\n",
    "jogador.describe()\n"
   ]
  },
  {
   "cell_type": "code",
   "execution_count": 4,
   "metadata": {},
   "outputs": [
    {
     "data": {
      "text/html": [
       "<div>\n",
       "<style scoped>\n",
       "    .dataframe tbody tr th:only-of-type {\n",
       "        vertical-align: middle;\n",
       "    }\n",
       "\n",
       "    .dataframe tbody tr th {\n",
       "        vertical-align: top;\n",
       "    }\n",
       "\n",
       "    .dataframe thead th {\n",
       "        text-align: right;\n",
       "    }\n",
       "</style>\n",
       "<table border=\"1\" class=\"dataframe\">\n",
       "  <thead>\n",
       "    <tr style=\"text-align: right;\">\n",
       "      <th></th>\n",
       "      <th>jogador</th>\n",
       "      <th>time</th>\n",
       "      <th>posicao</th>\n",
       "      <th>salario</th>\n",
       "    </tr>\n",
       "  </thead>\n",
       "  <tbody>\n",
       "    <tr>\n",
       "      <th>0</th>\n",
       "      <td>Everson</td>\n",
       "      <td>Atlético</td>\n",
       "      <td>Goleiro</td>\n",
       "      <td>150000.0</td>\n",
       "    </tr>\n",
       "    <tr>\n",
       "      <th>1</th>\n",
       "      <td>Incrível Hulk</td>\n",
       "      <td>Atlético</td>\n",
       "      <td>Atacante</td>\n",
       "      <td>850000.0</td>\n",
       "    </tr>\n",
       "    <tr>\n",
       "      <th>2</th>\n",
       "      <td>Fábio</td>\n",
       "      <td>Cruzeiro</td>\n",
       "      <td>Goleiro</td>\n",
       "      <td>100000.0</td>\n",
       "    </tr>\n",
       "    <tr>\n",
       "      <th>3</th>\n",
       "      <td>Edu</td>\n",
       "      <td>Cruzeiro</td>\n",
       "      <td>Atacante</td>\n",
       "      <td>150000.0</td>\n",
       "    </tr>\n",
       "    <tr>\n",
       "      <th>4</th>\n",
       "      <td>Diego Tardeli</td>\n",
       "      <td>NaN</td>\n",
       "      <td>Atacante</td>\n",
       "      <td>NaN</td>\n",
       "    </tr>\n",
       "  </tbody>\n",
       "</table>\n",
       "</div>"
      ],
      "text/plain": [
       "         jogador      time   posicao   salario\n",
       "0        Everson  Atlético   Goleiro  150000.0\n",
       "1  Incrível Hulk  Atlético  Atacante  850000.0\n",
       "2          Fábio  Cruzeiro   Goleiro  100000.0\n",
       "3            Edu  Cruzeiro  Atacante  150000.0\n",
       "4  Diego Tardeli       NaN  Atacante       NaN"
      ]
     },
     "execution_count": 4,
     "metadata": {},
     "output_type": "execute_result"
    }
   ],
   "source": [
    "# Mostre o conteúdo do dataframe criado\n",
    "jogador"
   ]
  },
  {
   "cell_type": "code",
   "execution_count": 13,
   "metadata": {},
   "outputs": [
    {
     "data": {
      "text/html": [
       "<div>\n",
       "<style scoped>\n",
       "    .dataframe tbody tr th:only-of-type {\n",
       "        vertical-align: middle;\n",
       "    }\n",
       "\n",
       "    .dataframe tbody tr th {\n",
       "        vertical-align: top;\n",
       "    }\n",
       "\n",
       "    .dataframe thead th {\n",
       "        text-align: right;\n",
       "    }\n",
       "</style>\n",
       "<table border=\"1\" class=\"dataframe\">\n",
       "  <thead>\n",
       "    <tr style=\"text-align: right;\">\n",
       "      <th></th>\n",
       "      <th>jogador</th>\n",
       "      <th>time</th>\n",
       "      <th>posicao</th>\n",
       "      <th>salario</th>\n",
       "    </tr>\n",
       "  </thead>\n",
       "  <tbody>\n",
       "    <tr>\n",
       "      <th>0</th>\n",
       "      <td>Everson</td>\n",
       "      <td>Atlético</td>\n",
       "      <td>Goleiro</td>\n",
       "      <td>150000.0</td>\n",
       "    </tr>\n",
       "    <tr>\n",
       "      <th>1</th>\n",
       "      <td>Incrível Hulk</td>\n",
       "      <td>Atlético</td>\n",
       "      <td>Atacante</td>\n",
       "      <td>850000.0</td>\n",
       "    </tr>\n",
       "    <tr>\n",
       "      <th>2</th>\n",
       "      <td>Fábio</td>\n",
       "      <td>Cruzeiro</td>\n",
       "      <td>Goleiro</td>\n",
       "      <td>100000.0</td>\n",
       "    </tr>\n",
       "    <tr>\n",
       "      <th>3</th>\n",
       "      <td>Edu</td>\n",
       "      <td>Cruzeiro</td>\n",
       "      <td>Atacante</td>\n",
       "      <td>150000.0</td>\n",
       "    </tr>\n",
       "  </tbody>\n",
       "</table>\n",
       "</div>"
      ],
      "text/plain": [
       "         jogador      time   posicao   salario\n",
       "0        Everson  Atlético   Goleiro  150000.0\n",
       "1  Incrível Hulk  Atlético  Atacante  850000.0\n",
       "2          Fábio  Cruzeiro   Goleiro  100000.0\n",
       "3            Edu  Cruzeiro  Atacante  150000.0"
      ]
     },
     "execution_count": 13,
     "metadata": {},
     "output_type": "execute_result"
    }
   ],
   "source": [
    "# Remova do dataframe os jogadores que possuem o salário nulo\n",
    "jogador = jogador.dropna(subset=['salario'])\n",
    "jogador\n"
   ]
  },
  {
   "cell_type": "code",
   "execution_count": 16,
   "metadata": {},
   "outputs": [
    {
     "data": {
      "text/html": [
       "<div>\n",
       "<style scoped>\n",
       "    .dataframe tbody tr th:only-of-type {\n",
       "        vertical-align: middle;\n",
       "    }\n",
       "\n",
       "    .dataframe tbody tr th {\n",
       "        vertical-align: top;\n",
       "    }\n",
       "\n",
       "    .dataframe thead th {\n",
       "        text-align: right;\n",
       "    }\n",
       "</style>\n",
       "<table border=\"1\" class=\"dataframe\">\n",
       "  <thead>\n",
       "    <tr style=\"text-align: right;\">\n",
       "      <th></th>\n",
       "      <th>jogador</th>\n",
       "      <th>time</th>\n",
       "      <th>posicao</th>\n",
       "      <th>salario</th>\n",
       "      <th>salario_anual</th>\n",
       "    </tr>\n",
       "  </thead>\n",
       "  <tbody>\n",
       "    <tr>\n",
       "      <th>0</th>\n",
       "      <td>Everson</td>\n",
       "      <td>Atlético</td>\n",
       "      <td>Goleiro</td>\n",
       "      <td>150000.0</td>\n",
       "      <td>1800000.0</td>\n",
       "    </tr>\n",
       "    <tr>\n",
       "      <th>1</th>\n",
       "      <td>Incrível Hulk</td>\n",
       "      <td>Atlético</td>\n",
       "      <td>Atacante</td>\n",
       "      <td>850000.0</td>\n",
       "      <td>10200000.0</td>\n",
       "    </tr>\n",
       "    <tr>\n",
       "      <th>2</th>\n",
       "      <td>Fábio</td>\n",
       "      <td>Cruzeiro</td>\n",
       "      <td>Goleiro</td>\n",
       "      <td>100000.0</td>\n",
       "      <td>1200000.0</td>\n",
       "    </tr>\n",
       "    <tr>\n",
       "      <th>3</th>\n",
       "      <td>Edu</td>\n",
       "      <td>Cruzeiro</td>\n",
       "      <td>Atacante</td>\n",
       "      <td>150000.0</td>\n",
       "      <td>1800000.0</td>\n",
       "    </tr>\n",
       "  </tbody>\n",
       "</table>\n",
       "</div>"
      ],
      "text/plain": [
       "         jogador      time   posicao   salario  salario_anual\n",
       "0        Everson  Atlético   Goleiro  150000.0      1800000.0\n",
       "1  Incrível Hulk  Atlético  Atacante  850000.0     10200000.0\n",
       "2          Fábio  Cruzeiro   Goleiro  100000.0      1200000.0\n",
       "3            Edu  Cruzeiro  Atacante  150000.0      1800000.0"
      ]
     },
     "execution_count": 16,
     "metadata": {},
     "output_type": "execute_result"
    }
   ],
   "source": [
    "# Crie, no dataframe, uma nova coluna, salario_anual, contendo o salário anual de todos os jogadores\n",
    "jogador['salario_anual'] = jogador['salario'] * 12\n",
    "jogador"
   ]
  },
  {
   "cell_type": "code",
   "execution_count": 23,
   "metadata": {},
   "outputs": [
    {
     "data": {
      "text/html": [
       "<div>\n",
       "<style scoped>\n",
       "    .dataframe tbody tr th:only-of-type {\n",
       "        vertical-align: middle;\n",
       "    }\n",
       "\n",
       "    .dataframe tbody tr th {\n",
       "        vertical-align: top;\n",
       "    }\n",
       "\n",
       "    .dataframe thead th {\n",
       "        text-align: right;\n",
       "    }\n",
       "</style>\n",
       "<table border=\"1\" class=\"dataframe\">\n",
       "  <thead>\n",
       "    <tr style=\"text-align: right;\">\n",
       "      <th></th>\n",
       "      <th>jogador</th>\n",
       "      <th>time</th>\n",
       "      <th>posicao</th>\n",
       "      <th>salario</th>\n",
       "      <th>salario_anual</th>\n",
       "    </tr>\n",
       "  </thead>\n",
       "  <tbody>\n",
       "    <tr>\n",
       "      <th>0</th>\n",
       "      <td>EVERSON</td>\n",
       "      <td>Atlético</td>\n",
       "      <td>Goleiro</td>\n",
       "      <td>150000.0</td>\n",
       "      <td>1800000.0</td>\n",
       "    </tr>\n",
       "    <tr>\n",
       "      <th>1</th>\n",
       "      <td>INCRÍVEL HULK</td>\n",
       "      <td>Atlético</td>\n",
       "      <td>Atacante</td>\n",
       "      <td>850000.0</td>\n",
       "      <td>10200000.0</td>\n",
       "    </tr>\n",
       "    <tr>\n",
       "      <th>2</th>\n",
       "      <td>FÁBIO</td>\n",
       "      <td>Cruzeiro</td>\n",
       "      <td>Goleiro</td>\n",
       "      <td>100000.0</td>\n",
       "      <td>1200000.0</td>\n",
       "    </tr>\n",
       "    <tr>\n",
       "      <th>3</th>\n",
       "      <td>EDU</td>\n",
       "      <td>Cruzeiro</td>\n",
       "      <td>Atacante</td>\n",
       "      <td>150000.0</td>\n",
       "      <td>1800000.0</td>\n",
       "    </tr>\n",
       "  </tbody>\n",
       "</table>\n",
       "</div>"
      ],
      "text/plain": [
       "         jogador      time   posicao   salario  salario_anual\n",
       "0        EVERSON  Atlético   Goleiro  150000.0      1800000.0\n",
       "1  INCRÍVEL HULK  Atlético  Atacante  850000.0     10200000.0\n",
       "2          FÁBIO  Cruzeiro   Goleiro  100000.0      1200000.0\n",
       "3            EDU  Cruzeiro  Atacante  150000.0      1800000.0"
      ]
     },
     "execution_count": 23,
     "metadata": {},
     "output_type": "execute_result"
    }
   ],
   "source": [
    "# Atualize o nome dos jogadores, passando todos os caracteres para maiúsculo\n",
    "jogador['jogador'] = jogador['jogador'].str.upper()\n",
    "jogador"
   ]
  },
  {
   "cell_type": "code",
   "execution_count": 24,
   "metadata": {},
   "outputs": [
    {
     "name": "stdout",
     "output_type": "stream",
     "text": [
      "            salario  salario_anual\n",
      "count       4.00000   4.000000e+00\n",
      "mean   312500.00000   3.750000e+06\n",
      "std    359107.69044   4.309292e+06\n",
      "min    100000.00000   1.200000e+06\n",
      "25%    137500.00000   1.650000e+06\n",
      "50%    150000.00000   1.800000e+06\n",
      "75%    325000.00000   3.900000e+06\n",
      "max    850000.00000   1.020000e+07\n"
     ]
    }
   ],
   "source": [
    "# Mostre os dados estatísticos dos valores numéricos do dataframe (comando describe).\n",
    "print(jogador.describe())\n"
   ]
  },
  {
   "cell_type": "code",
   "execution_count": 26,
   "metadata": {},
   "outputs": [
    {
     "name": "stdout",
     "output_type": "stream",
     "text": [
      "count         4.00000\n",
      "mean     312500.00000\n",
      "std      359107.69044\n",
      "min      100000.00000\n",
      "25%      137500.00000\n",
      "50%      150000.00000\n",
      "75%      325000.00000\n",
      "max      850000.00000\n",
      "Name: salario, dtype: float64\n"
     ]
    }
   ],
   "source": [
    "# Descreva as informações sobre os salários dos jogadores, obtidas através desses dados.\n",
    "salario_info = jogador['salario'].describe()\n",
    "print(salario_info)"
   ]
  },
  {
   "cell_type": "code",
   "execution_count": 28,
   "metadata": {},
   "outputs": [
    {
     "name": "stdout",
     "output_type": "stream",
     "text": [
      "         jogador      time\n",
      "1  INCRÍVEL HULK  Atlético\n"
     ]
    }
   ],
   "source": [
    "# - Nome e time dos jogadores que possuem salário acima de R$ 200000,00\n",
    "salario_acima_200k = jogador[jogador['salario'] > 200000.00]\n",
    "print(salario_acima_200k[['jogador', 'time']])\n"
   ]
  },
  {
   "cell_type": "code",
   "execution_count": 30,
   "metadata": {},
   "outputs": [
    {
     "name": "stdout",
     "output_type": "stream",
     "text": [
      "Empty DataFrame\n",
      "Columns: [jogador, salario]\n",
      "Index: []\n"
     ]
    }
   ],
   "source": [
    "# Nome e salário dos jogadores dos times de Minas Gerais (estado MG):\n",
    "jogadores_mg = jogador[jogador['time'] == 'Minas Gerais']\n",
    "print(jogadores_mg[['jogador', 'salario']])\n"
   ]
  },
  {
   "cell_type": "code",
   "execution_count": 31,
   "metadata": {},
   "outputs": [
    {
     "name": "stdout",
     "output_type": "stream",
     "text": [
      "         jogador      time\n",
      "1  INCRÍVEL HULK  Atlético\n",
      "3            EDU  Cruzeiro\n"
     ]
    }
   ],
   "source": [
    "# Nome e time dos jogadores cujo nome contenha a letra 'u':\n",
    "jogadores_com_u = jogador[jogador['jogador'].str.contains('u', case=False)]\n",
    "print(jogadores_com_u[['jogador', 'time']])\n"
   ]
  },
  {
   "cell_type": "code",
   "execution_count": 32,
   "metadata": {},
   "outputs": [
    {
     "name": "stdout",
     "output_type": "stream",
     "text": [
      "         jogador   salario      time\n",
      "1  INCRÍVEL HULK  850000.0  Atlético\n",
      "0        EVERSON  150000.0  Atlético\n",
      "3            EDU  150000.0  Cruzeiro\n",
      "2          FÁBIO  100000.0  Cruzeiro\n"
     ]
    }
   ],
   "source": [
    "# Nome, salário e time dos jogadores, ordenados pelo salário em ordem decrescente:\n",
    "jogadores_ordem_salario = jogador.sort_values('salario', ascending=False)\n",
    "print(jogadores_ordem_salario[['jogador', 'salario', 'time']])\n"
   ]
  },
  {
   "cell_type": "code",
   "execution_count": 33,
   "metadata": {},
   "outputs": [
    {
     "name": "stdout",
     "output_type": "stream",
     "text": [
      "         jogador   salario      time\n",
      "1  INCRÍVEL HULK  850000.0  Atlético\n",
      "0        EVERSON  150000.0  Atlético\n",
      "3            EDU  150000.0  Cruzeiro\n",
      "2          FÁBIO  100000.0  Cruzeiro\n"
     ]
    }
   ],
   "source": [
    "# Nome, salário e time dos jogadores, ordenados pelo nome do time em ordem crescente, e em seguida pelo salário em ordem decrescente:\n",
    "jogadores_ordem_time_salario = jogador.sort_values(['time', 'salario'], ascending=[True, False])\n",
    "print(jogadores_ordem_time_salario[['jogador', 'salario', 'time']])\n"
   ]
  },
  {
   "cell_type": "code",
   "execution_count": 34,
   "metadata": {},
   "outputs": [
    {
     "name": "stdout",
     "output_type": "stream",
     "text": [
      "Atlético    2\n",
      "Cruzeiro    2\n",
      "Name: time, dtype: int64\n"
     ]
    }
   ],
   "source": [
    "# A quantidade de jogadores por time:\n",
    "quantidade_jogadores_time = jogador['time'].value_counts()\n",
    "print(quantidade_jogadores_time)\n"
   ]
  },
  {
   "cell_type": "code",
   "execution_count": 35,
   "metadata": {},
   "outputs": [
    {
     "name": "stdout",
     "output_type": "stream",
     "text": [
      "time\n",
      "Atlético    500000.0\n",
      "Cruzeiro    125000.0\n",
      "Name: salario, dtype: float64\n"
     ]
    }
   ],
   "source": [
    "# A média salarial por time:\n",
    "media_salario_time = jogador.groupby('time')['salario'].mean()\n",
    "print(media_salario_time)\n"
   ]
  },
  {
   "cell_type": "code",
   "execution_count": 36,
   "metadata": {},
   "outputs": [
    {
     "name": "stdout",
     "output_type": "stream",
     "text": [
      "O arquivo 'novo_time.csv' foi criado com sucesso.\n"
     ]
    }
   ],
   "source": [
    "# Exporte o conteúdo do dataframe para um novo arquivo CSV, nomeado novo_time.csv\n",
    "novo_arquivo = 'novo_time.csv'\n",
    "jogador.to_csv(novo_arquivo, index=False)\n",
    "\n",
    "print(\"O arquivo 'novo_time.csv' foi criado com sucesso.\")"
   ]
  },
  {
   "cell_type": "code",
   "execution_count": 37,
   "metadata": {},
   "outputs": [
    {
     "data": {
      "text/html": [
       "<div>\n",
       "<style scoped>\n",
       "    .dataframe tbody tr th:only-of-type {\n",
       "        vertical-align: middle;\n",
       "    }\n",
       "\n",
       "    .dataframe tbody tr th {\n",
       "        vertical-align: top;\n",
       "    }\n",
       "\n",
       "    .dataframe thead th {\n",
       "        text-align: right;\n",
       "    }\n",
       "</style>\n",
       "<table border=\"1\" class=\"dataframe\">\n",
       "  <thead>\n",
       "    <tr style=\"text-align: right;\">\n",
       "      <th></th>\n",
       "      <th>jogador</th>\n",
       "      <th>time</th>\n",
       "      <th>posicao</th>\n",
       "      <th>salario</th>\n",
       "      <th>salario_anual</th>\n",
       "    </tr>\n",
       "  </thead>\n",
       "  <tbody>\n",
       "    <tr>\n",
       "      <th>0</th>\n",
       "      <td>EVERSON</td>\n",
       "      <td>Atlético</td>\n",
       "      <td>Goleiro</td>\n",
       "      <td>150000.0</td>\n",
       "      <td>1800000.0</td>\n",
       "    </tr>\n",
       "    <tr>\n",
       "      <th>1</th>\n",
       "      <td>INCRÍVEL HULK</td>\n",
       "      <td>Atlético</td>\n",
       "      <td>Atacante</td>\n",
       "      <td>850000.0</td>\n",
       "      <td>10200000.0</td>\n",
       "    </tr>\n",
       "    <tr>\n",
       "      <th>2</th>\n",
       "      <td>FÁBIO</td>\n",
       "      <td>Cruzeiro</td>\n",
       "      <td>Goleiro</td>\n",
       "      <td>100000.0</td>\n",
       "      <td>1200000.0</td>\n",
       "    </tr>\n",
       "    <tr>\n",
       "      <th>3</th>\n",
       "      <td>EDU</td>\n",
       "      <td>Cruzeiro</td>\n",
       "      <td>Atacante</td>\n",
       "      <td>150000.0</td>\n",
       "      <td>1800000.0</td>\n",
       "    </tr>\n",
       "  </tbody>\n",
       "</table>\n",
       "</div>"
      ],
      "text/plain": [
       "         jogador      time   posicao   salario  salario_anual\n",
       "0        EVERSON  Atlético   Goleiro  150000.0      1800000.0\n",
       "1  INCRÍVEL HULK  Atlético  Atacante  850000.0     10200000.0\n",
       "2          FÁBIO  Cruzeiro   Goleiro  100000.0      1200000.0\n",
       "3            EDU  Cruzeiro  Atacante  150000.0      1800000.0"
      ]
     },
     "execution_count": 37,
     "metadata": {},
     "output_type": "execute_result"
    }
   ],
   "source": [
    "jogador"
   ]
  },
  {
   "cell_type": "code",
   "execution_count": 42,
   "metadata": {},
   "outputs": [
    {
     "data": {
      "image/png": "[encoded data removed]",
      "text/plain": [
       "<Figure size 640x480 with 1 Axes>"
      ]
     },
     "metadata": {},
     "output_type": "display_data"
    }
   ],
   "source": [
    "import matplotlib.pyplot as plt\n",
    "\n",
    "# Gere um gráfico de barras exibindo a quantidade de jogadores por posição\n",
    "# Contar a quantidade de jogadores por posição\n",
    "contagem_posicao = jogador['posicao'].value_counts()\n",
    "\n",
    "# Gerar o gráfico de barras\n",
    "contagem_posicao.plot(kind='bar')\n",
    "\n",
    "plt.xlabel('Posição')\n",
    "plt.ylabel('Quantidade de Jogadores')\n",
    "plt.title('Quantidade de Jogadores por Posição')\n",
    "\n",
    "plt.tight_layout()  # Ajusta automaticamente os espaçamentos\n",
    "plt.show()"
   ]
  },
  {
   "cell_type": "code",
   "execution_count": null,
   "metadata": {},
   "outputs": [],
   "source": []
  }
 ],
 "metadata": {
  "kernelspec": {
   "display_name": "base",
   "language": "python",
   "name": "python3"
  },
  "language_info": {
   "codemirror_mode": {
    "name": "ipython",
    "version": 3
   },
   "file_extension": ".py",
   "mimetype": "text/x-python",
   "name": "python",
   "nbconvert_exporter": "python",
   "pygments_lexer": "ipython3",
   "version": "3.9.13"
  },
  "orig_nbformat": 4,
  "vscode": {
   "interpreter": {
    "hash": "57bc2b6ce032b5f0e93daa91901b7ea38a856826ef43aa9e95b6d3999f5310df"
   }
  }
 },
 "nbformat": 4,
 "nbformat_minor": 2
}
