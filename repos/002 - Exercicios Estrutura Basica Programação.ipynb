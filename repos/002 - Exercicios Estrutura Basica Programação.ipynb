{
 "cells": [
  {
   "attachments": {},
   "cell_type": "markdown",
   "metadata": {},
   "source": [
    "## Exercicios - Python para Engnharia de Dados"
   ]
  },
  {
   "cell_type": "markdown",
   "metadata": {},
   "source": [
    "### Estrutura Condicional"
   ]
  },
  {
   "attachments": {},
   "cell_type": "markdown",
   "metadata": {},
   "source": [
    "01) Faça um programa que receba dois números e mostre o maior e o menor. Emita uma mensagem, caso os dois sejam iguais"
   ]
  },
  {
   "cell_type": "code",
   "execution_count": 1,
   "metadata": {},
   "outputs": [
    {
     "name": "stdout",
     "output_type": "stream",
     "text": [
      "Você precisa digitar um número inteiro.\n",
      "Não foi possível obter os dois números.\n"
     ]
    }
   ],
   "source": [
    "# Atribuição de valor nulo ou vazio para as variaveia n1 e n2\n",
    "n1 = None\n",
    "n2 = None\n",
    "\n",
    "# Tratativas de exceções, em que se digitar valores diferente de interiro, retorna a mensagem \"Você precisa digitar um número inteiro.\"\n",
    "try:\n",
    "    n1 = int(input('Digite o primeiro número: '))\n",
    "    n2 = int(input('Digite o segundo número: '))\n",
    "except ValueError:\n",
    "    print('Você precisa digitar um número inteiro.')\n",
    "\n",
    "# Condicional, em que verifica se o valor de n1 e n2 são diferentes de valores nulos ou vazios\n",
    "if n1 is not None and n2 is not None:\n",
    "    print(f'Valores digitados foram: {n1, n2}.')\n",
    "    \n",
    "    if n1 > n2:\n",
    "        print(f'O primeiro número é maior que o segundo número.')\n",
    "    elif n1 < n2:\n",
    "        print(f'O segundo número é maior que o primeiro número.')\n",
    "    else:\n",
    "        print(f'Os dois números são iguais.')\n",
    "else:\n",
    "    print('Não foi possível obter os dois números.')\n"
   ]
  },
  {
   "attachments": {},
   "cell_type": "markdown",
   "metadata": {},
   "source": [
    "02) Faça um programa que receba as duas notas de um aluno, calcule sua média, e que imprima a sua situação."
   ]
  },
  {
   "cell_type": "code",
   "execution_count": 2,
   "metadata": {},
   "outputs": [
    {
     "name": "stdout",
     "output_type": "stream",
     "text": [
      "Notas digitadas: 7.0 e 7.0\n",
      "A soma das notas é: 14.00.\n",
      "A media das notas é: 7.00.\n",
      "Aprovado! :-D\n"
     ]
    }
   ],
   "source": [
    "'''\n",
    "Situação:\n",
    ">= 7 -> Aprovado\n",
    "<  7 -> Reprovado\n",
    "'''\n",
    "\n",
    "nota1 = None\n",
    "nota2 = None\n",
    "\n",
    "\n",
    "try:\n",
    "    nota1 = float(input('Digite a primeira nota: '))\n",
    "    nota2 = float(input('Digite a primeira nota: '))\n",
    "except ValueError:\n",
    "    print('Você precisa digitar um numero inteiro ou decimal.')\n",
    "\n",
    "if nota1 and nota2 is not None:\n",
    "    print(f'Notas digitadas: {nota1} e {nota2}')\n",
    "    media = (nota1 + nota2) / 2\n",
    "\n",
    "    print(f'A soma das notas é: {nota1 + nota2:.2f}.')\n",
    "    print(f'A media das notas é: {media:.2f}.')\n",
    "\n",
    "    if media >= 7:\n",
    "        print('Aprovado! :-D')\n",
    "    else:\n",
    "        print('Reprovado! ;-(')\n",
    "    \n",
    "else:\n",
    "    print('Não foi possível obter os dois números.')"
   ]
  },
  {
   "attachments": {},
   "cell_type": "markdown",
   "metadata": {},
   "source": [
    "03) Faça um programa que receba 3 notas de um aluno, calcule e mostre uma mensagem de acordo com sua média apresentada na tabela abaixo:\n",
    "\n",
    "| Média | Mensagem |\n",
    "|---|---|\n",
    "| >= 0 e < 3 | Reprovado|\n",
    "| >= 3 e < 7 | Exame|\n",
    "| >= 7 e <= 10 | Aprovado|"
   ]
  },
  {
   "cell_type": "code",
   "execution_count": 3,
   "metadata": {},
   "outputs": [
    {
     "name": "stdout",
     "output_type": "stream",
     "text": [
      "As notas digitadas foram: (7.0, 7.0, 7.0).\n",
      "A soma destas tres notas são: 21.0.\n",
      "A media desta três notas são: 7.00.\n",
      "Aprovado! :-D\n"
     ]
    }
   ],
   "source": [
    "n1 = n2 = n3 = None\n",
    "\n",
    "try:\n",
    "    n1 = float(input('Digite a primeira nota: '))\n",
    "    n2 = float(input('Digite a segunda nota: '))\n",
    "    n3 = float(input('Digite a terceira nota: '))\n",
    "except ValueError:\n",
    "    print('Você precisa digitar um numero inteiro ou decimal.')\n",
    "\n",
    "if n1 and n2 and n3 is not None:\n",
    "    print(f'As notas digitadas foram: {n1, n2, n3}.')\n",
    "    print(f'A soma destas tres notas são: {n1 + n2 + n3}.')\n",
    "    print(f'A media desta três notas são: {(n1 + n2 + n3)/3:.2f}.')\n",
    "\n",
    "    if (n1 + n2 + n3)/3 >= 0 and (n1 + n2 + n3)/3 < 3:\n",
    "        print('Reprovado! ;-(')\n",
    "    elif (n1 + n2 + n3)/3 >= 3 and (n1 + n2 + n3)/3 < 7:\n",
    "        print('Exame! :-|')\n",
    "    else:\n",
    "        print('Aprovado! :-D')\n",
    "else:\n",
    "    print('Não foi possível obter os tres números.')"
   ]
  }
 ],
 "metadata": {
  "kernelspec": {
   "display_name": "base",
   "language": "python",
   "name": "python3"
  },
  "language_info": {
   "codemirror_mode": {
    "name": "ipython",
    "version": 3
   },
   "file_extension": ".py",
   "mimetype": "text/x-python",
   "name": "python",
   "nbconvert_exporter": "python",
   "pygments_lexer": "ipython3",
   "version": "3.9.13"
  },
  "orig_nbformat": 4,
  "vscode": {
   "interpreter": {
    "hash": "57bc2b6ce032b5f0e93daa91901b7ea38a856826ef43aa9e95b6d3999f5310df"
   }
  }
 },
 "nbformat": 4,
 "nbformat_minor": 2
}
